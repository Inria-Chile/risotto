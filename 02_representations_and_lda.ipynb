{
 "cells": [
  {
   "cell_type": "markdown",
   "metadata": {},
   "source": [
    "<div align='left' style=\"width:29%;overflow:hidden;\">\n",
    "<a href='http://inria.fr'>\n",
    "<img src='https://github.com/lmarti/jupyter_custom/raw/master/imgs/inr_logo_rouge.png' alt='Inria logo' title='Inria logo'/>\n",
    "</a>\n",
    "</div>"
   ]
  },
  {
   "cell_type": "markdown",
   "metadata": {},
   "source": [
    "# Representations, LDA and topics in CORD-19\n",
    "\n",
    "> Here we calculate representations of the papers based on their text content. Then, from these representations, a modeling of topics will be carried out using the LDA method. Finally, the most relevant papers for each topic will be determined using the PageRank scores of each paper."
   ]
  },
  {
   "cell_type": "code",
   "execution_count": null,
   "metadata": {},
   "outputs": [],
   "source": [
    "# default_exp lda"
   ]
  },
  {
   "cell_type": "code",
   "execution_count": null,
   "metadata": {},
   "outputs": [],
   "source": [
    "!pip install -q -r requirements.txt"
   ]
  },
  {
   "cell_type": "code",
   "execution_count": null,
   "metadata": {},
   "outputs": [],
   "source": [
    "# export\n",
    "from risotto.references import load_papers_from_metadata_file, build_papers_reference_graph, paper_as_markdown\n",
    "from fastprogress.fastprogress import progress_bar\n",
    "\n",
    "from sklearn.feature_extraction.text import CountVectorizer\n",
    "from sklearn.decomposition import LatentDirichletAllocation\n",
    "\n",
    "from pathlib import Path\n",
    "\n",
    "import scispacy\n",
    "import en_core_sci_sm\n",
    "import networkx as nx\n",
    "from collections import defaultdict\n",
    "import numpy as np"
   ]
  },
  {
   "cell_type": "markdown",
   "metadata": {},
   "source": [
    "Loading paper dataset and re-generating the graph of papers and the corresponding PageRank."
   ]
  },
  {
   "cell_type": "code",
   "execution_count": null,
   "metadata": {},
   "outputs": [],
   "source": [
    "cord19_dataset_folder = \"./datasets/CORD-19-research-challenge\""
   ]
  },
  {
   "cell_type": "code",
   "execution_count": null,
   "metadata": {},
   "outputs": [
    {
     "data": {
      "text/html": [
       "\n",
       "    <div>\n",
       "        <style>\n",
       "            /* Turns off some styling */\n",
       "            progress {\n",
       "                /* gets rid of default border in Firefox and Opera. */\n",
       "                border: none;\n",
       "                /* Needs to be in here for Safari polyfill so background images work as expected. */\n",
       "                background-size: auto;\n",
       "            }\n",
       "            .progress-bar-interrupted, .progress-bar-interrupted::-webkit-progress-bar {\n",
       "                background: #F44336;\n",
       "            }\n",
       "        </style>\n",
       "      <progress value='57366' class='' max='57366' style='width:300px; height:20px; vertical-align: middle;'></progress>\n",
       "      100.00% [57366/57366 15:45<00:00]\n",
       "    </div>\n",
       "    "
      ],
      "text/plain": [
       "<IPython.core.display.HTML object>"
      ]
     },
     "metadata": {},
     "output_type": "display_data"
    }
   ],
   "source": [
    "papers, _ = load_papers_from_metadata_file(cord19_dataset_folder)"
   ]
  },
  {
   "cell_type": "code",
   "execution_count": null,
   "metadata": {},
   "outputs": [],
   "source": [
    "G = build_papers_reference_graph(papers)"
   ]
  },
  {
   "cell_type": "code",
   "execution_count": null,
   "metadata": {},
   "outputs": [],
   "source": [
    "pageranks = nx.pagerank(G)"
   ]
  },
  {
   "cell_type": "markdown",
   "metadata": {},
   "source": [
    "## Paper representations\n",
    "\n",
    "In order to build a representation for each paper, the following libraries will be used:\n",
    "\n",
    "- spaCy: https://spacy.io/\n",
    "- scispaCy: https://allenai.github.io/scispacy/\n",
    "\n",
    "The language model named`en_core_sci_sm` will be used, which has been trained with a corpus of biomedical text with a vocabulary of more than 100.000 words.\n",
    "In case of needing a model with a larger vocabulary, there are some others available."
   ]
  },
  {
   "cell_type": "markdown",
   "metadata": {},
   "source": [
    "Loading the biomedical language pipeline."
   ]
  },
  {
   "cell_type": "code",
   "execution_count": null,
   "metadata": {},
   "outputs": [],
   "source": [
    "# export\n",
    "nlp = en_core_sci_sm.load()"
   ]
  },
  {
   "cell_type": "code",
   "execution_count": null,
   "metadata": {},
   "outputs": [
    {
     "data": {
      "text/plain": [
       "'be'"
      ]
     },
     "execution_count": null,
     "metadata": {},
     "output_type": "execute_result"
    }
   ],
   "source": [
    "# Select a paper to showcase spacy's features\n",
    "sample_paper = list(pageranks.keys())[0]\n",
    "sample_text = \"\\n\".join([ paragraph[\"text\"] for paragraph in sample_paper._file_contents[\"body_text\"]])\n",
    "sample_text\n",
    "\n",
    "doc = nlp(sample_text, disable=[\"tagger\", \"parser\", \"ner\"])\n",
    "doc[17].lemma_"
   ]
  },
  {
   "cell_type": "markdown",
   "metadata": {},
   "source": [
    "The document tokenized by the `spacy` pipeline is displayed.\n",
    "An interesting thing about using `spacy` with the pretrained language model is that it automatically computes document and token representations vectors.\n",
    "It's a pending task to find out which language model architecture it's used to compute those vectors.\n",
    "\n",
    "A relevant aspect that influences downstream tasks is the number of out-of-vocabulary (OOV) tokens.\n",
    "The following cell makes a quick inspection over a sample paper counting the number of OOV tokens.\n",
    "A continuación, se realizará una iteración sobre los tokens para detectarlos."
   ]
  },
  {
   "cell_type": "code",
   "execution_count": null,
   "metadata": {},
   "outputs": [
    {
     "name": "stdout",
     "output_type": "stream",
     "text": [
      "virus found\n",
      "virus found\n",
      "virus found\n"
     ]
    }
   ],
   "source": [
    "num_oov = 0\n",
    "for token in doc:\n",
    "    if token.is_oov and token.string != \"\\n\":\n",
    "        if token.string.endswith(\"virus\"):\n",
    "            print(token, \"not found\")\n",
    "        num_oov += 1\n",
    "    else:\n",
    "        if token.string.endswith(\"virus\"):\n",
    "            print(token, \"found\")"
   ]
  },
  {
   "cell_type": "code",
   "execution_count": null,
   "metadata": {},
   "outputs": [
    {
     "name": "stdout",
     "output_type": "stream",
     "text": [
      "Number of out of vocabulary tokens: 336 (4.801371820520148%).\n"
     ]
    }
   ],
   "source": [
    "print(f'Number of out of vocabulary tokens: {num_oov} ({100 * num_oov / len(doc)}%).')"
   ]
  },
  {
   "cell_type": "markdown",
   "metadata": {},
   "source": [
    "Note that relevant tokens, such as *coronavirus* are included in the language model vocabulary."
   ]
  },
  {
   "cell_type": "markdown",
   "metadata": {},
   "source": [
    "Testing the mechanisms used to remove stopwords, punctuation, spaces, and extract the token's lemma."
   ]
  },
  {
   "cell_type": "code",
   "execution_count": null,
   "metadata": {},
   "outputs": [],
   "source": [
    "tokens = {token for token in doc}"
   ]
  },
  {
   "cell_type": "code",
   "execution_count": null,
   "metadata": {},
   "outputs": [],
   "source": [
    "no_stop_word_tokens = {token for token in doc if not (token.is_stop or token.is_punct or token.is_space)}"
   ]
  },
  {
   "cell_type": "code",
   "execution_count": null,
   "metadata": {},
   "outputs": [
    {
     "data": {
      "text/plain": [
       "(6998, 3544)"
      ]
     },
     "execution_count": null,
     "metadata": {},
     "output_type": "execute_result"
    }
   ],
   "source": [
    "len(tokens), len(no_stop_word_tokens)"
   ]
  },
  {
   "cell_type": "markdown",
   "metadata": {},
   "source": [
    "## Latent Dirichlet Allocation (LDA)\n",
    "\n",
    "The following cells will perform topic modelling experiments using the LDA technique.\n",
    "The `scikit-learn` implementation of this model will be used."
   ]
  },
  {
   "cell_type": "markdown",
   "metadata": {},
   "source": [
    "First, let's process all documents texts."
   ]
  },
  {
   "cell_type": "code",
   "execution_count": null,
   "metadata": {},
   "outputs": [],
   "source": [
    "# export\n",
    "def process_papers_file_contents(papers):\n",
    "    texts = []\n",
    "    nlp = en_core_sci_sm.load()\n",
    "    for paper in progress_bar(papers):\n",
    "        text = \" \\n \".join([ paragraph[\"text\"] for paragraph in paper._file_contents[\"body_text\"]])\n",
    "        \"\"\"\n",
    "        NB.: for development speed purposes, the only document's attributes\n",
    "        considered for the topic modelling were the title and the abstract.\n",
    "        Should the text be included in other experiments, the following line\n",
    "        should be modified to include `{paper.text}`.\n",
    "        \"\"\"\n",
    "        texts.append(f\"{paper.title} \\n {paper.abstract}\")\n",
    "    return texts"
   ]
  },
  {
   "cell_type": "code",
   "execution_count": null,
   "metadata": {},
   "outputs": [
    {
     "data": {
      "text/html": [
       "\n",
       "    <div>\n",
       "        <style>\n",
       "            /* Turns off some styling */\n",
       "            progress {\n",
       "                /* gets rid of default border in Firefox and Opera. */\n",
       "                border: none;\n",
       "                /* Needs to be in here for Safari polyfill so background images work as expected. */\n",
       "                background-size: auto;\n",
       "            }\n",
       "            .progress-bar-interrupted, .progress-bar-interrupted::-webkit-progress-bar {\n",
       "                background: #F44336;\n",
       "            }\n",
       "        </style>\n",
       "      <progress value='44648' class='' max='44648' style='width:300px; height:20px; vertical-align: middle;'></progress>\n",
       "      100.00% [44648/44648 00:49<00:00]\n",
       "    </div>\n",
       "    "
      ],
      "text/plain": [
       "<IPython.core.display.HTML object>"
      ]
     },
     "metadata": {},
     "output_type": "display_data"
    }
   ],
   "source": [
    "docs = process_papers_file_contents(list(pageranks.keys()))"
   ]
  },
  {
   "cell_type": "markdown",
   "metadata": {},
   "source": [
    "Peeking at the top 5 papers."
   ]
  },
  {
   "cell_type": "code",
   "execution_count": null,
   "metadata": {},
   "outputs": [
    {
     "name": "stdout",
     "output_type": "stream",
     "text": [
      "Sequence requirements for RNA strand transfer during nidovirus discontinuous subgenomic RNA synthesis \n",
      " Nidovirus subgenomic mRNAs contain a leader sequence derived from the 5′ end of the genome fused to different sequences (‘bodies’) derived from the 3′ end. Their generation involves a unique mechanism of discontinuous subgenomic RNA synthesis that resembles copy-choice RNA recombination. During this process, the nascent RNA strand is transferred from one site in the template to another, during either plus or minus strand synthesis, to yield subgenomic RNA molecules. Central to this process are transcription-regulating sequences (TRSs), which are present at both template sites and ensure the fidelity of strand transfer. Here we present results of a comprehensive co-variation mutagenesis study of equine arteritis virus TRSs, demonstrating that discontinuous RNA synthesis depends not only on base pairing between sense leader TRS and antisense body TRS, but also on the primary sequence of the body TRS. While the leader TRS merely plays a targeting role for strand transfer, the body TRS fulfils multiple functions. The sequences of mRNA leader–body junctions of TRS mutants strongly suggested that the discontinuous step occurs during minus strand synthesis.\n",
      "=====\n",
      "Crystal structure of murine sCEACAM1a[1,4]: a coronavirus receptor in the CEA family \n",
      " CEACAM1 is a member of the carcinoembryonic antigen (CEA) family. Isoforms of murine CEACAM1 serve as receptors for mouse hepatitis virus (MHV), a murine coronavirus. Here we report the crystal structure of soluble murine sCEACAM1a[1,4], which is composed of two Ig-like domains and has MHV neutralizing activity. Its N-terminal domain has a uniquely folded CC′ loop that encompasses key virus-binding residues. This is the first atomic structure of any member of the CEA family, and provides a prototypic architecture for functional exploration of CEA family members. We discuss the structural basis of virus receptor activities of murine CEACAM1 proteins, binding of Neisseria to human CEACAM1, and other homophilic and heterophilic interactions of CEA family members.\n",
      "=====\n",
      "Synthesis of a novel hepatitis C virus protein by ribosomal frameshift \n",
      " Hepatitis C virus (HCV) is an important human pathogen that affects ∼100 million people worldwide. Its RNA genome codes for a polyprotein, which is cleaved by viral and cellular proteases to produce at least 10 mature viral protein products. We report here the discovery of a novel HCV protein synthesized by ribosomal frameshift. This protein, which we named the F protein, is synthesized from the initiation codon of the polyprotein sequence followed by ribosomal frameshift into the −2/+1 reading frame. This ribosomal frameshift requires only codons 8–14 of the core protein‐coding sequence, and the shift junction is located at or near codon 11. An F protein analog synthesized in vitro reacted with the sera of HCV patients but not with the sera of hepatitis B patients, indicating the expression of the F protein during natural HCV infection. This unexpected finding may open new avenues for the development of anti‐HCV drugs.\n",
      "=====\n",
      "Structure of coronavirus main proteinase reveals combination of a chymotrypsin fold with an extra α-helical domain \n",
      " The key enzyme in coronavirus polyprotein processing is the viral main proteinase, M(pro), a protein with extremely low sequence similarity to other viral and cellular proteinases. Here, the crystal structure of the 33.1 kDa transmissible gastroenteritis (corona)virus M(pro) is reported. The structure was refined to 1.96 Å resolution and revealed three dimers in the asymmetric unit. The mutual arrangement of the protomers in each of the dimers suggests that M(pro) self-processing occurs in trans. The active site, comprised of Cys144 and His41, is part of a chymotrypsin-like fold that is connected by a 16 residue loop to an extra domain featuring a novel α-helical fold. Molecular modelling and mutagenesis data implicate the loop in substrate binding and elucidate S1 and S2 subsites suitable to accommodate the side chains of the P1 glutamine and P2 leucine residues of M(pro) substrates. Interactions involving the N-terminus and the α-helical domain stabilize the loop in the orientation required for trans-cleavage activity. The study illustrates that RNA viruses have evolved unprecedented variations of the classical chymotrypsin fold.\n",
      "=====\n",
      "Discontinuous and non-discontinuous subgenomic RNA transcription in a nidovirus \n",
      " Arteri-, corona-, toro- and roniviruses are evolutionarily related positive-strand RNA viruses, united in the order Nidovirales. The best studied nidoviruses, the corona- and arteriviruses, employ a unique transcription mechanism, which involves discontinuous RNA synthesis, a process resembling similarity-assisted copy-choice RNA recombination. During infection, multiple subgenomic (sg) mRNAs are transcribed from a mirror set of sg negative-strand RNA templates. The sg mRNAs all possess a short 5′ common leader sequence, derived from the 5′ end of the genomic RNA. The joining of the non-contiguous ‘leader’ and ‘body’ sequences presumably occurs during minus-strand synthesis. To study whether toroviruses use a similar transcription mechanism, we characterized the 5′ termini of the genome and the four sg mRNAs of Berne virus (BEV). We show that BEV mRNAs 3–5 lack a leader sequence. Surprisingly, however, RNA 2 does contain a leader, identical to the 5′-terminal 18 residues of the genome. Apparently, BEV combines discontinuous and non-discontinous RNA synthesis to produce its sg mRNAs. Our findings have important implications for the understanding of the mechanism and evolution of nidovirus transcription.\n"
     ]
    }
   ],
   "source": [
    "print('\\n=====\\n'.join(docs[:5]))"
   ]
  },
  {
   "cell_type": "markdown",
   "metadata": {},
   "source": [
    "Vectors storing the token occurrence count will be used as document representations.\n",
    "`tf-idf` vectors are purposefully not used because the document frequency normalization is already carried out by the LDA technique."
   ]
  },
  {
   "cell_type": "code",
   "execution_count": null,
   "metadata": {},
   "outputs": [],
   "source": [
    "# export\n",
    "def tokenizer(sentence):\n",
    "    tokens = []\n",
    "    for token in nlp(sentence, disable=[\"tagger\", \"parser\", \"ner\"]):\n",
    "        # Se descartan números, stopwords, puntuación, espacio y tokens de largo 1\n",
    "        if not (token.like_num or token.is_stop or token.is_punct\n",
    "                or token.is_space or len(token) == 1):\n",
    "            tokens.append(token.lemma_)\n",
    "    return tokens"
   ]
  },
  {
   "cell_type": "code",
   "execution_count": null,
   "metadata": {},
   "outputs": [],
   "source": [
    "count_vectorizer = CountVectorizer(tokenizer=tokenizer, lowercase=True)"
   ]
  },
  {
   "cell_type": "code",
   "execution_count": null,
   "metadata": {},
   "outputs": [],
   "source": [
    "vectorized_docs = count_vectorizer.fit_transform(docs)"
   ]
  },
  {
   "cell_type": "markdown",
   "metadata": {},
   "source": [
    "A sparse matrix is built rows one for each document, and columns: one for each token."
   ]
  },
  {
   "cell_type": "code",
   "execution_count": null,
   "metadata": {},
   "outputs": [
    {
     "data": {
      "text/plain": [
       "(44648, 164664)"
      ]
     },
     "execution_count": null,
     "metadata": {},
     "output_type": "execute_result"
    }
   ],
   "source": [
    "vectorized_docs.shape"
   ]
  },
  {
   "cell_type": "code",
   "execution_count": null,
   "metadata": {},
   "outputs": [
    {
     "data": {
      "text/plain": [
       "164664"
      ]
     },
     "execution_count": null,
     "metadata": {},
     "output_type": "execute_result"
    }
   ],
   "source": [
    "len(count_vectorizer.vocabulary_)"
   ]
  },
  {
   "cell_type": "code",
   "execution_count": null,
   "metadata": {},
   "outputs": [
    {
     "name": "stderr",
     "output_type": "stream",
     "text": [
      "[Parallel(n_jobs=4)]: Using backend LokyBackend with 4 concurrent workers.\n",
      "[Parallel(n_jobs=4)]: Done   2 out of   4 | elapsed:  1.4min remaining:  1.4min\n",
      "[Parallel(n_jobs=4)]: Done   4 out of   4 | elapsed:  1.6min finished\n"
     ]
    },
    {
     "name": "stdout",
     "output_type": "stream",
     "text": [
      "iteration: 1 of max_iter: 10\n"
     ]
    },
    {
     "name": "stderr",
     "output_type": "stream",
     "text": [
      "[Parallel(n_jobs=4)]: Using backend LokyBackend with 4 concurrent workers.\n",
      "[Parallel(n_jobs=4)]: Done   2 out of   4 | elapsed:  1.6min remaining:  1.6min\n",
      "[Parallel(n_jobs=4)]: Done   4 out of   4 | elapsed:  1.7min finished\n",
      "[Parallel(n_jobs=4)]: Using backend LokyBackend with 4 concurrent workers.\n"
     ]
    },
    {
     "name": "stdout",
     "output_type": "stream",
     "text": [
      "iteration: 2 of max_iter: 10\n"
     ]
    },
    {
     "name": "stderr",
     "output_type": "stream",
     "text": [
      "[Parallel(n_jobs=4)]: Done   2 out of   4 | elapsed:   57.9s remaining:   57.9s\n",
      "[Parallel(n_jobs=4)]: Done   4 out of   4 | elapsed:  1.0min finished\n",
      "[Parallel(n_jobs=4)]: Using backend LokyBackend with 4 concurrent workers.\n"
     ]
    },
    {
     "name": "stdout",
     "output_type": "stream",
     "text": [
      "iteration: 3 of max_iter: 10\n"
     ]
    },
    {
     "name": "stderr",
     "output_type": "stream",
     "text": [
      "[Parallel(n_jobs=4)]: Done   2 out of   4 | elapsed:   42.6s remaining:   42.6s\n",
      "[Parallel(n_jobs=4)]: Done   4 out of   4 | elapsed:   44.6s finished\n",
      "[Parallel(n_jobs=4)]: Using backend LokyBackend with 4 concurrent workers.\n"
     ]
    },
    {
     "name": "stdout",
     "output_type": "stream",
     "text": [
      "iteration: 4 of max_iter: 10\n"
     ]
    },
    {
     "name": "stderr",
     "output_type": "stream",
     "text": [
      "[Parallel(n_jobs=4)]: Done   2 out of   4 | elapsed:   47.0s remaining:   47.0s\n",
      "[Parallel(n_jobs=4)]: Done   4 out of   4 | elapsed:   48.7s finished\n",
      "[Parallel(n_jobs=4)]: Using backend LokyBackend with 4 concurrent workers.\n"
     ]
    },
    {
     "name": "stdout",
     "output_type": "stream",
     "text": [
      "iteration: 5 of max_iter: 10\n"
     ]
    },
    {
     "name": "stderr",
     "output_type": "stream",
     "text": [
      "[Parallel(n_jobs=4)]: Done   2 out of   4 | elapsed:   34.7s remaining:   34.7s\n",
      "[Parallel(n_jobs=4)]: Done   4 out of   4 | elapsed:   36.4s finished\n",
      "[Parallel(n_jobs=4)]: Using backend LokyBackend with 4 concurrent workers.\n"
     ]
    },
    {
     "name": "stdout",
     "output_type": "stream",
     "text": [
      "iteration: 6 of max_iter: 10\n"
     ]
    },
    {
     "name": "stderr",
     "output_type": "stream",
     "text": [
      "[Parallel(n_jobs=4)]: Done   2 out of   4 | elapsed:   48.6s remaining:   48.6s\n",
      "[Parallel(n_jobs=4)]: Done   4 out of   4 | elapsed:   50.7s finished\n",
      "[Parallel(n_jobs=4)]: Using backend LokyBackend with 4 concurrent workers.\n"
     ]
    },
    {
     "name": "stdout",
     "output_type": "stream",
     "text": [
      "iteration: 7 of max_iter: 10\n"
     ]
    },
    {
     "name": "stderr",
     "output_type": "stream",
     "text": [
      "[Parallel(n_jobs=4)]: Done   2 out of   4 | elapsed:   41.5s remaining:   41.5s\n",
      "[Parallel(n_jobs=4)]: Done   4 out of   4 | elapsed:   43.7s finished\n",
      "[Parallel(n_jobs=4)]: Using backend LokyBackend with 4 concurrent workers.\n"
     ]
    },
    {
     "name": "stdout",
     "output_type": "stream",
     "text": [
      "iteration: 8 of max_iter: 10\n"
     ]
    },
    {
     "name": "stderr",
     "output_type": "stream",
     "text": [
      "[Parallel(n_jobs=4)]: Done   2 out of   4 | elapsed:   35.8s remaining:   35.8s\n",
      "[Parallel(n_jobs=4)]: Done   4 out of   4 | elapsed:   37.2s finished\n",
      "[Parallel(n_jobs=4)]: Using backend LokyBackend with 4 concurrent workers.\n"
     ]
    },
    {
     "name": "stdout",
     "output_type": "stream",
     "text": [
      "iteration: 9 of max_iter: 10\n"
     ]
    },
    {
     "name": "stderr",
     "output_type": "stream",
     "text": [
      "[Parallel(n_jobs=4)]: Done   2 out of   4 | elapsed:   37.0s remaining:   37.0s\n",
      "[Parallel(n_jobs=4)]: Done   4 out of   4 | elapsed:   40.4s finished\n"
     ]
    },
    {
     "name": "stdout",
     "output_type": "stream",
     "text": [
      "iteration: 10 of max_iter: 10\n"
     ]
    },
    {
     "name": "stderr",
     "output_type": "stream",
     "text": [
      "[Parallel(n_jobs=4)]: Using backend LokyBackend with 4 concurrent workers.\n",
      "[Parallel(n_jobs=4)]: Done   2 out of   4 | elapsed:   31.7s remaining:   31.7s\n",
      "[Parallel(n_jobs=4)]: Done   4 out of   4 | elapsed:   33.3s finished\n"
     ]
    }
   ],
   "source": [
    "lda = LatentDirichletAllocation(n_components=10, verbose=2, n_jobs=-1)\n",
    "lda = lda.fit(vectorized_docs)"
   ]
  },
  {
   "cell_type": "code",
   "execution_count": null,
   "metadata": {},
   "outputs": [
    {
     "data": {
      "text/plain": [
       "LatentDirichletAllocation(batch_size=128, doc_topic_prior=None,\n",
       "                          evaluate_every=-1, learning_decay=0.7,\n",
       "                          learning_method='batch', learning_offset=10.0,\n",
       "                          max_doc_update_iter=100, max_iter=10,\n",
       "                          mean_change_tol=0.001, n_components=10, n_jobs=-1,\n",
       "                          perp_tol=0.1, random_state=None,\n",
       "                          topic_word_prior=None, total_samples=1000000.0,\n",
       "                          verbose=2)"
      ]
     },
     "execution_count": null,
     "metadata": {},
     "output_type": "execute_result"
    }
   ],
   "source": [
    "lda"
   ]
  },
  {
   "cell_type": "markdown",
   "metadata": {},
   "source": [
    "The execution of the following cells will display the most relevant tokens for each identified topic."
   ]
  },
  {
   "cell_type": "code",
   "execution_count": null,
   "metadata": {},
   "outputs": [],
   "source": [
    "# export\n",
    "def topic_descriptors(topic_model, vectorizer, num_words):\n",
    "    res = {}\n",
    "    feature_names = vectorizer.get_feature_names()\n",
    "    for topic_idx, topic in enumerate(topic_model.components_):\n",
    "        res[topic_idx] =[feature_names[i] for i in topic.argsort()[:-num_words - 1:-1]]\n",
    "    return res"
   ]
  },
  {
   "cell_type": "code",
   "execution_count": null,
   "metadata": {},
   "outputs": [],
   "source": [
    "descriptors = topic_descriptors(lda, count_vectorizer, 10)"
   ]
  },
  {
   "cell_type": "code",
   "execution_count": null,
   "metadata": {},
   "outputs": [
    {
     "name": "stdout",
     "output_type": "stream",
     "text": [
      "Topic 0: cell, infection, response, expression, immune, mouse, disease, viral, gene, lung\n",
      "Topic 1: activity, antiviral, drug, inhibitor, compound, effect, treatment, protease, study, cell\n",
      "Topic 2: coronavirus, sars, respiratory, nan, syndrome, mers-cov, severe, acute, sars-cov-2, sars-cov\n",
      "Topic 3: cat, group, calve, sample, antibody, pig, study, day, infection, vaccine\n",
      "Topic 4: virus, viral, sequence, rna, gene, strain, cell, genome, protein, replication\n",
      "Topic 5: de, la, en, et, des, les, el, los, le, las\n",
      "Topic 6: patient, respiratory, infection, virus, influenza, child, clinical, study, viral, pneumonia\n",
      "Topic 7: disease, health, review, human, infectious, system, pathogen, research, new, development\n",
      "Topic 8: case, health, covid-19, model, outbreak, study, disease, risk, transmission, epidemic\n",
      "Topic 9: protein, cell, antibody, vaccine, bind, membrane, structure, peptide, domain, response\n"
     ]
    }
   ],
   "source": [
    "for topic_id in descriptors:\n",
    "    print(f'Topic {topic_id}:', ', '.join(descriptors[topic_id]))"
   ]
  },
  {
   "cell_type": "markdown",
   "metadata": {},
   "source": [
    "The dataset papers will be classified into the different previously modelled topics."
   ]
  },
  {
   "cell_type": "code",
   "execution_count": null,
   "metadata": {},
   "outputs": [
    {
     "name": "stderr",
     "output_type": "stream",
     "text": [
      "[Parallel(n_jobs=4)]: Using backend LokyBackend with 4 concurrent workers.\n",
      "[Parallel(n_jobs=4)]: Done   2 out of   4 | elapsed:   51.3s remaining:   51.3s\n",
      "[Parallel(n_jobs=4)]: Done   4 out of   4 | elapsed:   54.7s finished\n"
     ]
    },
    {
     "data": {
      "text/plain": [
       "array([[8.19806364e-04, 8.19759651e-04, 8.19717485e-04, 8.19799204e-04,\n",
       "        6.32149551e-01, 8.19736108e-04, 8.19731399e-04, 8.19853767e-04,\n",
       "        8.19776380e-04, 3.61292269e-01],\n",
       "       [1.25016209e-03, 1.25018439e-03, 1.25041330e-03, 1.25004015e-03,\n",
       "        1.25041619e-03, 1.25002213e-03, 1.25008698e-03, 1.25015487e-03,\n",
       "        1.25011639e-03, 9.88748403e-01],\n",
       "       [1.09914209e-03, 5.70073444e-02, 8.97789669e-02, 1.09944172e-03,\n",
       "        3.63453502e-01, 1.09893164e-03, 1.09949524e-03, 1.09914841e-03,\n",
       "        1.09916923e-03, 4.83164858e-01],\n",
       "       [8.92966492e-04, 3.25657831e-01, 8.93138852e-04, 8.92965763e-04,\n",
       "        8.93204168e-04, 8.92900258e-04, 8.92976560e-04, 8.93080958e-04,\n",
       "        8.93043218e-04, 6.67197893e-01],\n",
       "       [8.40444342e-04, 8.40462004e-04, 8.40616402e-04, 7.62277498e-02,\n",
       "        9.17048319e-01, 8.40364692e-04, 8.40446888e-04, 8.40494880e-04,\n",
       "        8.40471210e-04, 8.40631060e-04]])"
      ]
     },
     "execution_count": null,
     "metadata": {},
     "output_type": "execute_result"
    }
   ],
   "source": [
    "docs_classified = lda.transform(vectorized_docs)\n",
    "docs_classified[:5]"
   ]
  },
  {
   "cell_type": "markdown",
   "metadata": {},
   "source": [
    "Finally, the top-5 PageRank-sorted papers belonging to each topic are displayed."
   ]
  },
  {
   "cell_type": "code",
   "execution_count": null,
   "metadata": {},
   "outputs": [
    {
     "name": "stdout",
     "output_type": "stream",
     "text": [
      "Topic ID 0\n"
     ]
    },
    {
     "data": {
      "text/markdown": [
       "\n",
       "- **Title:** Mutations in the IGF-II pathway that confer resistance to lytic reovirus infection\n",
       "- **Authors:** Sheng, Jinsong; Organ, Edward L; Hao, Chuanming; Wells, K Sam; Ruley, H Earl; Rubin, Donald H\n",
       "- **Publish date/time:** 2004-08-27\n",
       "- **Linked references:** 0\n",
       "- **Linked referenced by:** 0\n",
       "- **Abstract:** BACKGROUND: Viruses are obligate intracellular parasites and rely upon the host cell for different steps in their life cycles. The characterization of cellular genes required for virus infection and/or cell killing will be essential for understanding viral life cycles, and may provide cellular targets for new antiviral therapies. RESULTS: A gene entrapment approach was used to identify candidate cellular genes that affect reovirus infection or virus induced cell lysis. Four of the 111 genes disrupted in clones selected for resistance to infection by reovirus type 1 involved the insulin growth factor-2 (IGF-II) pathway, including: the mannose-6-phosphate/IGF2 receptor (Igf2r), a protease associated with insulin growth factor binding protein 5 (Prss11), and the CTCF transcriptional regulator (Ctcf). The disruption of Ctcf, which encodes a repressor of Igf2, was associated with enhanced Igf2 gene expression. Plasmids expressing either the IGF-II pro-hormone or IGF-II without the carboxy terminal extension (E)-peptide sequence independently conferred high levels of cellular resistance to reovirus infection. Forced IGF-II expression results in a block in virus disassembly. In addition, Ctcf disruption and forced Igf2 expression both enabled cells to proliferate in soft agar, a phenotype associated with malignant growth in vivo. CONCLUSION: These results indicate that IGF-II, and by inference other components of the IGF-II signalling pathway, can confer resistance to lytic reovirus infection. This report represents the first use of gene entrapment to identify host factors affecting virus infection. Concomitant transformation observed in some virus resistant cells illustrates a potential mechanism of carcinogenesis associated with chronic virus infection."
      ],
      "text/plain": [
       "<IPython.core.display.Markdown object>"
      ]
     },
     "metadata": {},
     "output_type": "display_data"
    },
    {
     "data": {
      "text/markdown": [
       "\n",
       "- **Title:** A human in vitro model system for investigating genome-wide host responses to SARS coronavirus infection\n",
       "- **Authors:** Ng, Lisa FP; Hibberd, Martin L; Ooi, Eng-Eong; Tang, Kin-Fai; Neo, Soek-Ying; Tan, Jenny; Krishna Murthy, Karuturi R; Vega, Vinsensius B; Chia, Jer-Ming; Liu, Edison T; Ren, Ee-Chee\n",
       "- **Publish date/time:** 2004-09-09\n",
       "- **Linked references:** 0\n",
       "- **Linked referenced by:** 0\n",
       "- **Abstract:** BACKGROUND: The molecular basis of severe acute respiratory syndrome (SARS) coronavirus (CoV) induced pathology is still largely unclear. Many SARS patients suffer respiratory distress brought on by interstitial infiltration and frequently show peripheral blood lymphopenia and occasional leucopenia. One possible cause of this could be interstitial inflammation, following a localized host response. In this study, we therefore examine the immune response of SARS-CoV in human peripheral blood mononuclear cells (PBMCs) over the first 24 hours. METHODS: PBMCs from normal healthy donors were inoculated in vitro with SARS-CoV and the viral replication kinetics was studied by real-time quantitative assays. SARS-CoV specific gene expression changes were examined by high-density oligonucleotide array analysis. RESULTS: We observed that SARS-CoV was capable of infecting and replicating in PBMCs and the kinetics of viral replication was variable among the donors. SARS-CoV antibody binding assays indicated that SARS specific antibodies inhibited SARS-CoV viral replication. Array data showed monocyte-macrophage cell activation, coagulation pathway upregulation and cytokine production together with lung trafficking chemokines such as IL8 and IL17, possibly activated through the TLR9 signaling pathway; that mimicked clinical features of the disease. CONCLUSIONS: The identification of human blood mononuclear cells as a direct target of SARS-CoV in the model system described here provides a new insight into disease pathology and a tool for investigating the host response and mechanisms of pathogenesis."
      ],
      "text/plain": [
       "<IPython.core.display.Markdown object>"
      ]
     },
     "metadata": {},
     "output_type": "display_data"
    },
    {
     "data": {
      "text/markdown": [
       "\n",
       "- **Title:** The involvement of survival signaling pathways in rubella-virus induced apoptosis\n",
       "- **Authors:** Cooray, Samantha; Jin, Li; Best, Jennifer M\n",
       "- **Publish date/time:** 2005-01-04\n",
       "- **Linked references:** 0\n",
       "- **Linked referenced by:** 0\n",
       "- **Abstract:** Rubella virus (RV) causes severe congenital defects when acquired during the first trimester of pregnancy. RV cytopathic effect has been shown to be due to caspase-dependent apoptosis in a number of susceptible cell lines, and it has been suggested that this apoptotic induction could be a causal factor in the development of such defects. Often the outcome of apoptotic stimuli is dependent on apoptotic, proliferative and survival signaling mechanisms in the cell. Therefore we investigated the role of phosphoinositide 3-kinase (PI3K)-Akt survival signaling and Ras-Raf-MEK-ERK proliferative signaling during RV-induced apoptosis in RK13 cells. Increasing levels of phosphorylated ERK, Akt and GSK3β were detected from 24–96 hours post-infection, concomitant with RV-induced apoptotic signals. Inhibition of PI3K-Akt signaling reduced cell viability, and increased the speed and magnitude of RV-induced apoptosis, suggesting that this pathway contributes to cell survival during RV infection. In contrast, inhibition of the Ras-Raf-MEK-ERK pathway impaired RV replication and growth and reduced RV-induced apoptosis, suggesting that the normal cellular growth is required for efficient virus production."
      ],
      "text/plain": [
       "<IPython.core.display.Markdown object>"
      ]
     },
     "metadata": {},
     "output_type": "display_data"
    },
    {
     "data": {
      "text/markdown": [
       "\n",
       "- **Title:** Expression profile of immune response genes in patients with Severe Acute Respiratory Syndrome\n",
       "- **Authors:** Reghunathan, Renji; Jayapal, Manikandan; Hsu, Li-Yang; Chng, Hiok-Hee; Tai, Dessmon; Leung, Bernard P; Melendez, Alirio J\n",
       "- **Publish date/time:** 2005-01-18\n",
       "- **Linked references:** 0\n",
       "- **Linked referenced by:** 0\n",
       "- **Abstract:** BACKGROUND: Severe acute respiratory syndrome (SARS) emerged in later February 2003, as a new epidemic form of life-threatening infection caused by a novel coronavirus. However, the immune-pathogenesis of SARS is poorly understood. To understand the host response to this pathogen, we investigated the gene expression profiles of peripheral blood mononuclear cells (PBMCs) derived from SARS patients, and compared with healthy controls. RESULTS: The number of differentially expressed genes was found to be 186 under stringent filtering criteria of microarray data analysis. Several genes were highly up-regulated in patients with SARS, such as, the genes coding for Lactoferrin, S100A9 and Lipocalin 2. The real-time PCR method verified the results of the gene array analysis and showed that those genes that were up-regulated as determined by microarray analysis were also found to be comparatively up-regulated by real-time PCR analysis. CONCLUSIONS: This differential gene expression profiling of PBMCs from patients with SARS strongly suggests that the response of SARS affected patients seems to be mainly an innate inflammatory response, rather than a specific immune response against a viral infection, as we observed a complete lack of cytokine genes usually triggered during a viral infection. Our study shows for the first time how the immune system responds to the SARS infection, and opens new possibilities for designing new diagnostics and treatments for this new life-threatening disease."
      ],
      "text/plain": [
       "<IPython.core.display.Markdown object>"
      ]
     },
     "metadata": {},
     "output_type": "display_data"
    },
    {
     "data": {
      "text/markdown": [
       "\n",
       "- **Title:** A Gene Encoding Sialic-Acid-Specific 9-O-Acetylesterase Found in Human Adult Testis\n",
       "- **Authors:** Zhu, Hu; Chang Chan, Hsiao; Zhou, Zuoming; Li, Jianming; Zhu, Hui; Yin, Lanlan; Xu, Ming; Cheng, Lijun; Sha, Jiahao\n",
       "- **Publish date/time:** 2004-07-29\n",
       "- **Linked references:** 0\n",
       "- **Linked referenced by:** 0\n",
       "- **Abstract:** Using differential display RT-PCR, we identified a gene of 2750 bp from human adult testis, named H-Lse, which encoded a putative protein of 523 amino acids and molecular weight of 58 kd with structural characteristics similar to that of mouse lysosome sialic-acid-specific 9-O-acetylesterase. Northern blot analysis showed a widespread distribution of H-Lse in various human tissues with high expression in the testis, prostate, and colon. In situ hybridization results showed that while H-Lse was not detected in embryonic testis, positive signals were found in spermatocytes but not spermatogonia in adult testis of human. The subcellular localization of H-Lse was visualized by green fluorescent protein (GFP) fused to the amino terminus of H-Lse, showing compartmentalization of H-Lse in large dense-core vesicles, presumably lysosomes, in the cytoplasm. The developmentally regulated and spermatogenic stage-specific expression of H-Lse suggests its possible involvement in the development of the testis and/or differentiation of germ cells."
      ],
      "text/plain": [
       "<IPython.core.display.Markdown object>"
      ]
     },
     "metadata": {},
     "output_type": "display_data"
    },
    {
     "name": "stdout",
     "output_type": "stream",
     "text": [
      "Topic ID 1\n"
     ]
    },
    {
     "data": {
      "text/markdown": [
       "\n",
       "- **Title:** Inhibition of SARS-CoV 3C-like Protease Activity by Theaflavin-3,3′-digallate (TF3)\n",
       "- **Authors:** Chen, Chia-Nan; Lin, Coney P. C.; Huang, Kuo-Kuei; Chen, Wei-Cheng; Hsieh, Hsin-Pang; Liang, Po-Huang; Hsu, John T.-A.\n",
       "- **Publish date/time:** 2005-04-07\n",
       "- **Linked references:** 0\n",
       "- **Linked referenced by:** 0\n",
       "- **Abstract:** SARS-CoV is the causative agent of severe acute respiratory syndrome (SARS). The virally encoded 3C-like protease (3CL(Pro)) has been presumed critical for the viral replication of SARS-CoV in infected host cells. In this study, we screened a natural product library consisting of 720 compounds for inhibitory activity against 3CL(Pro). Two compounds in the library were found to be inhibitive: tannic acid (IC(50) = 3 µM) and 3-isotheaflavin-3-gallate (TF2B) (IC(50) = 7 µM). These two compounds belong to a group of natural polyphenols found in tea. We further investigated the 3CL(Pro)-inhibitory activity of extracts from several different types of teas, including green tea, oolong tea, Puer tea and black tea. Our results indicated that extracts from Puer and black tea were more potent than that from green or oolong teas in their inhibitory activities against 3CL(Pro). Several other known compositions in teas were also evaluated for their activities in inhibiting 3CL(Pro). We found that caffeine, (—)-epigallocatechin gallte (EGCg), epicatechin (EC), theophylline (TP), catechin (C), epicatechin gallate (ECg) and epigallocatechin (EGC) did not inhibit 3CL(Pro) activity. Only theaflavin-3,3′-digallate (TF3) was found to be a 3CL(Pro) inhibitor. This study has resulted in the identification of new compounds that are effective 3CL(Pro) inhibitors."
      ],
      "text/plain": [
       "<IPython.core.display.Markdown object>"
      ]
     },
     "metadata": {},
     "output_type": "display_data"
    },
    {
     "data": {
      "text/markdown": [
       "\n",
       "- **Title:** Design of Wide-Spectrum Inhibitors Targeting Coronavirus Main Proteases\n",
       "- **Authors:** Yang, Haitao; Xie, Weiqing; Xue, Xiaoyu; Yang, Kailin; Ma, Jing; Liang, Wenxue; Zhao, Qi; Zhou, Zhe; Pei, Duanqing; Ziebuhr, John; Hilgenfeld, Rolf; Yuen, Kwok Yung; Wong, Luet; Gao, Guangxia; Chen, Saijuan; Chen, Zhu; Ma, Dawei; Bartlam, Mark; Rao, Zihe\n",
       "- **Publish date/time:** 2005-09-06\n",
       "- **Linked references:** 0\n",
       "- **Linked referenced by:** 0\n",
       "- **Abstract:** The genus Coronavirus contains about 25 species of coronaviruses (CoVs), which are important pathogens causing highly prevalent diseases and often severe or fatal in humans and animals. No licensed specific drugs are available to prevent their infection. Different host receptors for cellular entry, poorly conserved structural proteins (antigens), and the high mutation and recombination rates of CoVs pose a significant problem in the development of wide-spectrum anti-CoV drugs and vaccines. CoV main proteases (M(pro)s), which are key enzymes in viral gene expression and replication, were revealed to share a highly conservative substrate-recognition pocket by comparison of four crystal structures and a homology model representing all three genetic clusters of the genus Coronavirus. This conclusion was further supported by enzyme activity assays. Mechanism-based irreversible inhibitors were designed, based on this conserved structural region, and a uniform inhibition mechanism was elucidated from the structures of M(pro)-inhibitor complexes from severe acute respiratory syndrome-CoV and porcine transmissible gastroenteritis virus. A structure-assisted optimization program has yielded compounds with fast in vitro inactivation of multiple CoV M(pro)s, potent antiviral activity, and extremely low cellular toxicity in cell-based assays. Further modification could rapidly lead to the discovery of a single agent with clinical potential against existing and possible future emerging CoV-related diseases."
      ],
      "text/plain": [
       "<IPython.core.display.Markdown object>"
      ]
     },
     "metadata": {},
     "output_type": "display_data"
    },
    {
     "data": {
      "text/markdown": [
       "\n",
       "- **Title:** Chloroquine is a potent inhibitor of SARS coronavirus infection and spread\n",
       "- **Authors:** Vincent, Martin J; Bergeron, Eric; Benjannet, Suzanne; Erickson, Bobbie R; Rollin, Pierre E; Ksiazek, Thomas G; Seidah, Nabil G; Nichol, Stuart T\n",
       "- **Publish date/time:** 2005-08-22\n",
       "- **Linked references:** 0\n",
       "- **Linked referenced by:** 0\n",
       "- **Abstract:** BACKGROUND: Severe acute respiratory syndrome (SARS) is caused by a newly discovered coronavirus (SARS-CoV). No effective prophylactic or post-exposure therapy is currently available. RESULTS: We report, however, that chloroquine has strong antiviral effects on SARS-CoV infection of primate cells. These inhibitory effects are observed when the cells are treated with the drug either before or after exposure to the virus, suggesting both prophylactic and therapeutic advantage. In addition to the well-known functions of chloroquine such as elevations of endosomal pH, the drug appears to interfere with terminal glycosylation of the cellular receptor, angiotensin-converting enzyme 2. This may negatively influence the virus-receptor binding and abrogate the infection, with further ramifications by the elevation of vesicular pH, resulting in the inhibition of infection and spread of SARS CoV at clinically admissible concentrations. CONCLUSION: Chloroquine is effective in preventing the spread of SARS CoV in cell culture. Favorable inhibition of virus spread was observed when the cells were either treated with chloroquine prior to or after SARS CoV infection. In addition, the indirect immunofluorescence assay described herein represents a simple and rapid method for screening SARS-CoV antiviral compounds."
      ],
      "text/plain": [
       "<IPython.core.display.Markdown object>"
      ]
     },
     "metadata": {},
     "output_type": "display_data"
    },
    {
     "data": {
      "text/markdown": [
       "\n",
       "- **Title:** Epicatechins Purified from Green Tea (Camellia sinensis) Differentially Suppress Growth of Gender-Dependent Human Cancer Cell Lines\n",
       "- **Authors:** Ravindranath, Mepur H.; Saravanan, Thiruverkadu S.; Monteclaro, Clarence C.; Presser, Naftali; Ye, Xing; Selvan, Senthamil R.; Brosman, Stanley\n",
       "- **Publish date/time:** 2006-04-25\n",
       "- **Linked references:** 0\n",
       "- **Linked referenced by:** 0\n",
       "- **Abstract:** The anticancer potential of catechins derived from green tea is not well understood, in part because catechin-related growth suppression and/or apoptosis appears to vary with the type and stage of malignancy as well as with the type of catechin. This in vitro study examined the biological effects of epicatechin (EC), epigallocatechin (EGC), EC 3-gallate (ECG) and EGC 3-gallate (EGCG) in cell lines from human gender-specific cancers. Cell lines developed from organ-confined (HH870) and metastatic (DU145) prostate cancer, and from moderately (HH450) and poorly differentiated (HH639) epithelial ovarian cancer were grown with or without EC, EGC, ECG or EGCG. When untreated cells reached confluency, viability and doubling time were measured for treated and untreated cells. Whereas EC treatment reduced proliferation of HH639 cells by 50%, EGCG suppressed proliferation of all cell lines by 50%. ECG was even more potent: it inhibited DU145, HH870, HH450 and HH639 cells at concentrations of 24, 27, 29 and 30 µM, whereas EGCG inhibited DU145, HH870, HH450 and HH639 cells at concentrations 89, 45, 62 and 42 µM. When compared with EGCG, ECG more effectively suppresses the growth of prostate cancer and epithelial ovarian cancer cell lines derived from tumors of patients with different stages of disease."
      ],
      "text/plain": [
       "<IPython.core.display.Markdown object>"
      ]
     },
     "metadata": {},
     "output_type": "display_data"
    },
    {
     "data": {
      "text/markdown": [
       "\n",
       "- **Title:** In vitro inhibition of human influenza A virus replication by chloroquine\n",
       "- **Authors:** Ooi, Eng Eong; Chew, Janet Seok Wei; Loh, Jin Phang; Chua, Robert CS\n",
       "- **Publish date/time:** 2006-05-29\n",
       "- **Linked references:** 0\n",
       "- **Linked referenced by:** 0\n",
       "- **Abstract:** Chloroquine is a 9-aminoquinolone with well-known anti-malarial effects. It has biochemical properties that could be applied to inhibit viral replication. We report here that chloroquine is able to inhibit influenza A virus replication, in vitro, and the IC50s of chloroquine against influenza A viruses H1N1 and H3N2 are lower than the plasma concentrations reached during treatment of acute malaria. The potential of chloroquine to be added to the limited range of anti-influenza drugs should be explored further, particularly since antiviral drugs play a vital role in influenza pandemic preparedness."
      ],
      "text/plain": [
       "<IPython.core.display.Markdown object>"
      ]
     },
     "metadata": {},
     "output_type": "display_data"
    },
    {
     "name": "stdout",
     "output_type": "stream",
     "text": [
      "Topic ID 2\n"
     ]
    },
    {
     "data": {
      "text/markdown": [
       "\n",
       "- **Title:** Association of HLA class I with severe acute respiratory syndrome coronavirus infection\n",
       "- **Authors:** Lin, Marie; Tseng, Hsiang-Kuang; Trejaut, Jean A; Lee, Hui-Lin; Loo, Jun-Hun; Chu, Chen-Chung; Chen, Pei-Jan; Su, Ying-Wen; Lim, Ken Hong; Tsai, Zen-Uong; Lin, Ruey-Yi; Lin, Ruey-Shiung; Huang, Chun-Hsiung\n",
       "- **Publish date/time:** 2003-09-12\n",
       "- **Linked references:** 0\n",
       "- **Linked referenced by:** 0\n",
       "- **Abstract:** BACKGROUND: The human leukocyte antigen (HLA) system is widely used as a strategy in the search for the etiology of infectious diseases and autoimmune disorders. During the Taiwan epidemic of severe acute respiratory syndrome (SARS), many health care workers were infected. In an effort to establish a screening program for high risk personal, the distribution of HLA class I and II alleles in case and control groups was examined for the presence of an association to a genetic susceptibly or resistance to SARS coronavirus infection. METHODS: HLA-class I and II allele typing by PCR-SSOP was performed on 37 cases of probable SARS, 28 fever patients excluded later as probable SARS, and 101 non-infected health care workers who were exposed or possibly exposed to SARS coronavirus. An additional control set of 190 normal healthy unrelated Taiwanese was also used in the analysis. RESULTS: Woolf and Haldane Odds ratio (OR) and corrected P-value (Pc) obtained from two tails Fisher exact test were used to show susceptibility of HLA class I or class II alleles with coronavirus infection. At first, when analyzing infected SARS patients and high risk health care workers groups, HLA-B*4601 (OR = 2.08, P = 0.04, Pc = n.s.) and HLA-B*5401 (OR = 5.44, P = 0.02, Pc = n.s.) appeared as the most probable elements that may be favoring SARS coronavirus infection. After selecting only a \"severe cases\" patient group from the infected \"probable SARS\" patient group and comparing them with the high risk health care workers group, the severity of SARS was shown to be significantly associated with HLA-B*4601 (P = 0.0008 or Pc = 0.0279). CONCLUSIONS: Densely populated regions with genetically related southern Asian populations appear to be more affected by the spreading of SARS infection. Up until recently, no probable SARS patients were reported among Taiwan indigenous peoples who are genetically distinct from the Taiwanese general population, have no HLA-B* 4601 and have high frequency of HLA-B* 1301. While increase of HLA-B* 4601 allele frequency was observed in the \"Probable SARS infected\" patient group, a further significant increase of the allele was seen in the \"Severe cases\" patient group. These results appeared to indicate association of HLA-B* 4601 with the severity of SARS infection in Asian populations. Independent studies are needed to test these results."
      ],
      "text/plain": [
       "<IPython.core.display.Markdown object>"
      ]
     },
     "metadata": {},
     "output_type": "display_data"
    },
    {
     "data": {
      "text/markdown": [
       "\n",
       "- **Title:** 8th Annual Toronto Critical Care Medicine Symposium, 30 October–1 November 2003, Toronto, Ontario, Canada\n",
       "- **Authors:** Granton, Jeff; Granton, John\n",
       "- **Publish date/time:** 2004-01-02\n",
       "- **Linked references:** 0\n",
       "- **Linked referenced by:** 0\n",
       "- **Abstract:** nan"
      ],
      "text/plain": [
       "<IPython.core.display.Markdown object>"
      ]
     },
     "metadata": {},
     "output_type": "display_data"
    },
    {
     "data": {
      "text/markdown": [
       "\n",
       "- **Title:** Coronavirus 3CL(pro )proteinase cleavage sites: Possible relevance to SARS virus pathology\n",
       "- **Authors:** Kiemer, Lars; Lund, Ole; Brunak, Søren; Blom, Nikolaj\n",
       "- **Publish date/time:** 2004-06-06\n",
       "- **Linked references:** 0\n",
       "- **Linked referenced by:** 0\n",
       "- **Abstract:** BACKGROUND: Despite the passing of more than a year since the first outbreak of Severe Acute Respiratory Syndrome (SARS), efficient counter-measures are still few and many believe that reappearance of SARS, or a similar disease caused by a coronavirus, is not unlikely. For other virus families like the picornaviruses it is known that pathology is related to proteolytic cleavage of host proteins by viral proteinases. Furthermore, several studies indicate that virus proliferation can be arrested using specific proteinase inhibitors supporting the belief that proteinases are indeed important during infection. Prompted by this, we set out to analyse and predict cleavage by the coronavirus main proteinase using computational methods. RESULTS: We retrieved sequence data on seven fully sequenced coronaviruses and identified the main 3CL proteinase cleavage sites in polyproteins using alignments. A neural network was trained to recognise the cleavage sites in the genomes obtaining a sensitivity of 87.0% and a specificity of 99.0%. Several proteins known to be cleaved by other viruses were submitted to prediction as well as proteins suspected relevant in coronavirus pathology. Cleavage sites were predicted in proteins such as the cystic fibrosis transmembrane conductance regulator (CFTR), transcription factors CREB-RP and OCT-1, and components of the ubiquitin pathway. CONCLUSIONS: Our prediction method NetCorona predicts coronavirus cleavage sites with high specificity and several potential cleavage candidates were identified which might be important to elucidate coronavirus pathology. Furthermore, the method might assist in design of proteinase inhibitors for treatment of SARS and possible future diseases caused by coronaviruses. It is made available for public use at our website: ."
      ],
      "text/plain": [
       "<IPython.core.display.Markdown object>"
      ]
     },
     "metadata": {},
     "output_type": "display_data"
    },
    {
     "data": {
      "text/markdown": [
       "\n",
       "- **Title:** A novel pancoronavirus RT-PCR assay: frequent detection of human coronavirus NL63 in children hospitalized with respiratory tract infections in Belgium\n",
       "- **Authors:** Moës, Elien; Vijgen, Leen; Keyaerts, Els; Zlateva, Kalina; Li, Sandra; Maes, Piet; Pyrc, Krzysztof; Berkhout, Ben; van der Hoek, Lia; Van Ranst, Marc\n",
       "- **Publish date/time:** 2005-02-01\n",
       "- **Linked references:** 0\n",
       "- **Linked referenced by:** 0\n",
       "- **Abstract:** BACKGROUND: Four human coronaviruses are currently known to infect the respiratory tract: human coronaviruses OC43 (HCoV-OC43) and 229E (HCoV-229E), SARS associated coronavirus (SARS-CoV) and the recently identified human coronavirus NL63 (HCoV-NL63). In this study we explored the incidence of HCoV-NL63 infection in children diagnosed with respiratory tract infections in Belgium. METHODS: Samples from children hospitalized with respiratory diseases during the winter seasons of 2003 and 2004 were evaluated for the presence of HCoV-NL63 using a optimized pancoronavirus RT-PCR assay. RESULTS: Seven HCoV-NL63 positive samples were identified, six were collected during January/February 2003 and one at the end of February 2004. CONCLUSIONS: Our results support the notation that HCoV-NL63 can cause serious respiratory symptoms in children. Sequence analysis of the S gene showed that our isolates could be classified into two subtypes corresponding to the two prototype HCoV-NL63 sequences isolated in The Netherlands in 1988 and 2003, indicating that these two subtypes may currently be cocirculating."
      ],
      "text/plain": [
       "<IPython.core.display.Markdown object>"
      ]
     },
     "metadata": {},
     "output_type": "display_data"
    },
    {
     "data": {
      "text/markdown": [
       "\n",
       "- **Title:** Receptor and viral determinants of SARS-coronavirus adaptation to human ACE2\n",
       "- **Authors:** Li, Wenhui; Zhang, Chengsheng; Sui, Jianhua; Kuhn, Jens H; Moore, Michael J; Luo, Shiwen; Wong, Swee-Kee; Huang, I-Chueh; Xu, Keming; Vasilieva, Natalya; Murakami, Akikazu; He, Yaqing; Marasco, Wayne A; Guan, Yi; Choe, Hyeryun; Farzan, Michael\n",
       "- **Publish date/time:** 2005-03-24\n",
       "- **Linked references:** 0\n",
       "- **Linked referenced by:** 0\n",
       "- **Abstract:** Human angiotensin-converting enzyme 2 (ACE2) is a functional receptor for SARS coronavirus (SARS-CoV). Here we identify the SARS-CoV spike (S)-protein-binding site on ACE2. We also compare S proteins of SARS-CoV isolated during the 2002–2003 SARS outbreak and during the much less severe 2003–2004 outbreak, and from palm civets, a possible source of SARS-CoV found in humans. All three S proteins bound to and utilized palm-civet ACE2 efficiently, but the latter two S proteins utilized human ACE2 markedly less efficiently than did the S protein obtained during the earlier human outbreak. The lower affinity of these S proteins could be complemented by altering specific residues within the S-protein-binding site of human ACE2 to those of civet ACE2, or by altering S-protein residues 479 and 487 to residues conserved during the 2002–2003 outbreak. Collectively, these data describe molecular interactions important to the adaptation of SARS-CoV to human cells, and provide insight into the severity of the 2002–2003 SARS epidemic."
      ],
      "text/plain": [
       "<IPython.core.display.Markdown object>"
      ]
     },
     "metadata": {},
     "output_type": "display_data"
    },
    {
     "name": "stdout",
     "output_type": "stream",
     "text": [
      "Topic ID 3\n"
     ]
    },
    {
     "data": {
      "text/markdown": [
       "\n",
       "- **Title:** Detection of hepatitis C virus in the nasal secretions of an intranasal drug-user\n",
       "- **Authors:** McMahon, James M; Simm, Malgorzata; Milano, Danielle; Clatts, Michael\n",
       "- **Publish date/time:** 2004-05-07\n",
       "- **Linked references:** 0\n",
       "- **Linked referenced by:** 0\n",
       "- **Abstract:** BACKGROUND: One controversial source of infection for hepatitis C virus (HCV) involves the sharing of contaminated implements, such as straws or spoons, used to nasally inhale cocaine and other powdered drugs. An essential precondition for this mode of transmission is the presence of HCV in the nasal secretions of intranasal drug users. METHODS: Blood and nasal secretion samples were collected from five plasma-positive chronic intranasal drug users and tested for HCV RNA using RT-PCR. RESULTS: HCV was detected in all five blood samples and in the nasal secretions of the subject with the highest serum viral load. CONCLUSIONS: This study is the first to demonstrate the presence of HCV in nasal secretions. This finding has implications for potential transmission of HCV through contact with contaminated nasal secretions."
      ],
      "text/plain": [
       "<IPython.core.display.Markdown object>"
      ]
     },
     "metadata": {},
     "output_type": "display_data"
    },
    {
     "data": {
      "text/markdown": [
       "\n",
       "- **Title:** The effects of injection of bovine vaccine into a human digit: a case report\n",
       "- **Authors:** O'Neill, Jennifer K; Richards, Simon W; Ricketts, David M; Patterson, Marc H\n",
       "- **Publish date/time:** 2005-10-11\n",
       "- **Linked references:** 0\n",
       "- **Linked referenced by:** 0\n",
       "- **Abstract:** BACKGROUND: The incidence of needlestick injuries in farmers and veterinary surgeons is significant and the consequences of such an injection can be serious. CASE PRESENTATION: We report accidental injection of bovine vaccine into the base of the little finger. This resulted in increased pressure in the flexor sheath causing signs and symptoms of ischemia. Amputation of the digit was required despite repeated surgical debridement and decompression. CONCLUSION: There have been previous reports of injection of oil-based vaccines into the human hand resulting in granulomatous inflammation or sterile abscess and causing morbidity and tissue loss. Self-injection with veterinary vaccines is an occupational hazard for farmers and veterinary surgeons. Injection of vaccine into a closed compartment such as the human finger can have serious sequelae including loss of the injected digit. These injuries are not to be underestimated. Early debridement and irrigation of the injected area with decompression is likely to give the best outcome. Frequent review is necessary after the first procedure because repeat operations may be required."
      ],
      "text/plain": [
       "<IPython.core.display.Markdown object>"
      ]
     },
     "metadata": {},
     "output_type": "display_data"
    },
    {
     "data": {
      "text/markdown": [
       "\n",
       "- **Title:** Correlation between the presence of neutralizing antibodies against porcine circovirus 2 (PCV2) and protection against replication of the virus and development of PCV2-associated disease\n",
       "- **Authors:** Meerts, Peter; Misinzo, Gerald; Lefebvre, David; Nielsen, Jens; Bøtner, Anette; Kristensen, Charlotte S; Nauwynck, Hans J\n",
       "- **Publish date/time:** 2006-01-30\n",
       "- **Linked references:** 0\n",
       "- **Linked referenced by:** 0\n",
       "- **Abstract:** BACKGROUND: In a previous study, it was demonstrated that high replication of Porcine circovirus 2 (PCV2) in a gnotobiotic pig was correlated with the absence of PCV2-neutralizing antibodies. The aim of the present study was to investigate if this correlation could also be found in SPF pigs in which PMWS was experimentally reproduced and in naturally PMWS-affected pigs. RESULTS: When looking at the total anti-PCV2 antibody titres, PMWS-affected and healthy animals seroconverted at the same time point, and titres in PMWS-affected animals were only slightly lower compared to those in healthy animals. In healthy animals, the evolution of PCV2-neutralizing antibodies coincided with that of total antibodies. In PMWS-affected animals, neutralizing antibodies could either not be found (sera from field studies) or were detected in low titres between 7 and 14 DPI only (sera from experimentally inoculated SPF pigs). Differences were also found in the evolution of specific antibody isotypes titres against PCV2. In healthy pigs, IgM antibodies persisted until the end of the study, whereas in PMWS-affected pigs they quickly decreased or remained present at low titres. The mean titres of other antibody isotypes (IgG1, IgG2 and IgA), were slightly lower in PMWS-affected pigs compared to their healthy group mates at the end of each study. CONCLUSION: This study describes important differences in the development of the humoral immune response between pigs that get subclinically infected with PCV2 and pigs that experience a high level of PCV2-replication which in 3 of 4 experiments led to the development of PMWS. These observations may contribute to a better understanding of the pathogenesis of a PCV2-infection."
      ],
      "text/plain": [
       "<IPython.core.display.Markdown object>"
      ]
     },
     "metadata": {},
     "output_type": "display_data"
    },
    {
     "data": {
      "text/markdown": [
       "\n",
       "- **Title:** Mycoplasma alkalescens demonstrated in bronchoalveolar lavage of cattle in Denmark\n",
       "- **Authors:** Kokotovic, Branko; Friis, Niels F; Ahrens, Peter\n",
       "- **Publish date/time:** 2007-01-04\n",
       "- **Linked references:** 0\n",
       "- **Linked referenced by:** 0\n",
       "- **Abstract:** Mycoplasma alkalescens is an arginine-metabolizing mycoplasma, which has been found in association with mastitis and arthritis in cattle. Routine bacteriological examination of 17 bronchoalveolar lavage samples from calves with pneumonia in a single herd in Denmark, identified M. alkalescens in eight samples. The organism was found as a sole bacterilogical findings in five of the samples as well as in combination with Mannheimia haemolytica, Haemophilus somni and Salmonella Dublin. This is the first report of isolation of M. alkalescens in Denmark."
      ],
      "text/plain": [
       "<IPython.core.display.Markdown object>"
      ]
     },
     "metadata": {},
     "output_type": "display_data"
    },
    {
     "data": {
      "text/markdown": [
       "\n",
       "- **Title:** Neutralizing Antibody Fails to Impact the Course of Ebola Virus Infection in Monkeys\n",
       "- **Authors:** Oswald, Wendelien B; Geisbert, Thomas W; Davis, Kelly J; Geisbert, Joan B; Sullivan, Nancy J; Jahrling, Peter B; Parren, Paul W. H. I; Burton, Dennis R\n",
       "- **Publish date/time:** 2007-01-19\n",
       "- **Linked references:** 0\n",
       "- **Linked referenced by:** 0\n",
       "- **Abstract:** Prophylaxis with high doses of neutralizing antibody typically offers protection against challenge with viruses producing acute infections. In this study, we have investigated the ability of the neutralizing human monoclonal antibody, KZ52, to protect against Ebola virus in rhesus macaques. This antibody was previously shown to fully protect guinea pigs from infection. Four rhesus macaques were given 50 mg/kg of neutralizing human monoclonal antibody KZ52 intravenously 1 d before challenge with 1,000 plaque-forming units of Ebola virus, followed by a second dose of 50 mg/kg antibody 4 d after challenge. A control animal was exposed to virus in the absence of antibody treatment. Passive transfer of the neutralizing human monoclonal antibody not only failed to protect macaques against challenge with Ebola virus but also had a minimal effect on the explosive viral replication following infection. We show that the inability of antibody to impact infection was not due to neutralization escape. It appears that Ebola virus has a mechanism of infection propagation in vivo in macaques that is uniquely insensitive even to high concentrations of neutralizing antibody."
      ],
      "text/plain": [
       "<IPython.core.display.Markdown object>"
      ]
     },
     "metadata": {},
     "output_type": "display_data"
    },
    {
     "name": "stdout",
     "output_type": "stream",
     "text": [
      "Topic ID 4\n"
     ]
    },
    {
     "data": {
      "text/markdown": [
       "\n",
       "- **Title:** Sequence requirements for RNA strand transfer during nidovirus discontinuous subgenomic RNA synthesis\n",
       "- **Authors:** Pasternak, Alexander O.; van den Born, Erwin; Spaan, Willy J.M.; Snijder, Eric J.\n",
       "- **Publish date/time:** 2001-12-17\n",
       "- **Linked references:** 0\n",
       "- **Linked referenced by:** 0\n",
       "- **Abstract:** Nidovirus subgenomic mRNAs contain a leader sequence derived from the 5′ end of the genome fused to different sequences (‘bodies’) derived from the 3′ end. Their generation involves a unique mechanism of discontinuous subgenomic RNA synthesis that resembles copy-choice RNA recombination. During this process, the nascent RNA strand is transferred from one site in the template to another, during either plus or minus strand synthesis, to yield subgenomic RNA molecules. Central to this process are transcription-regulating sequences (TRSs), which are present at both template sites and ensure the fidelity of strand transfer. Here we present results of a comprehensive co-variation mutagenesis study of equine arteritis virus TRSs, demonstrating that discontinuous RNA synthesis depends not only on base pairing between sense leader TRS and antisense body TRS, but also on the primary sequence of the body TRS. While the leader TRS merely plays a targeting role for strand transfer, the body TRS fulfils multiple functions. The sequences of mRNA leader–body junctions of TRS mutants strongly suggested that the discontinuous step occurs during minus strand synthesis."
      ],
      "text/plain": [
       "<IPython.core.display.Markdown object>"
      ]
     },
     "metadata": {},
     "output_type": "display_data"
    },
    {
     "data": {
      "text/markdown": [
       "\n",
       "- **Title:** Discontinuous and non-discontinuous subgenomic RNA transcription in a nidovirus\n",
       "- **Authors:** van Vliet, A.L.W.; Smits, S.L.; Rottier, P.J.M.; de Groot, R.J.\n",
       "- **Publish date/time:** 2002-12-01\n",
       "- **Linked references:** 0\n",
       "- **Linked referenced by:** 0\n",
       "- **Abstract:** Arteri-, corona-, toro- and roniviruses are evolutionarily related positive-strand RNA viruses, united in the order Nidovirales. The best studied nidoviruses, the corona- and arteriviruses, employ a unique transcription mechanism, which involves discontinuous RNA synthesis, a process resembling similarity-assisted copy-choice RNA recombination. During infection, multiple subgenomic (sg) mRNAs are transcribed from a mirror set of sg negative-strand RNA templates. The sg mRNAs all possess a short 5′ common leader sequence, derived from the 5′ end of the genomic RNA. The joining of the non-contiguous ‘leader’ and ‘body’ sequences presumably occurs during minus-strand synthesis. To study whether toroviruses use a similar transcription mechanism, we characterized the 5′ termini of the genome and the four sg mRNAs of Berne virus (BEV). We show that BEV mRNAs 3–5 lack a leader sequence. Surprisingly, however, RNA 2 does contain a leader, identical to the 5′-terminal 18 residues of the genome. Apparently, BEV combines discontinuous and non-discontinous RNA synthesis to produce its sg mRNAs. Our findings have important implications for the understanding of the mechanism and evolution of nidovirus transcription."
      ],
      "text/plain": [
       "<IPython.core.display.Markdown object>"
      ]
     },
     "metadata": {},
     "output_type": "display_data"
    },
    {
     "data": {
      "text/markdown": [
       "\n",
       "- **Title:** Discovering human history from stomach bacteria\n",
       "- **Authors:** Disotell, Todd R\n",
       "- **Publish date/time:** 2003-04-28\n",
       "- **Linked references:** 0\n",
       "- **Linked referenced by:** 0\n",
       "- **Abstract:** Recent analyses of human pathogens have revealed that their evolutionary histories are congruent with the hypothesized pattern of ancient and modern human population migrations. Phylogenetic trees of strains of the bacterium Helicobacter pylori and the polyoma JC virus taken from geographically diverse groups of human beings correlate closely with relationships of the populations in which they are found."
      ],
      "text/plain": [
       "<IPython.core.display.Markdown object>"
      ]
     },
     "metadata": {},
     "output_type": "display_data"
    },
    {
     "data": {
      "text/markdown": [
       "\n",
       "- **Title:** Relationship of SARS-CoV to other pathogenic RNA viruses explored by tetranucleotide usage profiling\n",
       "- **Authors:** Yap, Yee Leng; Zhang, Xue Wu; Danchin, Antoine\n",
       "- **Publish date/time:** 2003-09-20\n",
       "- **Linked references:** 0\n",
       "- **Linked referenced by:** 0\n",
       "- **Abstract:** BACKGROUND: The exact origin of the cause of the Severe Acute Respiratory Syndrome (SARS) is still an open question. The genomic sequence relationship of SARS-CoV with 30 different single-stranded RNA (ssRNA) viruses of various families was studied using two non-standard approaches. Both approaches began with the vectorial profiling of the tetra-nucleotide usage pattern V for each virus. In approach one, a distance measure of a vector V, based on correlation coefficient was devised to construct a relationship tree by the neighbor-joining algorithm. In approach two, a multivariate factor analysis was performed to derive the embedded tetra-nucleotide usage patterns. These patterns were subsequently used to classify the selected viruses. RESULTS: Both approaches yielded relationship outcomes that are consistent with the known virus classification. They also indicated that the genome of RNA viruses from the same family conform to a specific pattern of word usage. Based on the correlation of the overall tetra-nucleotide usage patterns, the Transmissible Gastroenteritis Virus (TGV) and the Feline CoronaVirus (FCoV) are closest to SARS-CoV. Surprisingly also, the RNA viruses that do not go through a DNA stage displayed a remarkable discrimination against the CpG and UpA di-nucleotide (z = -77.31, -52.48 respectively) and selection for UpG and CpA (z = 65.79,49.99 respectively). Potential factors influencing these biases are discussed. CONCLUSION: The study of genomic word usage is a powerful method to classify RNA viruses. The congruence of the relationship outcomes with the known classification indicates that there exist phylogenetic signals in the tetra-nucleotide usage patterns, that is most prominent in the replicase open reading frames."
      ],
      "text/plain": [
       "<IPython.core.display.Markdown object>"
      ]
     },
     "metadata": {},
     "output_type": "display_data"
    },
    {
     "data": {
      "text/markdown": [
       "\n",
       "- **Title:** Viral Discovery and Sequence Recovery Using DNA Microarrays\n",
       "- **Authors:** Wang, David; Urisman, Anatoly; Liu, Yu-Tsueng; Springer, Michael; Ksiazek, Thomas G; Erdman, Dean D; Mardis, Elaine R; Hickenbotham, Matthew; Magrini, Vincent; Eldred, James; Latreille, J. Phillipe; Wilson, Richard K; Ganem, Don; DeRisi, Joseph L\n",
       "- **Publish date/time:** 2003-11-17\n",
       "- **Linked references:** 0\n",
       "- **Linked referenced by:** 0\n",
       "- **Abstract:** Because of the constant threat posed by emerging infectious diseases and the limitations of existing approaches used to identify new pathogens, there is a great demand for new technological methods for viral discovery. We describe herein a DNA microarray-based platform for novel virus identification and characterization. Central to this approach was a DNA microarray designed to detect a wide range of known viruses as well as novel members of existing viral families; this microarray contained the most highly conserved 70mer sequences from every fully sequenced reference viral genome in GenBank. During an outbreak of severe acute respiratory syndrome (SARS) in March 2003, hybridization to this microarray revealed the presence of a previously uncharacterized coronavirus in a viral isolate cultivated from a SARS patient. To further characterize this new virus, approximately 1 kb of the unknown virus genome was cloned by physically recovering viral sequences hybridized to individual array elements. Sequencing of these fragments confirmed that the virus was indeed a new member of the coronavirus family. This combination of array hybridization followed by direct viral sequence recovery should prove to be a general strategy for the rapid identification and characterization of novel viruses and emerging infectious disease."
      ],
      "text/plain": [
       "<IPython.core.display.Markdown object>"
      ]
     },
     "metadata": {},
     "output_type": "display_data"
    },
    {
     "name": "stdout",
     "output_type": "stream",
     "text": [
      "Topic ID 5\n"
     ]
    },
    {
     "data": {
      "text/markdown": [
       "\n",
       "- **Title:** Ménage à trois of bacterial and viral pulmonary pathogens delivers coup de grace to the lung\n",
       "- **Authors:** HUSSELL, T; WILLIAMS, A\n",
       "- **Publish date/time:** 2004-06-15\n",
       "- **Linked references:** 0\n",
       "- **Linked referenced by:** 0\n",
       "- **Abstract:** nan"
      ],
      "text/plain": [
       "<IPython.core.display.Markdown object>"
      ]
     },
     "metadata": {},
     "output_type": "display_data"
    },
    {
     "data": {
      "text/markdown": [
       "\n",
       "- **Title:** About the Cover Vincent van Gogh (1853–1890). The Prison Courtyard (1890)\n",
       "- **Authors:** Potter, Polyxeni\n",
       "- **Publish date/time:** 2003-09-23\n",
       "- **Linked references:** 0\n",
       "- **Linked referenced by:** 0\n",
       "- **Abstract:** nan"
      ],
      "text/plain": [
       "<IPython.core.display.Markdown object>"
      ]
     },
     "metadata": {},
     "output_type": "display_data"
    },
    {
     "data": {
      "text/markdown": [
       "\n",
       "- **Title:** Guild-level responses of bats to habitat conversion in a lowland Amazonian rainforest: species composition and biodiversity\n",
       "- **Authors:** Willig, Michael R; Presley, Steven J; Plante, Jean-Luc; Bloch, Christopher P; Solari, Sergio; Pacheco, Victor; Weaver, Scott C\n",
       "- **Publish date/time:** 2019-02-28\n",
       "- **Linked references:** 0\n",
       "- **Linked referenced by:** 0\n",
       "- **Abstract:** Landscape modification represents one of the most severe threats to biodiversity from local to global scales. Conversion of forest to agricultural production generally results in patches of habitat that subdivide or isolate populations, alter the behavior of species, modify interspecific interactions, reduce biodiversity, and compromise ecosystem processes. Moreover, conversion may increase exposure of humans to zoonoses to which they would otherwise rarely be exposed. We evaluated the effects of forest conversion to agriculture, and its subsequent successional dynamics, on bat communities in a region of the Amazon that was predominantly closed-canopy rainforest. Based on a nonmanipulative experiment, we quantified differences in species composition, community structure, and taxonomic biodiversity among closed-canopy forest (bosque), agricultural lands (chacra), and secondary forest (purma) for two phyllostomid guilds (frugivores and gleaning animalivores) during the wet and dry seasons. Responses were complex and guild-specific. For frugivores, species composition (species abundance distributions) differed between all possible pairs of habitats in both wet and dry seasons. For gleaning animalivores, species composition differed between all possible pairs of habitats in the dry season, but no differences characterized the wet season. Ecological structure (rank abundance distributions) differed among habitats in guild-specific and season-specific manners. For frugivores, mean diversity, evenness, and dominance were greater in bosque than in purma; mean dominance was greater in bosque than in chacra, but local rarity was greater in chacra than in bosque, and no differences were manifest between purma and chacra. For gleaning animalivores, mean diversity and evenness were greater in bosque than in purma, but no differences were manifest between chacra and bosque, or between purma and chacra. Such results have important implications for management, conservation, and the epidemiology of zoonotic diseases. La actual modificación del paisaje, a escalas que van de lo local a lo global, es una de las amenazas más severas a la biodiversidad. De manera general, la conversión de bosques a áreas agrícolas produce parches de hábitat que subdividen o aíslan poblaciones, alteran la conducta de las especies, modifican las interacciones interespecíficas, reducen la biodiversidad y comprometen las funciones de los ecosistemas. Más aún, la transformación de estos ambientes puede incrementar la probabilidad de que las poblaciones humanas interactúen con zoonosis con las que de otra manera raramente entrarían en contacto. Evaluamos los efectos de la conversión de hábitat en comunidades de murciélagos en una región de Amazonia en la que la vegetación dominante es un bosque lluvioso de copas cerradas, y en la cual los efectos de la conversión a usos agrícolas sobre la biodiversidad, y la subsecuente dinámica sucesional, son aún poco comprendidos. Por medio de un experimento no-manipulativo, cuantificamos las diferencias en composición de especies, estructura de la comunidad y diversidad taxonómica entre bosque cerrado (bosque), áreas agrícolas (chacra) y bosque secundario (purma) para dos gremios tróficos de murciélagos filostómidos (frugívoros y forrajeadores de sustrato) durante dos temporadas (secas y lluvias). Las respuestas fueron complejas y diferentes para cada gremio. Para los frugívoros, la composición de especies (distribución de las abundancias) fue diferente para todos los posibles pares de hábitats tanto para secas como para lluvias. Para los forrajeadores de sustrato, la composición de especies difirió entre todos los posibles pares de hábitats en la temporada seca, pero no en la de lluvias. La estructura ecológica (distribuciones rango-abundancia) fue también específica para gremios y temporadas. Para los frugívoros, la diversidad promedio, equidad y dominancia fueron mayores en bosque que en purma; la dominancia promedio fue mayor en bosque que en chacra, pero la rareza local fue mayor en chacra que en bosque, y no se encontraron diferencias entre purma y chacra. Para los forrajeadores de sustrato, la diversidad promedio y la dominancia fueron mayores en bosque que en purma, pero no se detectaron diferencias entre chacra y bosque, o entre purma y chacra. Estos resultados tienen importantes implicaciones para el manejo, conservación y epidemiología de zoonosis."
      ],
      "text/plain": [
       "<IPython.core.display.Markdown object>"
      ]
     },
     "metadata": {},
     "output_type": "display_data"
    },
    {
     "data": {
      "text/markdown": [
       "\n",
       "- **Title:** Social Media and the Dissemination of Prepublication Data in Surgical Fields\n",
       "- **Authors:** Akhavan, Arya A.; Ndem, Idorenyin E.; Kalliainen, Loree K.\n",
       "- **Publish date/time:** 2019-06-19\n",
       "- **Linked references:** 0\n",
       "- **Linked referenced by:** 0\n",
       "- **Abstract:** BACKGROUND: This review investigates the use of social media at surgical conferences and possible effects of prepublication data release in surgical fields. Potential risks include patient harm by the preliminary application of research that lacks sufficient peer review, infringements on intellectual property, and loss of “research novelty.” METHODS: A literature review of the current use of social media in dispersion of prepublication data was performed. Current submission guidelines for surgical conferences and journals were analyzed for data release embargos and social media use policies. RESULTS: Conference abstract guidelines mentioned data embargos half of the time and the use of social media less than one third of the time. Eighty percentage of journal instructions to authors contained guidelines on both. CONCLUSIONS: In nonsurgical fields, the appropriateness of the use of social media to release prepublication data is increasingly being discussed. Little guidance exists on how surgical conference attendees should use social media while at conferences. Given the potential for patient harm and negative impact on intellectual property and attribution, further discussion is warranted. INTRODUCCIÓN: Esta crítica investiga el uso de las redes sociales en las conferencias quirúrgicas y los efectos posibles de los datos pre-publicados en cirugía. Los riesgos probables incluyen: daño al paciente causado por la aplicación prematura de las investigaciones sin bastante análisis, violación de la propiedad intelectual, y perdido de “novedad de investigación.” METODOLOGÍA: Un repaso fue hecho sobre el rol de las redes sociales en la propagación de los datos pre-publicados. Las normas actuales para la entrega de las conferencias y los periódicos quirúrgicos claves fueron analizadas por las reglas gobernando el uso de las redes sociales y los embargos del lanzamiento de datos. RESULTADOS: Las reglas generales sobre la entrega de abstractos para las conferencias mencionaron los embargos de datos la mitad del tiempo mientras que estas mismas reglas mencionaron el uso de las redes sociales menos que un tercio el tiempo. 80% de las instrucciones de los periódicos dirigidas a los autores tuvieron las reglas generales sobre los dos: los embargos de datas y las redes sociales. CONCLUSIONES: En las especialidades non-quirúrgicas, la pertinencia del uso de las redes sociales para lanzar el dato pre-publicado es discutida con más frecuencia. No existen normas sobre cómo se usan las redes sociales durante las conferencias. Dado el daño potencial al paciente y el impacto negativo en la propiedad y la atribución intelectuales, más discusión está obligatoria."
      ],
      "text/plain": [
       "<IPython.core.display.Markdown object>"
      ]
     },
     "metadata": {},
     "output_type": "display_data"
    },
    {
     "data": {
      "text/markdown": [
       "\n",
       "- **Title:** Was man von Viren lernen kann\n",
       "- **Authors:** Welte, T.; Vogelmeier, C. F.\n",
       "- **Publish date/time:** 2019-10-25\n",
       "- **Linked references:** 0\n",
       "- **Linked referenced by:** 0\n",
       "- **Abstract:** nan"
      ],
      "text/plain": [
       "<IPython.core.display.Markdown object>"
      ]
     },
     "metadata": {},
     "output_type": "display_data"
    },
    {
     "name": "stdout",
     "output_type": "stream",
     "text": [
      "Topic ID 6\n"
     ]
    },
    {
     "data": {
      "text/markdown": [
       "\n",
       "- **Title:** Airborne rhinovirus detection and effect of ultraviolet irradiation on detection by a semi-nested RT-PCR assay\n",
       "- **Authors:** Myatt, Theodore A; Johnston, Sebastian L; Rudnick, Stephen; Milton, Donald K\n",
       "- **Publish date/time:** 2003-01-13\n",
       "- **Linked references:** 0\n",
       "- **Linked referenced by:** 0\n",
       "- **Abstract:** BACKGROUND: Rhinovirus, the most common cause of upper respiratory tract infections, has been implicated in asthma exacerbations and possibly asthma deaths. Although the method of transmission of rhinoviruses is disputed, several studies have demonstrated that aerosol transmission is a likely method of transmission among adults. As a first step in studies of possible airborne rhinovirus transmission, we developed methods to detect aerosolized rhinovirus by extending existing technology for detecting infectious agents in nasal specimens. METHODS: We aerosolized rhinovirus in a small aerosol chamber. Experiments were conducted with decreasing concentrations of rhinovirus. To determine the effect of UV irradiation on detection of rhinoviral aerosols, we also conducted experiments in which we exposed aerosols to a UV dose of 684 mJ/m(2). Aerosols were collected on Teflon filters and rhinovirus recovered in Qiagen AVL buffer using the Qiagen QIAamp Viral RNA Kit (Qiagen Corp., Valencia, California) followed by semi-nested RT-PCR and detection by gel electrophoresis. RESULTS: We obtained positive results from filter samples that had collected at least 1.3 TCID(50 )of aerosolized rhinovirus. Ultraviolet irradiation of airborne virus at doses much greater than those used in upper-room UV germicidal irradiation applications did not inhibit subsequent detection with the RT-PCR assay. CONCLUSION: The air sampling and extraction methodology developed in this study should be applicable to the detection of rhinovirus and other airborne viruses in the indoor air of offices and schools. This method, however, cannot distinguish UV inactivated virus from infectious viral particles."
      ],
      "text/plain": [
       "<IPython.core.display.Markdown object>"
      ]
     },
     "metadata": {},
     "output_type": "display_data"
    },
    {
     "data": {
      "text/markdown": [
       "\n",
       "- **Title:** A touchdown nucleic acid amplification protocol as an alternative to culture backup for immunofluorescence in the routine diagnosis of acute viral respiratory tract infections\n",
       "- **Authors:** Coyle, Peter V; Ong, Grace M; O'Neill, Hugh J; McCaughey, Conall; De Ornellas, Dennis; Mitchell, Frederick; Mitchell, Suzanne J; Feeney, Susan A; Wyatt, Dorothy E; Forde, Marian; Stockton, Joanne\n",
       "- **Publish date/time:** 2004-10-25\n",
       "- **Linked references:** 0\n",
       "- **Linked referenced by:** 0\n",
       "- **Abstract:** BACKGROUND: Immunofluorescence and virus culture are the main methods used to diagnose acute respiratory virus infections. Diagnosing these infections using nucleic acid amplification presents technical challenges, one of which is facilitating the different optimal annealing temperatures needed for each virus. To overcome this problem we developed a diagnostic molecular strip which combined a generic nested touchdown protocol with in-house primer master-mixes that could recognise 12 common respiratory viruses. RESULTS: Over an 18 month period a total of 222 specimens were tested by both immunofluorescence and the molecular strip. The specimens came from 103 males (median age 3.5 y), 80 females (median age 9 y) and 5 quality assurance scheme specimens. Viruses were recovered from a number of specimen types including broncho-alveolar lavage, nasopharyngeal secretions, sputa, post-mortem lung tissue and combined throat and nasal swabs. Viral detection by IF was poor in sputa and respiratory swabs. A total of 99 viruses were detected in the study from 79 patients and 4 quality control specimens: 31 by immunofluorescence and 99 using the molecular strip. The strip consistently out-performed immunofluorescence with no loss of diagnostic specificity. CONCLUSIONS: The touchdown protocol with pre-dispensed primer master-mixes was suitable for replacing virus culture for the diagnosis of respiratory viruses which were negative by immunofluorescence. Results by immunofluorescence were available after an average of 4–12 hours while molecular strip results were available within 24 hours, considerably faster than viral culture. The combined strip and touchdown protocol proved to be a convenient and reliable method of testing for multiple viruses in a routine setting."
      ],
      "text/plain": [
       "<IPython.core.display.Markdown object>"
      ]
     },
     "metadata": {},
     "output_type": "display_data"
    },
    {
     "data": {
      "text/markdown": [
       "\n",
       "- **Title:** Dynamic changes of serum SARS-Coronavirus IgG, pulmonary function and radiography in patients recovering from SARS after hospital discharge\n",
       "- **Authors:** Xie, Lixin; Liu, Youning; Fan, Baoxing; Xiao, Yueyong; Tian, Qing; Chen, Liangan; Zhao, Hong; Chen, Weijun\n",
       "- **Publish date/time:** 2005-01-08\n",
       "- **Linked references:** 0\n",
       "- **Linked referenced by:** 0\n",
       "- **Abstract:** OBJECTIVE: The intent of this study was to examine the recovery of individuals who had been hospitalized for severe acute respiratory syndrome (SARS) in the year following their discharge from the hospital. Parameters studied included serum levels of SARS coronavirus (SARS-CoV) IgG antibody, tests of lung function, and imaging data to evaluate changes in lung fibrosis. In addition, we explored the incidence of femoral head necrosis in some of the individuals recovering from SARS. METHODS: The subjects of this study were 383 clinically diagnosed SARS patients in Beijing, China. They were tested regularly for serum levels of SARS-CoV IgG antibody and lung function and were given chest X-rays and/or high resolution computerized tomography (HRCT) examinations at the Chinese PLA General Hospital during the 12 months that followed their release from the hospital. Those individuals who were found to have lung diffusion abnormities (transfer coefficient for carbon monoxide [D(L)CO] < 80% of predicted value [pred]) received regular lung function tests and HRCT examinations in the follow-up phase in order to document the changes in their lung condition. Some patients who complained of joint pain were given magnetic resonance imaging (MRI) examinations of their femoral heads. FINDINGS: Of all the subjects, 81.2% (311 of 383 patients) tested positive for serum SARS-CoV IgG. Of those testing positive, 27.3% (85 of 311 patients) were suffering from lung diffusion abnormities (D(L)CO < 80% pred) and 21.5% (67 of 311 patients) exhibited lung fibrotic changes. In the 12 month duration of this study, all of the 40 patients with lung diffusion abnormities who were examined exhibited some improvement of lung function and fibrosis detected by radiography. Of the individuals receiving MRI examinations, 23.1% (18 of 78 patients) showed signs of femoral head necrosis. INTERPRETATION: The lack of sero-positive SARS-CoV in some individuals suggests that there may have been some misdiagnosed cases among the subjects included in this study. Of those testing positive, the serum levels of SARS-CoV IgG antibody decreased significantly during the 12 months after hospital discharge. Additionally, we found that the individuals who had lung fibrosis showed some spontaneous recovery. Finally, some of the subjects developed femoral head necrosis."
      ],
      "text/plain": [
       "<IPython.core.display.Markdown object>"
      ]
     },
     "metadata": {},
     "output_type": "display_data"
    },
    {
     "data": {
      "text/markdown": [
       "\n",
       "- **Title:** Absence of association between angiotensin converting enzyme polymorphism and development of adult respiratory distress syndrome in patients with severe acute respiratory syndrome: a case control study\n",
       "- **Authors:** Chan, KC Allen; Tang, Nelson LS; Hui, David SC; Chung, Grace TY; Wu, Alan KL; Chim, Stephen SC; Chiu, Rossa WK; Lee, Nelson; Choi, KW; Sung, YM; Chan, Paul KS; Tong, YK; Lai, ST; Yu, WC; Tsang, Owen; Lo, YM Dennis\n",
       "- **Publish date/time:** 2005-04-09\n",
       "- **Linked references:** 0\n",
       "- **Linked referenced by:** 0\n",
       "- **Abstract:** BACKGROUND: It has been postulated that genetic predisposition may influence the susceptibility to SARS-coronavirus infection and disease outcomes. A recent study has suggested that the deletion allele (D allele) of the angiotensin converting enzyme (ACE) gene is associated with hypoxemia in SARS patients. Moreover, the ACE D allele has been shown to be more prevalent in patients suffering from adult respiratory distress syndrome (ARDS) in a previous study. Thus, we have investigated the association between ACE insertion/deletion (I/D) polymorphism and the progression to ARDS or requirement of intensive care in SARS patients. METHOD: One hundred and forty genetically unrelated Chinese SARS patients and 326 healthy volunteers were recruited. The ACE I/D genotypes were determined by polymerase chain reaction and agarose gel electrophoresis. RESULTS: There is no significant difference in the genotypic distributions and the allelic frequencies of the ACE I/D polymorphism between the SARS patients and the healthy control subjects. Moreover, there is also no evidence that ACE I/D polymorphism is associated with the progression to ARDS or the requirement of intensive care in the SARS patients. In multivariate logistic analysis, age is the only factor associated with the development of ARDS while age and male sex are independent factors associated with the requirement of intensive care. CONCLUSION: The ACE I/D polymorphism is not directly related to increased susceptibility to SARS-coronavirus infection and is not associated with poor outcomes after SARS-coronavirus infection."
      ],
      "text/plain": [
       "<IPython.core.display.Markdown object>"
      ]
     },
     "metadata": {},
     "output_type": "display_data"
    },
    {
     "data": {
      "text/markdown": [
       "\n",
       "- **Title:** Persistence of lung inflammation and lung cytokines with high-resolution CT abnormalities during recovery from SARS\n",
       "- **Authors:** Wang, Chun-Hua; Liu, Chien-Ying; Wan, Yung-Liang; Chou, Chun-Liang; Huang, Kuo-Hsiung; Lin, Horng-Chyuan; Lin, Shu-Min; Lin, Tzou-Yien; Chung, Kian Fan; Kuo, Han-Pin\n",
       "- **Publish date/time:** 2005-05-11\n",
       "- **Linked references:** 0\n",
       "- **Linked referenced by:** 0\n",
       "- **Abstract:** BACKGROUND: During the acute phase of severe acute respiratory syndrome (SARS), mononuclear cells infiltration, alveolar cell desquamation and hyaline membrane formation have been described, together with dysregulation of plasma cytokine levels. Persistent high-resolution computed tomography (HRCT) abnormalities occur in SARS patients up to 40 days after recovery. METHODS: To determine further the time course of recovery of lung inflammation, we investigated the HRCT and inflammatory profiles, and coronavirus persistence in bronchoalveolar lavage fluid (BALF) of 12 patients at recovery at 60 and 90 days. RESULTS: At 60 days, compared to normal controls, SARS patients had increased cellularity of BALF with increased alveolar macrophages (AM) and CD8 cells. HRCT scores were increased and correlated with T-cell numbers and their subpopulations, and inversely with CD4/CD8 ratio. TNF-α, IL-6, IL-8, RANTES and MCP-1 levels were increased. Viral particles in AM were detected by electron microscopy in 7 of 12 SARS patients with high HRCT score. On day 90, HRCT scores improved significantly in 10 of 12 patients, with normalization of BALF cell counts in 6 of 12 patients with repeat bronchoscopy. Pulse steroid therapy and prolonged fever were two independent factors associated with delayed resolution of pneumonitis, in this non-randomized, retrospective analysis. CONCLUSION: Resolution of pneumonitis is delayed in some patients during SARS recovery and may be associated with delayed clearance of coronavirus, Complete resolution may occur by 90 days or later."
      ],
      "text/plain": [
       "<IPython.core.display.Markdown object>"
      ]
     },
     "metadata": {},
     "output_type": "display_data"
    },
    {
     "name": "stdout",
     "output_type": "stream",
     "text": [
      "Topic ID 7\n"
     ]
    },
    {
     "data": {
      "text/markdown": [
       "\n",
       "- **Title:** Towards evidence-based, GIS-driven national spatial health information infrastructure and surveillance services in the United Kingdom\n",
       "- **Authors:** Boulos, Maged N Kamel\n",
       "- **Publish date/time:** 2004-01-28\n",
       "- **Linked references:** 0\n",
       "- **Linked referenced by:** 0\n",
       "- **Abstract:** The term \"Geographic Information Systems\" (GIS) has been added to MeSH in 2003, a step reflecting the importance and growing use of GIS in health and healthcare research and practices. GIS have much more to offer than the obvious digital cartography (map) functions. From a community health perspective, GIS could potentially act as powerful evidence-based practice tools for early problem detection and solving. When properly used, GIS can: inform and educate (professionals and the public); empower decision-making at all levels; help in planning and tweaking clinically and cost-effective actions, in predicting outcomes before making any financial commitments and ascribing priorities in a climate of finite resources; change practices; and continually monitor and analyse changes, as well as sentinel events. Yet despite all these potentials for GIS, they remain under-utilised in the UK National Health Service (NHS). This paper has the following objectives: (1) to illustrate with practical, real-world scenarios and examples from the literature the different GIS methods and uses to improve community health and healthcare practices, e.g., for improving hospital bed availability, in community health and bioterrorism surveillance services, and in the latest SARS outbreak; (2) to discuss challenges and problems currently hindering the wide-scale adoption of GIS across the NHS; and (3) to identify the most important requirements and ingredients for addressing these challenges, and realising GIS potential within the NHS, guided by related initiatives worldwide. The ultimate goal is to illuminate the road towards implementing a comprehensive national, multi-agency spatio-temporal health information infrastructure functioning proactively in real time. The concepts and principles presented in this paper can be also applied in other countries, and on regional (e.g., European Union) and global levels."
      ],
      "text/plain": [
       "<IPython.core.display.Markdown object>"
      ]
     },
     "metadata": {},
     "output_type": "display_data"
    },
    {
     "data": {
      "text/markdown": [
       "\n",
       "- **Title:** Virology on the Internet: the time is right for a new journal\n",
       "- **Authors:** Garry, Robert F\n",
       "- **Publish date/time:** 2004-08-26\n",
       "- **Linked references:** 0\n",
       "- **Linked referenced by:** 0\n",
       "- **Abstract:** Virology Journal is an exclusively on-line, Open Access journal devoted to the presentation of high-quality original research concerning human, animal, plant, insect bacterial, and fungal viruses. Virology Journal will establish a strategic alternative to the traditional virology communication process."
      ],
      "text/plain": [
       "<IPython.core.display.Markdown object>"
      ]
     },
     "metadata": {},
     "output_type": "display_data"
    },
    {
     "data": {
      "text/markdown": [
       "\n",
       "- **Title:** Clinical education of ethicists: the role of a clinical ethics fellowship\n",
       "- **Authors:** Chidwick, Paula; Faith, Karen; Godkin, Dianne; Hardingham, Laurie\n",
       "- **Publish date/time:** 2004-11-08\n",
       "- **Linked references:** 0\n",
       "- **Linked referenced by:** 0\n",
       "- **Abstract:** BACKGROUND: Although clinical ethicists are becoming more prevalent in healthcare settings, their required training and education have not been clearly delineated. Most agree that training and education are important, but their nature and delivery remain topics of debate. One option is through completion of a clinical ethics fellowship. METHOD: In this paper, the first four fellows to complete a newly developed fellowship program discuss their experiences. They describe the goals, structure, participants and activities of the fellowship. They identify key elements for succeeding as a clinical ethicist and sustaining a clinical ethics program. They critically reflect upon the challenges faced in the program. RESULTS: The one-year fellowship provided real-time clinical opportunities that helped them to develop the necessary knowledge and skills, gain insight into the role and scope of practice of clinical ethicists and hone valuable character traits. CONCLUSION: The fellowship enabled each of the fellows to assume confidently and competently a position as a clinical ethicist upon completion."
      ],
      "text/plain": [
       "<IPython.core.display.Markdown object>"
      ]
     },
     "metadata": {},
     "output_type": "display_data"
    },
    {
     "data": {
      "text/markdown": [
       "\n",
       "- **Title:** Trade and Health: Is the Health Community Ready for Action?\n",
       "- **Authors:** Lee, Kelley; Koivusalo, Meri\n",
       "- **Publish date/time:** 2005-01-25\n",
       "- **Linked references:** 0\n",
       "- **Linked referenced by:** 0\n",
       "- **Abstract:** There are greater tensions than ever before between promoting trade and protecting health. Human health could lose out to trade liberalization unless the health community fights its case"
      ],
      "text/plain": [
       "<IPython.core.display.Markdown object>"
      ]
     },
     "metadata": {},
     "output_type": "display_data"
    },
    {
     "data": {
      "text/markdown": [
       "\n",
       "- **Title:** Molecular mechanisms of severe acute respiratory syndrome (SARS)\n",
       "- **Authors:** Groneberg, David A; Hilgenfeld, Rolf; Zabel, Peter\n",
       "- **Publish date/time:** 2005-01-20\n",
       "- **Linked references:** 0\n",
       "- **Linked referenced by:** 0\n",
       "- **Abstract:** Severe acute respiratory syndrome (SARS) is a new infectious disease caused by a novel coronavirus that leads to deleterious pulmonary pathological features. Due to its high morbidity and mortality and widespread occurrence, SARS has evolved as an important respiratory disease which may be encountered everywhere in the world. The virus was identified as the causative agent of SARS due to the efforts of a WHO-led laboratory network. The potential mutability of the SARS-CoV genome may lead to new SARS outbreaks and several regions of the viral genomes open reading frames have been identified which may contribute to the severe virulence of the virus. With regard to the pathogenesis of SARS, several mechanisms involving both direct effects on target cells and indirect effects via the immune system may exist. Vaccination would offer the most attractive approach to prevent new epidemics of SARS, but the development of vaccines is difficult due to missing data on the role of immune system-virus interactions and the potential mutability of the virus. Even in a situation of no new infections, SARS remains a major health hazard, as new epidemics may arise. Therefore, further experimental and clinical research is required to control the disease."
      ],
      "text/plain": [
       "<IPython.core.display.Markdown object>"
      ]
     },
     "metadata": {},
     "output_type": "display_data"
    },
    {
     "name": "stdout",
     "output_type": "stream",
     "text": [
      "Topic ID 8\n"
     ]
    },
    {
     "data": {
      "text/markdown": [
       "\n",
       "- **Title:** A new recruit for the army of the men of death\n",
       "- **Authors:** Petsko, Gregory A\n",
       "- **Publish date/time:** 2003-06-27\n",
       "- **Linked references:** 0\n",
       "- **Linked referenced by:** 0\n",
       "- **Abstract:** The army of the men of death, in John Bunyan's memorable phrase, has a new recruit, and fear has a new face: a face wearing a surgical mask."
      ],
      "text/plain": [
       "<IPython.core.display.Markdown object>"
      ]
     },
     "metadata": {},
     "output_type": "display_data"
    },
    {
     "data": {
      "text/markdown": [
       "\n",
       "- **Title:** A double epidemic model for the SARS propagation\n",
       "- **Authors:** Ng, Tuen Wai; Turinici, Gabriel; Danchin, Antoine\n",
       "- **Publish date/time:** 2003-09-10\n",
       "- **Linked references:** 0\n",
       "- **Linked referenced by:** 0\n",
       "- **Abstract:** BACKGROUND: An epidemic of a Severe Acute Respiratory Syndrome (SARS) caused by a new coronavirus has spread from the Guangdong province to the rest of China and to the world, with a puzzling contagion behavior. It is important both for predicting the future of the present outbreak and for implementing effective prophylactic measures, to identify the causes of this behavior. RESULTS: In this report, we show first that the standard Susceptible-Infected-Removed (SIR) model cannot account for the patterns observed in various regions where the disease spread. We develop a model involving two superimposed epidemics to study the recent spread of the SARS in Hong Kong and in the region. We explore the situation where these epidemics may be caused either by a virus and one or several mutants that changed its tropism, or by two unrelated viruses. This has important consequences for the future: the innocuous epidemic might still be there and generate, from time to time, variants that would have properties similar to those of SARS. CONCLUSION: We find that, in order to reconcile the existing data and the spread of the disease, it is convenient to suggest that a first milder outbreak protected against the SARS. Regions that had not seen the first epidemic, or that were affected simultaneously with the SARS suffered much more, with a very high percentage of persons affected. We also find regions where the data appear to be inconsistent, suggesting that they are incomplete or do not reflect an appropriate identification of SARS patients. Finally, we could, within the framework of the model, fix limits to the future development of the epidemic, allowing us to identify landmarks that may be useful to set up a monitoring system to follow the evolution of the epidemic. The model also suggests that there might exist a SARS precursor in a large reservoir, prompting for implementation of precautionary measures when the weather cools down."
      ],
      "text/plain": [
       "<IPython.core.display.Markdown object>"
      ]
     },
     "metadata": {},
     "output_type": "display_data"
    },
    {
     "data": {
      "text/markdown": [
       "\n",
       "- **Title:** Air pollution and case fatality of SARS in the People's Republic of China: an ecologic study\n",
       "- **Authors:** Cui, Yan; Zhang, Zuo-Feng; Froines, John; Zhao, Jinkou; Wang, Hua; Yu, Shun-Zhang; Detels, Roger\n",
       "- **Publish date/time:** 2003-11-20\n",
       "- **Linked references:** 0\n",
       "- **Linked referenced by:** 0\n",
       "- **Abstract:** BACKGROUND: Severe acute respiratory syndrome (SARS) has claimed 349 lives with 5,327 probable cases reported in mainland China since November 2002. SARS case fatality has varied across geographical areas, which might be partially explained by air pollution level. METHODS: Publicly accessible data on SARS morbidity and mortality were utilized in the data analysis. Air pollution was evaluated by air pollution index (API) derived from the concentrations of particulate matter, sulfur dioxide, nitrogen dioxide, carbon monoxide and ground-level ozone. Ecologic analysis was conducted to explore the association and correlation between air pollution and SARS case fatality via model fitting. Partially ecologic studies were performed to assess the effects of long-term and short-term exposures on the risk of dying from SARS. RESULTS: Ecologic analysis conducted among 5 regions with 100 or more SARS cases showed that case fatality rate increased with the increment of API (case fatality = - 0.063 + 0.001 * API). Partially ecologic study based on short-term exposure demonstrated that SARS patients from regions with moderate APIs had an 84% increased risk of dying from SARS compared to those from regions with low APIs (RR = 1.84, 95% CI: 1.41–2.40). Similarly, SARS patients from regions with high APIs were twice as likely to die from SARS compared to those from regions with low APIs. (RR = 2.18, 95% CI: 1.31–3.65). Partially ecologic analysis based on long-term exposure to ambient air pollution showed the similar association. CONCLUSION: Our studies demonstrated a positive association between air pollution and SARS case fatality in Chinese population by utilizing publicly accessible data on SARS statistics and air pollution indices. Although ecologic fallacy and uncontrolled confounding effect might have biased the results, the possibility of a detrimental effect of air pollution on the prognosis of SARS patients deserves further investigation."
      ],
      "text/plain": [
       "<IPython.core.display.Markdown object>"
      ]
     },
     "metadata": {},
     "output_type": "display_data"
    },
    {
     "data": {
      "text/markdown": [
       "\n",
       "- **Title:** The Virus That Changed My World\n",
       "- **Authors:** Poh Ng, Lisa Fong\n",
       "- **Publish date/time:** 2003-12-22\n",
       "- **Linked references:** 0\n",
       "- **Linked referenced by:** 0\n",
       "- **Abstract:** Personal account of a young virologist working in Singapore at the height of the 2003 SARS pandemic"
      ],
      "text/plain": [
       "<IPython.core.display.Markdown object>"
      ]
     },
     "metadata": {},
     "output_type": "display_data"
    },
    {
     "data": {
      "text/markdown": [
       "\n",
       "- **Title:** Descriptive review of geographic mapping of severe acute respiratory syndrome (SARS) on the Internet\n",
       "- **Authors:** Boulos, Maged N Kamel\n",
       "- **Publish date/time:** 2004-01-28\n",
       "- **Linked references:** 0\n",
       "- **Linked referenced by:** 0\n",
       "- **Abstract:** From geographic mapping at different scales to location-based alerting services, geoinformatics plays an important role in the study and control of global outbreaks like severe acute respiratory syndrome (SARS). This paper reviews several geographic mapping efforts of SARS on the Internet that employ a variety of techniques like choropleth rendering, graduated circles, graduated pie charts, buffering, overlay analysis and animation. The aim of these mapping services is to educate the public (especially travellers to potentially at-risk areas) and assist public health authorities in analysing the spatial and temporal trends and patterns of SARS and in assessing/revising current control measures."
      ],
      "text/plain": [
       "<IPython.core.display.Markdown object>"
      ]
     },
     "metadata": {},
     "output_type": "display_data"
    },
    {
     "name": "stdout",
     "output_type": "stream",
     "text": [
      "Topic ID 9\n"
     ]
    },
    {
     "data": {
      "text/markdown": [
       "\n",
       "- **Title:** Crystal structure of murine sCEACAM1a[1,4]: a coronavirus receptor in the CEA family\n",
       "- **Authors:** Tan, Kemin; Zelus, Bruce D.; Meijers, Rob; Liu, Jin-huan; Bergelson, Jeffrey M.; Duke, Norma; Zhang, Rongguang; Joachimiak, Andrzej; Holmes, Kathryn V.; Wang, Jia-huai\n",
       "- **Publish date/time:** 2002-05-01\n",
       "- **Linked references:** 0\n",
       "- **Linked referenced by:** 0\n",
       "- **Abstract:** CEACAM1 is a member of the carcinoembryonic antigen (CEA) family. Isoforms of murine CEACAM1 serve as receptors for mouse hepatitis virus (MHV), a murine coronavirus. Here we report the crystal structure of soluble murine sCEACAM1a[1,4], which is composed of two Ig-like domains and has MHV neutralizing activity. Its N-terminal domain has a uniquely folded CC′ loop that encompasses key virus-binding residues. This is the first atomic structure of any member of the CEA family, and provides a prototypic architecture for functional exploration of CEA family members. We discuss the structural basis of virus receptor activities of murine CEACAM1 proteins, binding of Neisseria to human CEACAM1, and other homophilic and heterophilic interactions of CEA family members."
      ],
      "text/plain": [
       "<IPython.core.display.Markdown object>"
      ]
     },
     "metadata": {},
     "output_type": "display_data"
    },
    {
     "data": {
      "text/markdown": [
       "\n",
       "- **Title:** Synthesis of a novel hepatitis C virus protein by ribosomal frameshift\n",
       "- **Authors:** Xu, Zhenming; Choi, Jinah; Yen, T.S.Benedict; Lu, Wen; Strohecker, Anne; Govindarajan, Sugantha; Chien, David; Selby, Mark J.; Ou, Jing‐hsiung\n",
       "- **Publish date/time:** 2001-07-16\n",
       "- **Linked references:** 0\n",
       "- **Linked referenced by:** 0\n",
       "- **Abstract:** Hepatitis C virus (HCV) is an important human pathogen that affects ∼100 million people worldwide. Its RNA genome codes for a polyprotein, which is cleaved by viral and cellular proteases to produce at least 10 mature viral protein products. We report here the discovery of a novel HCV protein synthesized by ribosomal frameshift. This protein, which we named the F protein, is synthesized from the initiation codon of the polyprotein sequence followed by ribosomal frameshift into the −2/+1 reading frame. This ribosomal frameshift requires only codons 8–14 of the core protein‐coding sequence, and the shift junction is located at or near codon 11. An F protein analog synthesized in vitro reacted with the sera of HCV patients but not with the sera of hepatitis B patients, indicating the expression of the F protein during natural HCV infection. This unexpected finding may open new avenues for the development of anti‐HCV drugs."
      ],
      "text/plain": [
       "<IPython.core.display.Markdown object>"
      ]
     },
     "metadata": {},
     "output_type": "display_data"
    },
    {
     "data": {
      "text/markdown": [
       "\n",
       "- **Title:** Structure of coronavirus main proteinase reveals combination of a chymotrypsin fold with an extra α-helical domain\n",
       "- **Authors:** Anand, Kanchan; Palm, Gottfried J.; Mesters, Jeroen R.; Siddell, Stuart G.; Ziebuhr, John; Hilgenfeld, Rolf\n",
       "- **Publish date/time:** 2002-07-01\n",
       "- **Linked references:** 0\n",
       "- **Linked referenced by:** 0\n",
       "- **Abstract:** The key enzyme in coronavirus polyprotein processing is the viral main proteinase, M(pro), a protein with extremely low sequence similarity to other viral and cellular proteinases. Here, the crystal structure of the 33.1 kDa transmissible gastroenteritis (corona)virus M(pro) is reported. The structure was refined to 1.96 Å resolution and revealed three dimers in the asymmetric unit. The mutual arrangement of the protomers in each of the dimers suggests that M(pro) self-processing occurs in trans. The active site, comprised of Cys144 and His41, is part of a chymotrypsin-like fold that is connected by a 16 residue loop to an extra domain featuring a novel α-helical fold. Molecular modelling and mutagenesis data implicate the loop in substrate binding and elucidate S1 and S2 subsites suitable to accommodate the side chains of the P1 glutamine and P2 leucine residues of M(pro) substrates. Interactions involving the N-terminus and the α-helical domain stabilize the loop in the orientation required for trans-cleavage activity. The study illustrates that RNA viruses have evolved unprecedented variations of the classical chymotrypsin fold."
      ],
      "text/plain": [
       "<IPython.core.display.Markdown object>"
      ]
     },
     "metadata": {},
     "output_type": "display_data"
    },
    {
     "data": {
      "text/markdown": [
       "\n",
       "- **Title:** Prokaryotic-style frameshifting in a plant translation system: conservation of an unusual single-tRNA slippage event\n",
       "- **Authors:** Napthine, Sawsan; Vidakovic, Marijana; Girnary, Roseanne; Namy, Olivier; Brierley, Ian\n",
       "- **Publish date/time:** 2003-08-01\n",
       "- **Linked references:** 0\n",
       "- **Linked referenced by:** 0\n",
       "- **Abstract:** Ribosomal frameshifting signals are found in mobile genetic elements, viruses and cellular genes of prokaryotes and eukaryotes. Typically they comprise a slippery sequence, X XXY YYZ, where the frameshift occurs, and a stimulatory mRNA element. Here we studied the influence of host translational environment and the identity of slippery sequence-decoding tRNAs on the frameshift mechanism. By expressing candidate signals in Escherichia coli, and in wheatgerm extracts depleted of endogenous tRNAs and supplemented with prokaryotic or eukaryotic tRNA populations, we show that when decoding AAG in the ribosomal A-site, E.coli tRNA(Lys) promotes a highly unusual single-tRNA slippage event in both prokaryotic and eukaryotic ribosomes. This event does not appear to require slippage of the adjacent P-site tRNA, although its identity is influential. Conversely, asparaginyl-tRNA promoted a dual slippage event in either system. Thus, the tRNAs themselves are the main determinants in the selection of single- or dual-tRNA slippage mechanisms. We also show for the first time that prokaryotic tRNA(Asn) is not inherently ‘unslippery’ and induces efficient frameshifting when in the context of a eukaryotic translation system."
      ],
      "text/plain": [
       "<IPython.core.display.Markdown object>"
      ]
     },
     "metadata": {},
     "output_type": "display_data"
    },
    {
     "data": {
      "text/markdown": [
       "\n",
       "- **Title:** SseG, a virulence protein that targets Salmonella to the Golgi network\n",
       "- **Authors:** Salcedo, Suzana P.; Holden, David W.\n",
       "- **Publish date/time:** 2003-10-01\n",
       "- **Linked references:** 0\n",
       "- **Linked referenced by:** 0\n",
       "- **Abstract:** Intracellular replication of the bacterial pathogen Salmonella enterica occurs in membrane-bound compartments called Salmonella-containing vacuoles (SCVs). Maturation of the SCV has been shown to occur by selective interactions with the endocytic pathway. We show here that after invasion of epithelial cells and migration to a perinuclear location, the majority of SCVs become surrounded by membranes of the Golgi network. This process is dependent on the Salmonella pathogenicity island 2 type III secretion system effector SseG. In infected cells, SseG was associated with the SCV and peripheral punctate structures. Only bacterial cells closely associated with the Golgi network were able to multiply; furthermore, mutation of sseG or disruption of the Golgi network inhibited intracellular bacterial growth. When expressed in epithelial cells, SseG co-localized extensively with markers of the trans-Golgi network. We identify a Golgi-targeting domain within SseG, and other regions of the protein that are required for localization of bacteria to the Golgi network. Therefore, replication of Salmonella in epithelial cells is dependent on simultaneous and selective interactions with both endocytic and secretory pathways."
      ],
      "text/plain": [
       "<IPython.core.display.Markdown object>"
      ]
     },
     "metadata": {},
     "output_type": "display_data"
    }
   ],
   "source": [
    "docs_topics = docs_classified.argmax(1)\n",
    "topic_papers = defaultdict(list)\n",
    "all_papers = list(pageranks.keys())\n",
    "for idx, topic_id in enumerate(docs_topics):\n",
    "    topic_papers[topic_id].append(all_papers[idx])\n",
    "    \n",
    "for topic_id, papers in sorted(topic_papers.items(), key=lambda t: t[0]):\n",
    "    print(f\"Topic ID {topic_id}\")\n",
    "    sorted_papers = sorted(papers, reverse=True, key=lambda p: pageranks[p])\n",
    "    for paper in sorted_papers[:5]:\n",
    "        paper_as_markdown(paper)\n",
    "    #print(\"\\n\", end=\"\")"
   ]
  },
  {
   "cell_type": "markdown",
   "metadata": {},
   "source": [
    "---"
   ]
  },
  {
   "cell_type": "code",
   "execution_count": null,
   "metadata": {},
   "outputs": [
    {
     "name": "stdout",
     "output_type": "stream",
     "text": [
      "Converted 00_downloader.ipynb.\n",
      "Converted 01_references.ipynb.\n",
      "Converted 02_representations_and_lda.ipynb.\n",
      "Converted 03_hierarchical_topic_modelling.ipynb.\n",
      "Converted 98_risotto_precook.ipynb.\n",
      "Converted 99_risotto_gui.ipynb.\n",
      "Converted Untitled.ipynb.\n",
      "Converted index.ipynb.\n"
     ]
    }
   ],
   "source": [
    "# tell nbdev to generate library from notebooks\n",
    "from nbdev.export import *\n",
    "notebook2script()"
   ]
  },
  {
   "cell_type": "code",
   "execution_count": null,
   "metadata": {},
   "outputs": [
    {
     "data": {
      "text/html": [
       "<link rel=\"stylesheet\" href=\"https://files.inria.fr/dircom/extranet/fonts-inria-sans.css\" rel=\"stylesheet\">\n",
       "<link rel=\"stylesheet\" href=\"https://files.inria.fr/dircom/extranet/fonts-inria-serif.css\" rel=\"stylesheet\">\n",
       "<link href=\"https://fonts.googleapis.com/css?family=Inconsolata\" rel=\"stylesheet\">\n",
       "<style>\n",
       ".text_cell_render {\n",
       "    font-style: regular;\n",
       "    font-family: 'Inria Sans', \"Helvetica Neue\", Arial, \"Noto Sans\", sans-serif;\n",
       "    display: block;\n",
       "}\n",
       "\n",
       ".text_cell_render h1 {\n",
       "    font-family: 'Inria Serif', Georgia, serif; \n",
       "    font-weight: bold;\n",
       "    margin-bottom: 0.1em;\n",
       "    margin-top: 0.5em;\n",
       "    color:#E63319;\n",
       "}\n",
       "\n",
       ".reveal h1 {\n",
       "    font-family: 'Inria Serif', Georgia, serif;\n",
       "    font-weight: bold;\n",
       "    margin-bottom: 0.47em;\n",
       "    margin-top: 0.74em;\n",
       "    color:#E63319;\n",
       "}\n",
       "\n",
       ".text_cell_render h2 {\n",
       "    font-family: 'Inria Serif', Georgia, serif;\n",
       "    margin-bottom: 0.29em;\n",
       "    margin-top: 0.38em;\n",
       "    color:#E63319;\n",
       "}\n",
       "\n",
       ".text_cell_render h3 {\n",
       "    font-family: 'Inria Serif', Georgia, serif;\n",
       "    margin-bottom: 0.1em;\n",
       "    margin-top: 0.3em;\n",
       "    color:#595959;\n",
       "}\n",
       ".text_cell_render h4 {\n",
       "    font-family: 'Inria Sans', \"Helvetica Neue\", Arial, \"Noto Sans\", sans-serif;\n",
       "    margin-bottom: 0.1em;\n",
       "    margin-top: 0.3em;\n",
       "    color:#595959;\n",
       "}\n",
       ".text_cell_render h5 {\n",
       "    font-family: 'Inria Sans', \"Helvetica Neue\", Arial, \"Noto Sans\", sans-serif;\n",
       "    margin-bottom: 0.1em;\n",
       "    margin-top: 0.3em;\n",
       "    color:#595959;\n",
       "}\n",
       "\n",
       "div.text_cell_render{\n",
       "    line-height: 120%;\n",
       "    font-size: 100%;\n",
       "    font-weight: 400;\n",
       "    text-align: justify;\n",
       "    margin-left:0em;\n",
       "    margin-right:0em;\n",
       "}\n",
       "\n",
       ".reveal div.text_cell_render{\n",
       "    line-height: 120%;\n",
       "    font-size: 74%;\n",
       "    font-weight: 400;\n",
       "    text-align: justify;\n",
       "    margin-left:0em;\n",
       "    margin-right:0em;\n",
       "}\n",
       "\n",
       ".reveal h2 {\n",
       "    font-family: 'Inria Serif', Georgia, serif;\n",
       "    font-weight: bold;\n",
       "    margin-bottom: 0.1em;\n",
       "    margin-top: 0.5em;\n",
       "    color:#E63319;\n",
       "}\n",
       "\n",
       ".reveal h3 {\n",
       "    font-family: 'Inria Serif', Georgia, serif;\n",
       "    font-weight: bold;\n",
       "    margin-bottom: 0.1em;\n",
       "    margin-top: 0.5em;\n",
       "    color:#595959;\n",
       "}\n",
       "\n",
       ".reveal h4 {\n",
       "    font-family: 'Inria Sans', \"Helvetica Neue\", Arial, \"Noto Sans\", sans-serif;\n",
       "    font-weight: bold;\n",
       "    margin-bottom: 0.1em;\n",
       "    margin-top: 0.5em;\n",
       "    color:#595959;\n",
       "}\n",
       "\n",
       ".reveal .code_cell {\n",
       "    font-size: 92%;\n",
       "}\n",
       "\n",
       ".reveal code {\n",
       "font-family: 'Inconsolata', monospace;\n",
       "}\n",
       ".reveal pre {\n",
       "font-family: 'Inconsolata', monospace;\n",
       "}\n",
       "code {\n",
       "font-family: 'Inconsolata', monospace;\n",
       "}\n",
       "pre {\n",
       "font-family: 'Inconsolata', monospace;\n",
       "}\n",
       ".CodeMirror{\n",
       "font-family: \"Inconsolata\", monospace;\n",
       "}\n",
       "</style>"
      ],
      "text/plain": [
       "<IPython.core.display.HTML object>"
      ]
     },
     "execution_count": null,
     "metadata": {},
     "output_type": "execute_result"
    }
   ],
   "source": [
    "# this code is here for cosmetic reasons\n",
    "from IPython.core.display import HTML\n",
    "from urllib.request import urlopen\n",
    "HTML(urlopen('https://raw.githubusercontent.com/lmarti/jupyter_custom/master/custom.include').read().decode('utf-8'))"
   ]
  },
  {
   "cell_type": "markdown",
   "metadata": {},
   "source": [
    "---"
   ]
  }
 ],
 "metadata": {
  "kernelspec": {
   "display_name": "Python 3",
   "language": "python",
   "name": "python3"
  }
 },
 "nbformat": 4,
 "nbformat_minor": 4
}
