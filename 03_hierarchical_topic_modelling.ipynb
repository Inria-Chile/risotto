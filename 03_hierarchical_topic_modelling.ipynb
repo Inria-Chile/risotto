{
 "cells": [
  {
   "cell_type": "markdown",
   "metadata": {},
   "source": [
    "# Hierarchichal Topic Modelling\n",
    "\n",
    "In this notebook we're going to expand our previous topic modelling approaches in order to model hierarchic topics.\n",
    "Even though a single level topic modelling is helpful to go over the vast amount of papers in the CORD-19 dataset, our hypothesis is that a hierarchical topic modelling will provide a much more easier way to sway through the papers.\n",
    "\n",
    "The following references have caught our attention:\n",
    "\n",
    "- https://radimrehurek.com/gensim/models/hdpmodel.html: an implementation of Hierarchical Dirichlet Processes (HDP) using the topic modelling library `gensim`.\n",
    "- https://github.com/joewandy/hlda: an implementation of Hierarchical Latent Dirichlet Allocation (hLDA) in Python.\n",
    "- https://datascience.stackexchange.com/questions/128/latent-dirichlet-allocation-vs-hierarchical-dirichlet-process: a comparison between LDA and HDP.\n",
    "- https://developer.squareup.com/blog/inferring-label-hierarchies-with-hlda/: a write up about Square's experience using hLDA to hierarchically classify customer support articles.\n",
    "- https://www.hindawi.com/journals/sp/2017/4382348/: a journal article.\n",
    "\n",
    "LDA models documents as Dirichlet mixtures of a fized number of topics, which are modelled as Dirichlet mixtures of words.\n",
    "hLDA is an adaptation of LDA that models topics as a mixture of a new, distinct level of topics.\n",
    "HDP main difference with respecto to LDA is that the number of topics isn't an hyperparamenter, but is discarded because it doesn't build a hierarchical topic structure.\n",
    "\n",
    "We'll first try a hierarchical topic modelling using hLDA and then we'll compare it to a manual LDA hierarchical modelling."
   ]
  },
  {
   "cell_type": "markdown",
   "metadata": {},
   "source": [
    "## Hierarchical Latent Dirichlet Allocation (hLDA)\n",
    "\n",
    "This technique was presented in the 2004 NeurIPS paper \"Hierarchical Topic Models and the Nested Chinese Restaurant Process\" by David Blei et al. available at: https://papers.nips.cc/paper/2466-hierarchical-topic-models-and-the-nested-chinese-restaurant-process.pdf.\n",
    "\n",
    "A quick Google search yields at least two implementations:\n",
    "\n",
    "- https://github.com/blei-lab/hlda: implemented in C by the original authors. Last commit was in 2014.\n",
    "- https://github.com/joewandy/hlda: implemented in Python. Last commit was in 2017.\n",
    "\n",
    "We'll use the second one since it publishes a Jupyter Notebook with an example using the library.\n",
    "First, we'll install it."
   ]
  },
  {
   "cell_type": "code",
   "execution_count": 1,
   "metadata": {},
   "outputs": [
    {
     "name": "stdout",
     "output_type": "stream",
     "text": [
      "Collecting hlda\n",
      "  Downloading https://files.pythonhosted.org/packages/a8/08/6287a6e93906b14d33ea3da2dd099d7a8d2f70ca270ca6fa5c0595b52919/hlda-0.2.tar.gz\n",
      "Installing collected packages: hlda\n",
      "  Running setup.py install for hlda ... \u001b[?25ldone\n",
      "\u001b[?25hSuccessfully installed hlda-0.2\n",
      "\u001b[33mYou are using pip version 19.0.3, however version 20.1 is available.\n",
      "You should consider upgrading via the 'pip install --upgrade pip' command.\u001b[0m\n"
     ]
    }
   ],
   "source": [
    "!pip install hlda"
   ]
  },
  {
   "cell_type": "code",
   "execution_count": null,
   "metadata": {},
   "outputs": [],
   "source": [
    "from risotto.references \n",
    "\n",
    "CORD19_DATASET_FOLDER = \"./datasets/CORD-19-research-challenge\""
   ]
  }
 ],
 "metadata": {
  "kernelspec": {
   "display_name": "Python 3",
   "language": "python",
   "name": "python3"
  },
  "language_info": {
   "codemirror_mode": {
    "name": "ipython",
    "version": 3
   },
   "file_extension": ".py",
   "mimetype": "text/x-python",
   "name": "python",
   "nbconvert_exporter": "python",
   "pygments_lexer": "ipython3",
   "version": "3.7.4"
  }
 },
 "nbformat": 4,
 "nbformat_minor": 4
}
