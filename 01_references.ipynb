{
 "cells": [
  {
   "cell_type": "markdown",
   "metadata": {},
   "source": [
    "<div align='left' style=\"width:29%;overflow:hidden;\">\n",
    "<a href='http://inria.fr'>\n",
    "<img src='https://github.com/lmarti/jupyter_custom/raw/master/imgs/inr_logo_rouge.png' alt='Inria logo' title='Inria logo'/>\n",
    "</a>\n",
    "</div>"
   ]
  },
  {
   "cell_type": "markdown",
   "metadata": {},
   "source": [
    "# Exploring CORD-19 references\n",
    "\n",
    "This notebooks explores how much information we can obtain from the citation references of the papers in the COVID-19 Open Research Dataset Challenge.\n",
    "\n",
    "Here we are trying to:\n",
    "\n",
    "- Load the dataset.\n",
    "    - How many papers can we parse?\n",
    "- How to extract the references?\n",
    "- How many references are also in the CORD-19 dataset?\n",
    "- How many are out?"
   ]
  },
  {
   "cell_type": "code",
   "execution_count": null,
   "metadata": {},
   "outputs": [],
   "source": [
    "# default_exp references"
   ]
  },
  {
   "cell_type": "markdown",
   "metadata": {},
   "source": [
    "Making sure that all requirements are installed."
   ]
  },
  {
   "cell_type": "code",
   "execution_count": null,
   "metadata": {},
   "outputs": [],
   "source": [
    "!pip install -q -r requirements.txt"
   ]
  },
  {
   "cell_type": "code",
   "execution_count": 18,
   "metadata": {},
   "outputs": [],
   "source": [
    "# export\n",
    "# removing ugly pandas warning in macOS\n",
    "import warnings\n",
    "warnings.filterwarnings(\"ignore\", \".*lzma.*\")"
   ]
  },
  {
   "cell_type": "code",
   "execution_count": 1,
   "metadata": {},
   "outputs": [],
   "source": [
    "#export\n",
    "import pandas as pd\n",
    "import numpy as np\n",
    "import networkx as nx\n",
    "\n",
    "from fastprogress.fastprogress import progress_bar\n",
    "\n",
    "from pathlib import Path\n",
    "\n",
    "import json\n",
    "import random\n",
    "import os\n",
    "\n",
    "import matplotlib.pyplot as plt\n",
    "import seaborn as sns\n",
    "sns.set(style='whitegrid')\n",
    "sns.set_context('notebook')"
   ]
  },
  {
   "cell_type": "markdown",
   "metadata": {},
   "source": [
    "## Loading the CORD-19 dataset"
   ]
  },
  {
   "cell_type": "code",
   "execution_count": 2,
   "metadata": {},
   "outputs": [],
   "source": [
    "cord19_dataset_folder = \"./datasets/CORD-19-research-challenge\""
   ]
  },
  {
   "cell_type": "code",
   "execution_count": 3,
   "metadata": {},
   "outputs": [
    {
     "name": "stdout",
     "output_type": "stream",
     "text": [
      "Good to go\n"
     ]
    }
   ],
   "source": [
    "if Path(cord19_dataset_folder).exists():\n",
    "    print('Good to go')\n",
    "else:\n",
    "    print(f'{data_root} does not exist! Download it using 00_download.ipynb.')"
   ]
  },
  {
   "cell_type": "markdown",
   "metadata": {},
   "source": [
    "Loading `metadata.csv` file as a pandas `DataFrame`."
   ]
  },
  {
   "cell_type": "code",
   "execution_count": 4,
   "metadata": {},
   "outputs": [
    {
     "name": "stderr",
     "output_type": "stream",
     "text": [
      "/home/rpalma/repos/risotto/risotto-notebooks/venv-risotto-notebooks/lib/python3.7/site-packages/IPython/core/interactiveshell.py:3063: DtypeWarning: Columns (13,14) have mixed types.Specify dtype option on import or set low_memory=False.\n",
      "  interactivity=interactivity, compiler=compiler, result=result)\n"
     ]
    }
   ],
   "source": [
    "metadata_df = pd.read_csv(f\"{cord19_dataset_folder}/metadata.csv\", index_col=\"cord_uid\")"
   ]
  },
  {
   "cell_type": "markdown",
   "metadata": {},
   "source": [
    "How metadata looks like?"
   ]
  },
  {
   "cell_type": "code",
   "execution_count": 5,
   "metadata": {},
   "outputs": [],
   "source": [
    "file_in_metadata_count = len(metadata_df)"
   ]
  },
  {
   "cell_type": "code",
   "execution_count": 6,
   "metadata": {},
   "outputs": [
    {
     "data": {
      "text/plain": [
       "'Total records loaded: 128492'"
      ]
     },
     "execution_count": 6,
     "metadata": {},
     "output_type": "execute_result"
    }
   ],
   "source": [
    "f'Total records loaded: {file_in_metadata_count}'"
   ]
  },
  {
   "cell_type": "code",
   "execution_count": 7,
   "metadata": {},
   "outputs": [
    {
     "data": {
      "text/plain": [
       "Index(['sha', 'source_x', 'title', 'doi', 'pmcid', 'pubmed_id', 'license',\n",
       "       'abstract', 'publish_time', 'authors', 'journal', 'mag_id',\n",
       "       'who_covidence_id', 'arxiv_id', 'pdf_json_files', 'pmc_json_files',\n",
       "       'url', 's2_id'],\n",
       "      dtype='object')"
      ]
     },
     "execution_count": 7,
     "metadata": {},
     "output_type": "execute_result"
    }
   ],
   "source": [
    "metadata_df.columns"
   ]
  },
  {
   "cell_type": "code",
   "execution_count": 8,
   "metadata": {},
   "outputs": [
    {
     "data": {
      "text/plain": [
       "70035"
      ]
     },
     "execution_count": 8,
     "metadata": {},
     "output_type": "execute_result"
    }
   ],
   "source": [
    "(metadata_df[\"pdf_json_files\"].isna() & metadata_df[\"pmc_json_files\"].isna()).sum()"
   ]
  },
  {
   "cell_type": "markdown",
   "metadata": {},
   "source": [
    "Each paper is represented by a unique id called `cord_uid`.\n",
    "\n",
    "Meaning of columns:\n",
    "\n",
    "- `sha`: PDF file hash\n",
    "- `source_x`: source repository, e.g. Biorxiv, Elsevier, etc.\n",
    "- `title`: paper title\n",
    "- `doi`, `pmcid`, `pubmed_id`, `Microsoft Academic Paper ID`, `WHO #Covidence`: other document ids\n",
    "- `license`: usage license\n",
    "- `abstract`:plain text abstract\n",
    "- `publish_time`: publish date\n",
    "- `journal`: academic journal of publication, if applicable\n",
    "- `authors`: authors in plain text\n",
    "- `has_pdf_parse`: if PDF parsing is available\n",
    "- `has_pmc_xml_parse`: if PubMed XML is available\n",
    "- `full_text_file`: pointer to the source file in the dataset\n",
    "- `url`: URL to paper online source"
   ]
  },
  {
   "cell_type": "markdown",
   "metadata": {},
   "source": [
    "The following cells will explore the folders and files structure of the dataset."
   ]
  },
  {
   "cell_type": "code",
   "execution_count": 9,
   "metadata": {},
   "outputs": [],
   "source": [
    "def _sample_json_file(path):\n",
    "    for _, _, file_names in os.walk(path):\n",
    "        sample_file_name = random.choice(file_names)\n",
    "        file_path = os.path.join(path, sample_file_name)\n",
    "        with open(file_path) as file:\n",
    "            contents = json.load(file)\n",
    "        return list(contents.keys())"
   ]
  },
  {
   "cell_type": "code",
   "execution_count": 10,
   "metadata": {},
   "outputs": [],
   "source": [
    "def walk_dataset():\n",
    "    cum_sum = 0\n",
    "    for root, folders, files in os.walk(cord19_dataset_folder):\n",
    "        num_folders = len(folders)\n",
    "        num_files = len(files)\n",
    "        if \"json\" in root and num_folders == 0 and num_files > 0:\n",
    "            cum_sum += num_files\n",
    "            print(f\"{root}: {num_files} files\")\n",
    "    return cum_sum"
   ]
  },
  {
   "cell_type": "code",
   "execution_count": 11,
   "metadata": {},
   "outputs": [
    {
     "name": "stdout",
     "output_type": "stream",
     "text": [
      "./datasets/CORD-19-research-challenge/document_parses/pdf_json: 59561 files\n",
      "./datasets/CORD-19-research-challenge/document_parses/pmc_json: 43753 files\n"
     ]
    }
   ],
   "source": [
    "source_file_count = walk_dataset()"
   ]
  },
  {
   "cell_type": "code",
   "execution_count": 12,
   "metadata": {},
   "outputs": [
    {
     "name": "stdout",
     "output_type": "stream",
     "text": [
      "Files in metadata: 128492, source files: 103314\n"
     ]
    }
   ],
   "source": [
    "print(f'Files in metadata: {file_in_metadata_count}, source files: {source_file_count}')"
   ]
  },
  {
   "cell_type": "code",
   "execution_count": 13,
   "metadata": {},
   "outputs": [
    {
     "name": "stdout",
     "output_type": "stream",
     "text": [
      "We have -25178 files without metadata.\n"
     ]
    }
   ],
   "source": [
    "print(f'We have {source_file_count-file_in_metadata_count} files without metadata.')"
   ]
  },
  {
   "cell_type": "markdown",
   "metadata": {},
   "source": [
    "According to the information found in the Kaggle community site, there are at least two recommended procedures to load the dataset.\n",
    "\n",
    "```python\n",
    "# First method\n",
    "for row in metadata_file:\n",
    "    pmc_id = row[\"pmc_id\"]\n",
    "    if exists pmc_id file in pmc_jsons subfolders:\n",
    "        return pmc_id file\n",
    "    # If `pmc_id` is null or there is no file\n",
    "    sha = row[\"sha\"]\n",
    "    if exists sha file in pdf_jsons subfolders:\n",
    "        return sha file\n",
    "\n",
    "# Second method\n",
    "for pdf file in pdf files:\n",
    "    if pdf file sha not in metadata_file shas:\n",
    "        continue\n",
    "    else:\n",
    "        row = metadata_file row with matching pdf file sha\n",
    "        pmc_id = row[\"pmc_id\"]\n",
    "        if exists pmc_id file in pmc_jsons subfolders:\n",
    "            return pmc_id file\n",
    "        return pdf file\n",
    "```"
   ]
  },
  {
   "cell_type": "code",
   "execution_count": 14,
   "metadata": {},
   "outputs": [],
   "source": [
    "#exports\n",
    "def get_id_paths_dicts(cls, cord19_dataset_folder):\n",
    "    \"\"\"\n",
    "    DEPRECATED.\n",
    "    This function builds the dictionaries whose keys are identifiers\n",
    "    of some kind of papers (PDF or PMC) and whose values are the paths to\n",
    "    associated files.\n",
    "    \"\"\"\n",
    "    all_files = {}\n",
    "    for root, folders, files in os.walk(cord19_dataset_folder):\n",
    "        num_folders = len(folders)\n",
    "        num_files = len(files)\n",
    "        if cls in root and num_folders == 0 and num_files > 0:\n",
    "            for file_name in files:\n",
    "                _id = file_name.split(\".\")[0]\n",
    "                all_files[_id] = os.path.join(root, file_name)\n",
    "    return all_files"
   ]
  },
  {
   "cell_type": "code",
   "execution_count": 15,
   "metadata": {},
   "outputs": [],
   "source": [
    "pdf_dict = get_id_paths_dicts(\"pdf\", cord19_dataset_folder)\n",
    "pmc_dict = get_id_paths_dicts(\"pmc\", cord19_dataset_folder)"
   ]
  },
  {
   "cell_type": "code",
   "execution_count": 16,
   "metadata": {},
   "outputs": [
    {
     "name": "stdout",
     "output_type": "stream",
     "text": [
      "Number of PDF files with parse JSON 59561\n",
      "Number of PMC files with parse JSON 43753\n"
     ]
    }
   ],
   "source": [
    "print(f'Number of PDF files with parse JSON {len(pdf_dict)}')\n",
    "print(f'Number of PMC files with parse JSON {len(pmc_dict)}')"
   ]
  },
  {
   "cell_type": "markdown",
   "metadata": {},
   "source": [
    "## Loading PDF and PMC papers"
   ]
  },
  {
   "cell_type": "code",
   "execution_count": 17,
   "metadata": {},
   "outputs": [],
   "source": [
    "# exports\n",
    "class BasePaper:\n",
    "    def __init__(self, metadata_row, file_path):\n",
    "        self._metadata_row = metadata_row\n",
    "        self._file_path = file_path\n",
    "        self._file_contents = self._load_json_contents(file_path)\n",
    "        \n",
    "        self._referenced_by = []\n",
    "        self._references = []\n",
    "    \n",
    "    def __getstate__(self):\n",
    "        \"\"\"\n",
    "        Avoid RecursionErrors by not pickling references.\n",
    "        \"\"\"\n",
    "        state = self.__dict__.copy()\n",
    "        del state[\"_referenced_by\"]\n",
    "        del state[\"_references\"]\n",
    "        return state\n",
    "    \n",
    "    def __setstate__(self, state):\n",
    "        self.__dict__.update(state)\n",
    "        self._referenced_by = []\n",
    "        self._references = []\n",
    "        \n",
    "    @staticmethod\n",
    "    def _load_json_contents(path):\n",
    "        with open(path) as file:\n",
    "            contents = json.load(file)\n",
    "        return contents\n",
    "\n",
    "    @property\n",
    "    def title(self):\n",
    "        return self._metadata_row[\"title\"]\n",
    "        \n",
    "    @property\n",
    "    def authors(self):\n",
    "        return self._metadata_row[\"authors\"]\n",
    "        \n",
    "    @property\n",
    "    def publish_time(self):\n",
    "        return self._metadata_row[\"publish_time\"]\n",
    "        \n",
    "    @property\n",
    "    def abstract(self):\n",
    "        return self._metadata_row[\"abstract\"]\n",
    "        \n",
    "    @property\n",
    "    def bib_entries(self):\n",
    "        return self._file_contents[\"bib_entries\"]\n",
    "    \n",
    "    @property\n",
    "    def doi(self):\n",
    "        return self._metadata_row[\"doi\"]\n",
    "\n",
    "    @property\n",
    "    def url(self):\n",
    "        return self._metadata_row[\"url\"]\n",
    "    \n",
    "    def register_reference(self, reference):\n",
    "        self._references.append(reference)\n",
    "        reference.register_referenced(self)\n",
    "    \n",
    "    def register_referenced(self, referenced):\n",
    "        self._referenced_by.append(referenced)"
   ]
  },
  {
   "cell_type": "code",
   "execution_count": 18,
   "metadata": {},
   "outputs": [],
   "source": [
    "#exports\n",
    "class PDFPaper(BasePaper):\n",
    "    pass"
   ]
  },
  {
   "cell_type": "code",
   "execution_count": 19,
   "metadata": {},
   "outputs": [],
   "source": [
    "#exports\n",
    "class PMCPaper(BasePaper):\n",
    "    pass"
   ]
  },
  {
   "cell_type": "code",
   "execution_count": 20,
   "metadata": {},
   "outputs": [],
   "source": [
    "#exports\n",
    "def load_papers_from_metadata_file(cord19_dataset_folder):\n",
    "    'Loads papers by reading the `metadata.csv` file present in the dataset.'\n",
    "    metadata_df = pd.read_csv(f\"{cord19_dataset_folder}/metadata.csv\",\n",
    "                              index_col=\"cord_uid\")\n",
    "    \"\"\"\n",
    "    pdf_dict = get_id_paths_dicts(\"pdf\", cord19_dataset_folder)\n",
    "    pmc_dict = get_id_paths_dicts(\"pmc\", cord19_dataset_folder)\n",
    "    \"\"\"\n",
    "\n",
    "    papers = []\n",
    "    # not_found = []\n",
    "    for idx, row in progress_bar(metadata_df.iterrows(),\n",
    "                                 total=len(metadata_df)):\n",
    "        \n",
    "        paper = None\n",
    "        pmc_rel_path = row[\"pmc_json_files\"]\n",
    "        pdf_rel_path = row[\"pdf_json_files\"]\n",
    "        \n",
    "        if pd.notna(pmc_rel_path):\n",
    "            path = os.path.join(cord19_dataset_folder, pmc_rel_path)\n",
    "            paper = PMCPaper(row, path)\n",
    "        \n",
    "        if pd.notna(pdf_rel_path):\n",
    "            path_splitted = pdf_rel_path.split(\"; \")[0]\n",
    "            path = os.path.join(cord19_dataset_folder, path_splitted)\n",
    "            paper = PDFPaper(row, path)\n",
    "        \n",
    "        if paper is not None:\n",
    "            papers.append(paper)\n",
    "\n",
    "    return papers"
   ]
  },
  {
   "cell_type": "code",
   "execution_count": 21,
   "metadata": {},
   "outputs": [
    {
     "name": "stderr",
     "output_type": "stream",
     "text": [
      "/home/rpalma/repos/risotto/risotto-notebooks/venv-risotto-notebooks/lib/python3.7/site-packages/IPython/core/interactiveshell.py:3254: DtypeWarning: Columns (13,14) have mixed types.Specify dtype option on import or set low_memory=False.\n",
      "  if (await self.run_code(code, result,  async_=asy)):\n"
     ]
    },
    {
     "data": {
      "text/html": [
       "\n",
       "    <div>\n",
       "        <style>\n",
       "            /* Turns off some styling */\n",
       "            progress {\n",
       "                /* gets rid of default border in Firefox and Opera. */\n",
       "                border: none;\n",
       "                /* Needs to be in here for Safari polyfill so background images work as expected. */\n",
       "                background-size: auto;\n",
       "            }\n",
       "            .progress-bar-interrupted, .progress-bar-interrupted::-webkit-progress-bar {\n",
       "                background: #F44336;\n",
       "            }\n",
       "        </style>\n",
       "      <progress value='128492' class='' max='128492' style='width:300px; height:20px; vertical-align: middle;'></progress>\n",
       "      100.00% [128492/128492 03:30<00:00]\n",
       "    </div>\n",
       "    "
      ],
      "text/plain": [
       "<IPython.core.display.HTML object>"
      ]
     },
     "metadata": {},
     "output_type": "display_data"
    }
   ],
   "source": [
    "papers = load_papers_from_metadata_file(cord19_dataset_folder)"
   ]
  },
  {
   "cell_type": "code",
   "execution_count": 22,
   "metadata": {},
   "outputs": [
    {
     "name": "stdout",
     "output_type": "stream",
     "text": [
      "58457 papers found\n"
     ]
    }
   ],
   "source": [
    "print(f'{len(papers)} papers found')"
   ]
  },
  {
   "cell_type": "code",
   "execution_count": 23,
   "metadata": {},
   "outputs": [
    {
     "name": "stdout",
     "output_type": "stream",
     "text": [
      "There are 58457 files with either parsed PDF or PMC XML.\n"
     ]
    }
   ],
   "source": [
    "mask_1 = metadata_df[\"pmc_json_files\"].notna()\n",
    "mask_2 = metadata_df[\"pdf_json_files\"].notna()\n",
    "print(\n",
    "    f'There are {(mask_1 | mask_2).sum()} files with either parsed PDF or PMC XML.'\n",
    ")"
   ]
  },
  {
   "cell_type": "markdown",
   "metadata": {},
   "source": [
    "## Peeking at the paper info we just loaded"
   ]
  },
  {
   "cell_type": "code",
   "execution_count": 24,
   "metadata": {},
   "outputs": [],
   "source": [
    "# exports\n",
    "def paper_as_markdown(paper):\n",
    "    from IPython.display import display, Markdown\n",
    "    res = f\"\"\"\n",
    "- **Title:** {paper.title}\n",
    "- **Authors:** {paper.authors}\n",
    "- **Publish date/time:** {paper.publish_time}\n",
    "- **Linked references:** {len(paper._references)}\n",
    "- **Linked referenced by:** {len(paper._referenced_by)}\n",
    "- **Abstract:** {paper.abstract}\"\"\"\n",
    "    display(Markdown(res))"
   ]
  },
  {
   "cell_type": "code",
   "execution_count": 25,
   "metadata": {},
   "outputs": [
    {
     "data": {
      "text/markdown": [
       "\n",
       "- **Title:** Identification and molecular cloning of a novel porcine parvovirus\n",
       "- **Authors:** Cheung, Andrew K.; Wu, Guang; Wang, David; Bayles, Darrell O.; Lager, Kelly M.; Vincent, Amy L.\n",
       "- **Publish date/time:** 2010-03-26\n",
       "- **Linked references:** 0\n",
       "- **Linked referenced by:** 0\n",
       "- **Abstract:** A novel porcine parvovirus, PPV4, was identified in the lung lavage of a diseased pig coinfected with porcine circovirus type 2. This virus exhibits limited similarity to its closest relative, bovine parvovirus 2, but resembles viruses of the genus Bocavirus (bovine parvovirus, canine minute virus and human bocavirus) that encode an additional ORF3. The ORF3 of PPV4 is predicted to encode a protein of 204 amino acid residues, which is similar in size to the ORF3-encoded proteins of the bocaviruses. Whereas the ORF3-encoded proteins of bocaviruses share significant similarity with each other, the PPV4 ORF3 encoded protein does not exhibit homology with any protein in the GenBank non-redundant database."
      ],
      "text/plain": [
       "<IPython.core.display.Markdown object>"
      ]
     },
     "metadata": {},
     "output_type": "display_data"
    }
   ],
   "source": [
    "paper = random.sample(papers, 1)[0]\n",
    "paper_as_markdown(paper)"
   ]
  },
  {
   "cell_type": "markdown",
   "metadata": {},
   "source": [
    "## Matching references to titles\n",
    "\n",
    "We now make the match between the titles (in plain text) of the references of each paper and their titles."
   ]
  },
  {
   "cell_type": "markdown",
   "metadata": {},
   "source": [
    "A dictionary to map titles to papers."
   ]
  },
  {
   "cell_type": "code",
   "execution_count": 26,
   "metadata": {},
   "outputs": [],
   "source": [
    "# exports\n",
    "def process_references(papers):\n",
    "    paper_titles = {}\n",
    "    for paper in progress_bar(papers):\n",
    "        title = paper.title\n",
    "        if isinstance(title, str):  # coping with NaNs in titles\n",
    "            paper_titles[title.lower()] = paper\n",
    "\n",
    "    num_processed_refs = 0\n",
    "    num_succesfully_processed_refs = 0\n",
    "    for paper in progress_bar(papers):\n",
    "        for _, ref in paper.bib_entries.items():\n",
    "            ref_title = ref[\"title\"].lower()\n",
    "            if ref_title in paper_titles:\n",
    "                paper.register_reference(paper_titles[ref_title])\n",
    "                num_succesfully_processed_refs += 1\n",
    "        num_processed_refs += len(paper.bib_entries)\n",
    "    return num_processed_refs, num_succesfully_processed_refs"
   ]
  },
  {
   "cell_type": "code",
   "execution_count": 29,
   "metadata": {},
   "outputs": [
    {
     "data": {
      "text/html": [
       "\n",
       "    <div>\n",
       "        <style>\n",
       "            /* Turns off some styling */\n",
       "            progress {\n",
       "                /* gets rid of default border in Firefox and Opera. */\n",
       "                border: none;\n",
       "                /* Needs to be in here for Safari polyfill so background images work as expected. */\n",
       "                background-size: auto;\n",
       "            }\n",
       "            .progress-bar-interrupted, .progress-bar-interrupted::-webkit-progress-bar {\n",
       "                background: #F44336;\n",
       "            }\n",
       "        </style>\n",
       "      <progress value='58457' class='' max='58457' style='width:300px; height:20px; vertical-align: middle;'></progress>\n",
       "      100.00% [58457/58457 00:01<00:00]\n",
       "    </div>\n",
       "    "
      ],
      "text/plain": [
       "<IPython.core.display.HTML object>"
      ]
     },
     "metadata": {},
     "output_type": "display_data"
    },
    {
     "data": {
      "text/html": [
       "\n",
       "    <div>\n",
       "        <style>\n",
       "            /* Turns off some styling */\n",
       "            progress {\n",
       "                /* gets rid of default border in Firefox and Opera. */\n",
       "                border: none;\n",
       "                /* Needs to be in here for Safari polyfill so background images work as expected. */\n",
       "                background-size: auto;\n",
       "            }\n",
       "            .progress-bar-interrupted, .progress-bar-interrupted::-webkit-progress-bar {\n",
       "                background: #F44336;\n",
       "            }\n",
       "        </style>\n",
       "      <progress value='58457' class='' max='58457' style='width:300px; height:20px; vertical-align: middle;'></progress>\n",
       "      100.00% [58457/58457 00:01<00:00]\n",
       "    </div>\n",
       "    "
      ],
      "text/plain": [
       "<IPython.core.display.HTML object>"
      ]
     },
     "metadata": {},
     "output_type": "display_data"
    }
   ],
   "source": [
    "num_processed_refs, num_succesfully_processed_refs = process_references(papers)"
   ]
  },
  {
   "cell_type": "code",
   "execution_count": 30,
   "metadata": {},
   "outputs": [
    {
     "name": "stdout",
     "output_type": "stream",
     "text": [
      "Total references: 2725726.\n",
      "References present in the dataset 194504 (7.135860317581444%).\n"
     ]
    }
   ],
   "source": [
    "print(f'Total references: {num_processed_refs}.')\n",
    "print(f'References present in the dataset {num_succesfully_processed_refs} ({num_succesfully_processed_refs/num_processed_refs*100}%).')"
   ]
  },
  {
   "cell_type": "markdown",
   "metadata": {},
   "source": [
    "One strategy to mitigate that less than 7% of references are also in the dataset is to create special nodes for the papers outside the set, in this way the structure of the graph is better preserved.\n",
    "\n",
    "On the other hand, other questions must be answered:\n",
    "\n",
    "- How many papers are referenced at least once in the data set?\n",
    "- What are the most referenced papers in the dataset? Long tail?\n",
    "- What are the most referenced papers outside the dataset? Long tail?"
   ]
  },
  {
   "cell_type": "code",
   "execution_count": 31,
   "metadata": {},
   "outputs": [],
   "source": [
    "num_references = 0\n",
    "num_referenced_by = 0\n",
    "for paper in papers:\n",
    "    if len(paper._references) > 0:\n",
    "        num_references += 1\n",
    "    if len(paper._referenced_by) > 0:\n",
    "        num_referenced_by += 1"
   ]
  },
  {
   "cell_type": "markdown",
   "metadata": {},
   "source": [
    "Questions:\n",
    "\n",
    "- How many papers have at least one referece correctly linked?\n",
    "- How many papers have been references at least once?"
   ]
  },
  {
   "cell_type": "code",
   "execution_count": null,
   "metadata": {},
   "outputs": [
    {
     "name": "stdout",
     "output_type": "stream",
     "text": [
      "Total papers: 44648.\n",
      "Number of references 29332 (65.69611180791973%).\n",
      "Number of referenced-by 20245 (45.34357641999642%).\n"
     ]
    }
   ],
   "source": [
    "print(f'Total papers: {len(papersld)}.')\n",
    "print(f'Number of references {num_references} ({num_references/len(papers)*100}%).')\n",
    "print(f'Number of referenced-by {num_referenced_by} ({num_referenced_by/len(papers)*100}%).')"
   ]
  },
  {
   "cell_type": "markdown",
   "metadata": {},
   "source": [
    "What are the most reference papers?"
   ]
  },
  {
   "cell_type": "code",
   "execution_count": null,
   "metadata": {},
   "outputs": [],
   "source": [
    "papers_sorted = sorted(papers, key=lambda p: len(p._referenced_by), reverse=True)"
   ]
  },
  {
   "cell_type": "markdown",
   "metadata": {},
   "source": [
    "Most cited paper:"
   ]
  },
  {
   "cell_type": "code",
   "execution_count": null,
   "metadata": {},
   "outputs": [
    {
     "data": {
      "text/markdown": [
       "\n",
       "- **Title:** Coronavirus as a possible cause of severe acute respiratory syndrome\n",
       "- **Authors:** Peiris, JSM; Lai, ST; Poon, LLM; Guan, Y; Yam, LYC; Lim, W; Nicholls, J; Yee, WKS; Yan, WW; Cheung, MT; Cheng, VCC; Chan, KH; Tsang, DNC; Yung, RWH; Ng, TK; Yuen, KY\n",
       "- **Publish date/time:** 2003-04-19\n",
       "- **Linked references:** 4\n",
       "- **Linked referenced by:** 773\n",
       "- **Abstract:** Summary Background An outbreak of severe acute respiratory syndrome (SARS) has been reported in Hong Kong. We investigated the viral cause and clinical presentation among 50 patients. Methods We analysed case notes and microbiological findings for 50 patients with SARS, representing more than five separate epidemiologically linked transmission clusters. We defined the clinical presentation and risk factors associated with severe disease and investigated the causal agents by chest radiography and laboratory testing of nasopharyngeal aspirates and sera samples. We compared the laboratory findings with those submitted for microbiological investigation of other diseases from patients whose identity was masked. Findings Patients' age ranged from 23 to 74 years. Fever, chills, myalgia, and cough were the most frequent complaints. When compared with chest radiographic changes, respiratory symptoms and auscultatory findings were disproportionally mild. Patients who were household contacts of other infected people and had older age, lymphopenia, and liver dysfunction were associated with severe disease. A virus belonging to the family Coronaviridae was isolated from two patients. By use of serological and reverse-transcriptase PCR specific for this virus, 45 of 50 patients with SARS, but no controls, had evidence of infection with this virus. Interpretation A coronavirus was isolated from patients with SARS that might be the primary agent associated with this disease. Serological and molecular tests specific for the virus permitted a definitive laboratory diagnosis to be made and allowed further investigation to define whether other cofactors play a part in disease progression."
      ],
      "text/plain": [
       "<IPython.core.display.Markdown object>"
      ]
     },
     "metadata": {},
     "output_type": "display_data"
    }
   ],
   "source": [
    "paper_as_markdown(papers_sorted[0])"
   ]
  },
  {
   "cell_type": "markdown",
   "metadata": {},
   "source": [
    "... and its refereces."
   ]
  },
  {
   "cell_type": "code",
   "execution_count": null,
   "metadata": {},
   "outputs": [
    {
     "data": {
      "text/markdown": [
       "\n",
       "- **Title:** Severe Acute Respiratory Syndrome (SARS)\n",
       "- **Authors:** Tsang, Kenneth W.\n",
       "- **Publish date/time:** 2017-12-31\n",
       "- **Linked references:** 5\n",
       "- **Linked referenced by:** 108\n",
       "- **Abstract:** Abstract Severe acute respiratory syndrome (SARS) is caused by a novel coronavirus (SARS-CoV), spread largely via droplets. Patients present with rapidly progressive pneumonia and respiratory failure. Diagnosis requires the demonstration of epidemiological linkage, clinical profiles, and virological evidence of SARS-CoV infection. Treatment of SARS is largely anecdotal. High-dose corticosteroid therapy might be useful for critically ill patients, but previous use of ribavirin (a broad-spectrum antiviral agent) was probably not efficacious. Some survivors of SARS suffer from avascular necrosis of hip and knee joints. Poor prognostic factors include advanced age, comorbidities, and high serum lactate dehydrogenase and neutrophil levels."
      ],
      "text/plain": [
       "<IPython.core.display.Markdown object>"
      ]
     },
     "metadata": {},
     "output_type": "display_data"
    },
    {
     "data": {
      "text/markdown": [
       "\n",
       "- **Title:** Severe Acute Respiratory Syndrome (SARS)\n",
       "- **Authors:** Tsang, Kenneth W.\n",
       "- **Publish date/time:** 2017-12-31\n",
       "- **Linked references:** 5\n",
       "- **Linked referenced by:** 108\n",
       "- **Abstract:** Abstract Severe acute respiratory syndrome (SARS) is caused by a novel coronavirus (SARS-CoV), spread largely via droplets. Patients present with rapidly progressive pneumonia and respiratory failure. Diagnosis requires the demonstration of epidemiological linkage, clinical profiles, and virological evidence of SARS-CoV infection. Treatment of SARS is largely anecdotal. High-dose corticosteroid therapy might be useful for critically ill patients, but previous use of ribavirin (a broad-spectrum antiviral agent) was probably not efficacious. Some survivors of SARS suffer from avascular necrosis of hip and knee joints. Poor prognostic factors include advanced age, comorbidities, and high serum lactate dehydrogenase and neutrophil levels."
      ],
      "text/plain": [
       "<IPython.core.display.Markdown object>"
      ]
     },
     "metadata": {},
     "output_type": "display_data"
    },
    {
     "data": {
      "text/markdown": [
       "\n",
       "- **Title:** Coronavirus Pneumonia Following Autologous Bone Marrow Transplantation for Breast Cancer\n",
       "- **Authors:** Folz, Rodney J.; Elkordy, Maha A.\n",
       "- **Publish date/time:** 1999-03-31\n",
       "- **Linked references:** 2\n",
       "- **Linked referenced by:** 30\n",
       "- **Abstract:** Infectious bronchitis virus, otherwise known as coronavirus, can cause mild upper respiratory tract illnesses in children and adults. Rarely has coronavirus been linked, either by serology or nasal wash, to pneumonia. We report a case of a young woman who, following treatment for stage IIIA breast cancer using a high-dose chemotherapy regimen followed by autologous bone marrow and stem cell transplantation, developed respiratory failure and was found to have coronavirus pneumonia as diagnosed by electron microscopy from BAL fluid. We propose that coronavirus should be considered in the differential diagnosis of acute respiratory failure in cancer patients who have undergone high-dose chemotherapy and autologous hematopoietic support."
      ],
      "text/plain": [
       "<IPython.core.display.Markdown object>"
      ]
     },
     "metadata": {},
     "output_type": "display_data"
    },
    {
     "data": {
      "text/markdown": [
       "\n",
       "- **Title:** Further studies on human enteric coronaviruses\n",
       "- **Authors:** Caul, E. O.; Egglestone, S. I.\n",
       "- **Publish date/time:** 1977\n",
       "- **Linked references:** 1\n",
       "- **Linked referenced by:** 26\n",
       "- **Abstract:** Comparisons were made between human enteric coronaviruses and the enteric coronaviruses of pigs and calves by negative staining. Examination of human intestinal organ culture fluids at various time intervals after inoculation with the human enteric coronavirus showed increasing numbers of particles in the fluids. Thin sections of the columnar epithelial cells of these explants showed a number of features consistent with the replication of known human and animal coronaviruses. Virus particles found in thin sections had a mean diameter of 68 nm. In addition, a structure was found in thin sections which has not been described previously. This structure may represent the viral nucleocapsid."
      ],
      "text/plain": [
       "<IPython.core.display.Markdown object>"
      ]
     },
     "metadata": {},
     "output_type": "display_data"
    }
   ],
   "source": [
    "for paper in papers_sorted[0]._references:\n",
    "     paper_as_markdown(paper)"
   ]
  },
  {
   "cell_type": "markdown",
   "metadata": {},
   "source": [
    "## Plot time!\n",
    "\n",
    "Note that the dataset includes papers published before the current pandemic started.\n",
    "The following cells will plot the number of references distribution."
   ]
  },
  {
   "cell_type": "code",
   "execution_count": null,
   "metadata": {},
   "outputs": [
    {
     "data": {
      "image/png": "[encoded data removed]",
      "text/plain": [
       "<Figure size 792x576 with 1 Axes>"
      ]
     },
     "metadata": {},
     "output_type": "display_data"
    }
   ],
   "source": [
    "num_references = sorted([len(paper._references) for paper in papers],\n",
    "                        reverse=True)\n",
    "num_referenced_by = sorted([len(paper._referenced_by) for paper in papers],\n",
    "                           reverse=True)\n",
    "fig = plt.figure(figsize=(11, 8))\n",
    "ax = sns.lineplot(y=num_references, x=range(len(papers)))\n",
    "ax.set(title=\"Correctly linked paper references\", yscale=\"log\");"
   ]
  },
  {
   "cell_type": "code",
   "execution_count": null,
   "metadata": {},
   "outputs": [
    {
     "data": {
      "image/png": "[encoded data removed]",
      "text/plain": [
       "<Figure size 792x576 with 1 Axes>"
      ]
     },
     "metadata": {},
     "output_type": "display_data"
    }
   ],
   "source": [
    "fig = plt.figure(figsize=(11, 8))\n",
    "ax = sns.lineplot(y=num_referenced_by, x=range(len(papers)))\n",
    "ax.set(title=\"References to papers correclty linked\", yscale=\"log\");"
   ]
  },
  {
   "cell_type": "markdown",
   "metadata": {},
   "source": [
    "From the plot it's concluded that the number of linked references follow a power law, with a tiny bit of them accounting for most of the references.\n",
    "\n",
    "# PageRank\n",
    "\n",
    "The following cells will compute the PageRank score based on the previously built paper references link."
   ]
  },
  {
   "cell_type": "code",
   "execution_count": 32,
   "metadata": {},
   "outputs": [],
   "source": [
    "# export\n",
    "def build_papers_reference_graph(papers):\n",
    "    G = nx.DiGraph()\n",
    "\n",
    "    # First add the nodes\n",
    "    for paper in papers:\n",
    "        G.add_node(paper)\n",
    "    \n",
    "    # Then, add the links\n",
    "    for paper in papers:\n",
    "        for referenced_paper in paper._references:\n",
    "            G.add_edge(paper, referenced_paper)\n",
    "    \n",
    "    return G"
   ]
  },
  {
   "cell_type": "code",
   "execution_count": 33,
   "metadata": {},
   "outputs": [],
   "source": [
    "G = build_papers_reference_graph(papers)"
   ]
  },
  {
   "cell_type": "code",
   "execution_count": 34,
   "metadata": {},
   "outputs": [
    {
     "data": {
      "text/plain": [
       "(58457, 193183)"
      ]
     },
     "execution_count": 34,
     "metadata": {},
     "output_type": "execute_result"
    }
   ],
   "source": [
    "G.number_of_nodes(), G.number_of_edges()"
   ]
  },
  {
   "cell_type": "code",
   "execution_count": 35,
   "metadata": {},
   "outputs": [],
   "source": [
    "pr = nx.pagerank(G)"
   ]
  },
  {
   "cell_type": "code",
   "execution_count": 36,
   "metadata": {},
   "outputs": [],
   "source": [
    "sorted_pr = {k: v for k, v in sorted(pr.items(), key=lambda item: item[1], reverse=True)}"
   ]
  },
  {
   "cell_type": "markdown",
   "metadata": {},
   "source": [
    "Top-ranked papers in the graph"
   ]
  },
  {
   "cell_type": "code",
   "execution_count": 37,
   "metadata": {},
   "outputs": [
    {
     "data": {
      "text/markdown": [
       "\n",
       "- **Title:** Coronavirus as a possible cause of severe acute respiratory syndrome\n",
       "- **Authors:** Peiris, JSM; Lai, ST; Poon, LLM; Guan, Y; Yam, LYC; Lim, W; Nicholls, J; Yee, WKS; Yan, WW; Cheung, MT; Cheng, VCC; Chan, KH; Tsang, DNC; Yung, RWH; Ng, TK; Yuen, KY\n",
       "- **Publish date/time:** 2003-04-19\n",
       "- **Linked references:** 8\n",
       "- **Linked referenced by:** 1794\n",
       "- **Abstract:** Summary Background An outbreak of severe acute respiratory syndrome (SARS) has been reported in Hong Kong. We investigated the viral cause and clinical presentation among 50 patients. Methods We analysed case notes and microbiological findings for 50 patients with SARS, representing more than five separate epidemiologically linked transmission clusters. We defined the clinical presentation and risk factors associated with severe disease and investigated the causal agents by chest radiography and laboratory testing of nasopharyngeal aspirates and sera samples. We compared the laboratory findings with those submitted for microbiological investigation of other diseases from patients whose identity was masked. Findings Patients' age ranged from 23 to 74 years. Fever, chills, myalgia, and cough were the most frequent complaints. When compared with chest radiographic changes, respiratory symptoms and auscultatory findings were disproportionally mild. Patients who were household contacts of other infected people and had older age, lymphopenia, and liver dysfunction were associated with severe disease. A virus belonging to the family Coronaviridae was isolated from two patients. By use of serological and reverse-transcriptase PCR specific for this virus, 45 of 50 patients with SARS, but no controls, had evidence of infection with this virus. Interpretation A coronavirus was isolated from patients with SARS that might be the primary agent associated with this disease. Serological and molecular tests specific for the virus permitted a definitive laboratory diagnosis to be made and allowed further investigation to define whether other cofactors play a part in disease progression."
      ],
      "text/plain": [
       "<IPython.core.display.Markdown object>"
      ]
     },
     "metadata": {},
     "output_type": "display_data"
    },
    {
     "data": {
      "text/markdown": [
       "\n",
       "- **Title:** Severe Acute Respiratory Syndrome (SARS)\n",
       "- **Authors:** Tsang, K. W.\n",
       "- **Publish date/time:** 2008-12-31\n",
       "- **Linked references:** 10\n",
       "- **Linked referenced by:** 236\n",
       "- **Abstract:** Severe acute respiratory syndrome (SARS) is caused by a novel coronavirus (SARS-CoV), spread largely via droplets. Patients present with rapidly progressive pneumonia and respiratory failure. Diagnosis requires the demonstration of epidemiological linkage, clinical profiles, and virological evidence of SARS-CoV infection. Treatment of SARS is largely anecdotal. High-dose corticosteroid therapy might be useful for critically ill patients, but previous use of ribavirin (a broad-spectrum antiviral agent) was probably not efficacious. Some survivors of SARS suffer from avascular necrosis of hip and knee joints. Poor prognostic factors include advanced age, comorbidities, and high serum lactate dehydrogenase and neutrophil levels."
      ],
      "text/plain": [
       "<IPython.core.display.Markdown object>"
      ]
     },
     "metadata": {},
     "output_type": "display_data"
    },
    {
     "data": {
      "text/markdown": [
       "\n",
       "- **Title:** World Health Organization\n",
       "- **Authors:** Ogbu, U.C.; Arah, O.A.\n",
       "- **Publish date/time:** 2008-08-26\n",
       "- **Linked references:** 2\n",
       "- **Linked referenced by:** 1158\n",
       "- **Abstract:** The World Health Organization is the global authority on health issues. Since its inception in 1948, it has made large strides in advancing its goal of the highest attainable level of health for all people. Through the years, the organization has faced many setbacks, but it has also marked numerous achievements. The global forces that necessitated its establishment continue to mold and influence the organization. This article discusses how the World Health Organization started, its functions, and what it is doing to maintain its relevance in the twenty-first century. This article also brings into focus the fight against tropical diseases."
      ],
      "text/plain": [
       "<IPython.core.display.Markdown object>"
      ]
     },
     "metadata": {},
     "output_type": "display_data"
    },
    {
     "data": {
      "text/markdown": [
       "\n",
       "- **Title:** Further studies on human enteric coronaviruses\n",
       "- **Authors:** Caul, E. O.; Egglestone, S. I.\n",
       "- **Publish date/time:** 1977\n",
       "- **Linked references:** 0\n",
       "- **Linked referenced by:** 46\n",
       "- **Abstract:** Comparisons were made between human enteric coronaviruses and the enteric coronaviruses of pigs and calves by negative staining. Examination of human intestinal organ culture fluids at various time intervals after inoculation with the human enteric coronavirus showed increasing numbers of particles in the fluids. Thin sections of the columnar epithelial cells of these explants showed a number of features consistent with the replication of known human and animal coronaviruses. Virus particles found in thin sections had a mean diameter of 68 nm. In addition, a structure was found in thin sections which has not been described previously. This structure may represent the viral nucleocapsid."
      ],
      "text/plain": [
       "<IPython.core.display.Markdown object>"
      ]
     },
     "metadata": {},
     "output_type": "display_data"
    },
    {
     "data": {
      "text/markdown": [
       "\n",
       "- **Title:** Coronavirus Pneumonia Following Autologous Bone Marrow Transplantation for Breast Cancer\n",
       "- **Authors:** Folz, Rodney J.; Elkordy, Maha A.\n",
       "- **Publish date/time:** 1999-03-31\n",
       "- **Linked references:** 6\n",
       "- **Linked referenced by:** 54\n",
       "- **Abstract:** Infectious bronchitis virus, otherwise known as coronavirus, can cause mild upper respiratory tract illnesses in children and adults. Rarely has coronavirus been linked, either by serology or nasal wash, to pneumonia. We report a case of a young woman who, following treatment for stage IIIA breast cancer using a high-dose chemotherapy regimen followed by autologous bone marrow and stem cell transplantation, developed respiratory failure and was found to have coronavirus pneumonia as diagnosed by electron microscopy from BAL fluid. We propose that coronavirus should be considered in the differential diagnosis of acute respiratory failure in cancer patients who have undergone high-dose chemotherapy and autologous hematopoietic support."
      ],
      "text/plain": [
       "<IPython.core.display.Markdown object>"
      ]
     },
     "metadata": {},
     "output_type": "display_data"
    }
   ],
   "source": [
    "for paper in list(sorted_pr.keys())[:5]:\n",
    "     paper_as_markdown(paper)"
   ]
  },
  {
   "cell_type": "markdown",
   "metadata": {},
   "source": [
    "Here it can be seen that the papers with the highest PageRank are highly cited and in general are works from past decades that probably constitute the basis of current research against COVID-19.\n",
    "\n",
    "The distribution of PageRank scores will be shown below."
   ]
  },
  {
   "cell_type": "code",
   "execution_count": null,
   "metadata": {},
   "outputs": [
    {
     "data": {
      "text/plain": [
       "(44648, 44176, 472)"
      ]
     },
     "execution_count": null,
     "metadata": {},
     "output_type": "execute_result"
    }
   ],
   "source": [
    "pr_values = np.array(list(sorted_pr.values()))\n",
    "\n",
    "# Removing outliers\n",
    "pr_mean = np.mean(pr_values)\n",
    "pr_std = np.std(pr_values)\n",
    "pr_distance = abs(pr_values - pr_mean)\n",
    "max_std = 1.5\n",
    "pr_not_outlier = pr_distance < max_std * pr_std\n",
    "pr_no_outliers = pr_values[pr_not_outlier]\n",
    "\n",
    "len(pr_values), len(pr_no_outliers), len(pr_values) - len(pr_no_outliers)"
   ]
  },
  {
   "cell_type": "code",
   "execution_count": null,
   "metadata": {},
   "outputs": [
    {
     "data": {
      "image/png": "[encoded data removed]",
      "text/plain": [
       "<Figure size 792x576 with 1 Axes>"
      ]
     },
     "metadata": {},
     "output_type": "display_data"
    }
   ],
   "source": [
    "fig = plt.figure(figsize=(11, 8))\n",
    "ax = sns.distplot(pr_values, kde=False, rug=True)\n",
    "ax.set(title=\"Distribution of PageRank of papers including outliers\", yscale=\"log\");"
   ]
  },
  {
   "cell_type": "code",
   "execution_count": null,
   "metadata": {},
   "outputs": [
    {
     "data": {
      "image/png": "[encoded data removed]",
      "text/plain": [
       "<Figure size 792x576 with 1 Axes>"
      ]
     },
     "metadata": {},
     "output_type": "display_data"
    }
   ],
   "source": [
    "fig = plt.figure(figsize=(11, 8))\n",
    "ax = sns.distplot(pr_no_outliers, kde=False, rug=True)\n",
    "ax.set(title=\"Distribution of PageRank of papers including outliers\", yscale=\"log\")\n",
    "pass"
   ]
  },
  {
   "cell_type": "markdown",
   "metadata": {},
   "source": [
    "---"
   ]
  },
  {
   "cell_type": "code",
   "execution_count": 38,
   "metadata": {},
   "outputs": [
    {
     "name": "stdout",
     "output_type": "stream",
     "text": [
      "Converted 00_downloader.ipynb.\n",
      "Converted 01_references.ipynb.\n",
      "Converted 02_representations_and_lda.ipynb.\n",
      "Converted 03_hierarchical_topic_modelling.ipynb.\n",
      "Converted 04_lda2vec.ipynb.\n",
      "Converted 05_cook_artifacts.ipynb.\n",
      "Converted 06_GUI.ipynb.\n",
      "Converted 98_risotto_precook.ipynb.\n",
      "Converted 99_risotto_gui.ipynb.\n",
      "Converted index.ipynb.\n"
     ]
    }
   ],
   "source": [
    "# tell nbdev to generate library from notebooks\n",
    "from nbdev.export import *\n",
    "notebook2script()"
   ]
  },
  {
   "cell_type": "code",
   "execution_count": 1,
   "metadata": {},
   "outputs": [
    {
     "data": {
      "text/html": [
       "<link rel=\"stylesheet\" href=\"https://files.inria.fr/dircom/extranet/fonts-inria-sans.css\" rel=\"stylesheet\">\n",
       "<link rel=\"stylesheet\" href=\"https://files.inria.fr/dircom/extranet/fonts-inria-serif.css\" rel=\"stylesheet\">\n",
       "<link href=\"https://fonts.googleapis.com/css?family=Inconsolata\" rel=\"stylesheet\">\n",
       "<style>\n",
       ".text_cell_render {\n",
       "    font-style: regular;\n",
       "    font-family: 'Inria Sans', \"Helvetica Neue\", Arial, \"Noto Sans\", sans-serif;\n",
       "    display: block;\n",
       "}\n",
       "\n",
       ".text_cell_render h1 {\n",
       "    font-family: 'Inria Serif', Georgia, serif; \n",
       "    font-weight: bold;\n",
       "    margin-bottom: 0.1em;\n",
       "    margin-top: 0.5em;\n",
       "    color:#E63319;\n",
       "}\n",
       "\n",
       ".reveal h1 {\n",
       "    font-family: 'Inria Serif', Georgia, serif;\n",
       "    font-weight: bold;\n",
       "    margin-bottom: 0.47em;\n",
       "    margin-top: 0.74em;\n",
       "    color:#E63319;\n",
       "}\n",
       "\n",
       ".text_cell_render h2 {\n",
       "    font-family: 'Inria Serif', Georgia, serif;\n",
       "    margin-bottom: 0.29em;\n",
       "    margin-top: 0.38em;\n",
       "    color:#E63319;\n",
       "}\n",
       "\n",
       ".text_cell_render h3 {\n",
       "    font-family: 'Inria Serif', Georgia, serif;\n",
       "    margin-bottom: 0.1em;\n",
       "    margin-top: 0.3em;\n",
       "    color:#595959;\n",
       "}\n",
       ".text_cell_render h4 {\n",
       "    font-family: 'Inria Sans', \"Helvetica Neue\", Arial, \"Noto Sans\", sans-serif;\n",
       "    margin-bottom: 0.1em;\n",
       "    margin-top: 0.3em;\n",
       "    color:#595959;\n",
       "}\n",
       ".text_cell_render h5 {\n",
       "    font-family: 'Inria Sans', \"Helvetica Neue\", Arial, \"Noto Sans\", sans-serif;\n",
       "    margin-bottom: 0.1em;\n",
       "    margin-top: 0.3em;\n",
       "    color:#595959;\n",
       "}\n",
       "\n",
       "div.text_cell_render{\n",
       "    line-height: 120%;\n",
       "    font-size: 100%;\n",
       "    font-weight: 400;\n",
       "    text-align: justify;\n",
       "    margin-left:0em;\n",
       "    margin-right:0em;\n",
       "}\n",
       "\n",
       ".reveal div.text_cell_render{\n",
       "    line-height: 120%;\n",
       "    font-size: 74%;\n",
       "    font-weight: 400;\n",
       "    text-align: justify;\n",
       "    margin-left:0em;\n",
       "    margin-right:0em;\n",
       "}\n",
       "\n",
       ".reveal h2 {\n",
       "    font-family: 'Inria Serif', Georgia, serif;\n",
       "    font-weight: bold;\n",
       "    margin-bottom: 0.1em;\n",
       "    margin-top: 0.5em;\n",
       "    color:#E63319;\n",
       "}\n",
       "\n",
       ".reveal h3 {\n",
       "    font-family: 'Inria Serif', Georgia, serif;\n",
       "    font-weight: bold;\n",
       "    margin-bottom: 0.1em;\n",
       "    margin-top: 0.5em;\n",
       "    color:#595959;\n",
       "}\n",
       "\n",
       ".reveal h4 {\n",
       "    font-family: 'Inria Sans', \"Helvetica Neue\", Arial, \"Noto Sans\", sans-serif;\n",
       "    font-weight: bold;\n",
       "    margin-bottom: 0.1em;\n",
       "    margin-top: 0.5em;\n",
       "    color:#595959;\n",
       "}\n",
       "\n",
       ".reveal .code_cell {\n",
       "    font-size: 92%;\n",
       "}\n",
       "\n",
       ".reveal code {\n",
       "font-family: 'Inconsolata', monospace;\n",
       "}\n",
       ".reveal pre {\n",
       "font-family: 'Inconsolata', monospace;\n",
       "}\n",
       "code {\n",
       "font-family: 'Inconsolata', monospace;\n",
       "}\n",
       "pre {\n",
       "font-family: 'Inconsolata', monospace;\n",
       "}\n",
       ".CodeMirror{\n",
       "font-family: \"Inconsolata\", monospace;\n",
       "}\n",
       "</style>"
      ],
      "text/plain": [
       "<IPython.core.display.HTML object>"
      ]
     },
     "execution_count": 1,
     "metadata": {},
     "output_type": "execute_result"
    }
   ],
   "source": [
    "# this code is here for cosmetic reasons\n",
    "from IPython.core.display import HTML\n",
    "from urllib.request import urlopen\n",
    "HTML(urlopen('https://raw.githubusercontent.com/lmarti/jupyter_custom/master/custom.include').read().decode('utf-8'))"
   ]
  },
  {
   "cell_type": "markdown",
   "metadata": {},
   "source": [
    "---"
   ]
  }
 ],
 "metadata": {
  "kernelspec": {
   "display_name": "Python 3",
   "language": "python",
   "name": "python3"
  },
  "language_info": {
   "codemirror_mode": {
    "name": "ipython",
    "version": 3
   },
   "file_extension": ".py",
   "mimetype": "text/x-python",
   "name": "python",
   "nbconvert_exporter": "python",
   "pygments_lexer": "ipython3",
   "version": "3.7.4"
  }
 },
 "nbformat": 4,
 "nbformat_minor": 4
}
