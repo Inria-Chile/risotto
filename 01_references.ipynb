{
 "cells": [
  {
   "cell_type": "code",
   "execution_count": 46,
   "metadata": {},
   "outputs": [
    {
     "name": "stdout",
     "output_type": "stream",
     "text": [
      "Requirement already satisfied: pandas in ./venv/lib/python3.7/site-packages (1.0.3)\n",
      "Collecting tqdm\n",
      "\u001b[?25l  Downloading https://files.pythonhosted.org/packages/4a/1c/6359be64e8301b84160f6f6f7936bbfaaa5e9a4eab6cbc681db07600b949/tqdm-4.45.0-py2.py3-none-any.whl (60kB)\n",
      "\u001b[K    100% |████████████████████████████████| 61kB 1.7MB/s ta 0:00:01\n",
      "\u001b[?25hRequirement already satisfied: python-dateutil>=2.6.1 in ./venv/lib/python3.7/site-packages (from pandas) (2.8.1)\n",
      "Requirement already satisfied: pytz>=2017.2 in ./venv/lib/python3.7/site-packages (from pandas) (2019.3)\n",
      "Requirement already satisfied: numpy>=1.13.3 in ./venv/lib/python3.7/site-packages (from pandas) (1.18.2)\n",
      "Requirement already satisfied: six>=1.5 in ./venv/lib/python3.7/site-packages (from python-dateutil>=2.6.1->pandas) (1.14.0)\n",
      "Installing collected packages: tqdm\n",
      "Successfully installed tqdm-4.45.0\n",
      "\u001b[33mYou are using pip version 19.0.3, however version 20.0.2 is available.\n",
      "You should consider upgrading via the 'pip install --upgrade pip' command.\u001b[0m\n"
     ]
    }
   ],
   "source": [
    "!pip install pandas tqdm"
   ]
  },
  {
   "cell_type": "markdown",
   "metadata": {},
   "source": [
    "# CORD-19 References\n",
    "\n",
    "Este notebook explora la calidad de las referencias contenidas en el COVID-19 Open Research Dataset Challenge.\n",
    "Las respuestas que se intentan responder son:\n",
    "\n",
    "- Cuántos papers tiene el dataset?\n",
    "- Cuántos papers del dataset tienen referencia?\n",
    "- Cuántas referencias hace cada paper?\n",
    "- Cuántas referencias que se hacen están dentro del conjunto de datos? Cuántas referencias que se hacen están fuera?"
   ]
  },
  {
   "cell_type": "code",
   "execution_count": 6,
   "metadata": {},
   "outputs": [
    {
     "data": {
      "text/html": [
       "<div>\n",
       "<style scoped>\n",
       "    .dataframe tbody tr th:only-of-type {\n",
       "        vertical-align: middle;\n",
       "    }\n",
       "\n",
       "    .dataframe tbody tr th {\n",
       "        vertical-align: top;\n",
       "    }\n",
       "\n",
       "    .dataframe thead th {\n",
       "        text-align: right;\n",
       "    }\n",
       "</style>\n",
       "<table border=\"1\" class=\"dataframe\">\n",
       "  <thead>\n",
       "    <tr style=\"text-align: right;\">\n",
       "      <th></th>\n",
       "      <th>sha</th>\n",
       "      <th>source_x</th>\n",
       "      <th>title</th>\n",
       "      <th>doi</th>\n",
       "      <th>pmcid</th>\n",
       "      <th>pubmed_id</th>\n",
       "      <th>license</th>\n",
       "      <th>abstract</th>\n",
       "      <th>publish_time</th>\n",
       "      <th>authors</th>\n",
       "      <th>journal</th>\n",
       "      <th>Microsoft Academic Paper ID</th>\n",
       "      <th>WHO #Covidence</th>\n",
       "      <th>has_pdf_parse</th>\n",
       "      <th>has_pmc_xml_parse</th>\n",
       "      <th>full_text_file</th>\n",
       "      <th>url</th>\n",
       "    </tr>\n",
       "    <tr>\n",
       "      <th>cord_uid</th>\n",
       "      <th></th>\n",
       "      <th></th>\n",
       "      <th></th>\n",
       "      <th></th>\n",
       "      <th></th>\n",
       "      <th></th>\n",
       "      <th></th>\n",
       "      <th></th>\n",
       "      <th></th>\n",
       "      <th></th>\n",
       "      <th></th>\n",
       "      <th></th>\n",
       "      <th></th>\n",
       "      <th></th>\n",
       "      <th></th>\n",
       "      <th></th>\n",
       "      <th></th>\n",
       "    </tr>\n",
       "  </thead>\n",
       "  <tbody>\n",
       "    <tr>\n",
       "      <th>xqhn0vbp</th>\n",
       "      <td>1e1286db212100993d03cc22374b624f7caee956</td>\n",
       "      <td>PMC</td>\n",
       "      <td>Airborne rhinovirus detection and effect of ul...</td>\n",
       "      <td>10.1186/1471-2458-3-5</td>\n",
       "      <td>PMC140314</td>\n",
       "      <td>12525263.0</td>\n",
       "      <td>no-cc</td>\n",
       "      <td>BACKGROUND: Rhinovirus, the most common cause ...</td>\n",
       "      <td>2003-01-13</td>\n",
       "      <td>Myatt, Theodore A; Johnston, Sebastian L; Rudn...</td>\n",
       "      <td>BMC Public Health</td>\n",
       "      <td>NaN</td>\n",
       "      <td>NaN</td>\n",
       "      <td>True</td>\n",
       "      <td>True</td>\n",
       "      <td>custom_license</td>\n",
       "      <td>https://www.ncbi.nlm.nih.gov/pmc/articles/PMC1...</td>\n",
       "    </tr>\n",
       "    <tr>\n",
       "      <th>gi6uaa83</th>\n",
       "      <td>8ae137c8da1607b3a8e4c946c07ca8bda67f88ac</td>\n",
       "      <td>PMC</td>\n",
       "      <td>Discovering human history from stomach bacteria</td>\n",
       "      <td>10.1186/gb-2003-4-5-213</td>\n",
       "      <td>PMC156578</td>\n",
       "      <td>12734001.0</td>\n",
       "      <td>no-cc</td>\n",
       "      <td>Recent analyses of human pathogens have reveal...</td>\n",
       "      <td>2003-04-28</td>\n",
       "      <td>Disotell, Todd R</td>\n",
       "      <td>Genome Biol</td>\n",
       "      <td>NaN</td>\n",
       "      <td>NaN</td>\n",
       "      <td>True</td>\n",
       "      <td>True</td>\n",
       "      <td>custom_license</td>\n",
       "      <td>https://www.ncbi.nlm.nih.gov/pmc/articles/PMC1...</td>\n",
       "    </tr>\n",
       "    <tr>\n",
       "      <th>le0ogx1s</th>\n",
       "      <td>NaN</td>\n",
       "      <td>PMC</td>\n",
       "      <td>A new recruit for the army of the men of death</td>\n",
       "      <td>10.1186/gb-2003-4-7-113</td>\n",
       "      <td>PMC193621</td>\n",
       "      <td>12844350.0</td>\n",
       "      <td>no-cc</td>\n",
       "      <td>The army of the men of death, in John Bunyan's...</td>\n",
       "      <td>2003-06-27</td>\n",
       "      <td>Petsko, Gregory A</td>\n",
       "      <td>Genome Biol</td>\n",
       "      <td>NaN</td>\n",
       "      <td>NaN</td>\n",
       "      <td>False</td>\n",
       "      <td>True</td>\n",
       "      <td>custom_license</td>\n",
       "      <td>https://www.ncbi.nlm.nih.gov/pmc/articles/PMC1...</td>\n",
       "    </tr>\n",
       "    <tr>\n",
       "      <th>fy4w7xz8</th>\n",
       "      <td>0104f6ceccf92ae8567a0102f89cbb976969a774</td>\n",
       "      <td>PMC</td>\n",
       "      <td>Association of HLA class I with severe acute r...</td>\n",
       "      <td>10.1186/1471-2350-4-9</td>\n",
       "      <td>PMC212558</td>\n",
       "      <td>12969506.0</td>\n",
       "      <td>no-cc</td>\n",
       "      <td>BACKGROUND: The human leukocyte antigen (HLA) ...</td>\n",
       "      <td>2003-09-12</td>\n",
       "      <td>Lin, Marie; Tseng, Hsiang-Kuang; Trejaut, Jean...</td>\n",
       "      <td>BMC Med Genet</td>\n",
       "      <td>NaN</td>\n",
       "      <td>NaN</td>\n",
       "      <td>True</td>\n",
       "      <td>True</td>\n",
       "      <td>custom_license</td>\n",
       "      <td>https://www.ncbi.nlm.nih.gov/pmc/articles/PMC2...</td>\n",
       "    </tr>\n",
       "    <tr>\n",
       "      <th>0qaoam29</th>\n",
       "      <td>5b68a553a7cbbea13472721cd1ad617d42b40c26</td>\n",
       "      <td>PMC</td>\n",
       "      <td>A double epidemic model for the SARS propagation</td>\n",
       "      <td>10.1186/1471-2334-3-19</td>\n",
       "      <td>PMC222908</td>\n",
       "      <td>12964944.0</td>\n",
       "      <td>no-cc</td>\n",
       "      <td>BACKGROUND: An epidemic of a Severe Acute Resp...</td>\n",
       "      <td>2003-09-10</td>\n",
       "      <td>Ng, Tuen Wai; Turinici, Gabriel; Danchin, Antoine</td>\n",
       "      <td>BMC Infect Dis</td>\n",
       "      <td>NaN</td>\n",
       "      <td>NaN</td>\n",
       "      <td>True</td>\n",
       "      <td>True</td>\n",
       "      <td>custom_license</td>\n",
       "      <td>https://www.ncbi.nlm.nih.gov/pmc/articles/PMC2...</td>\n",
       "    </tr>\n",
       "  </tbody>\n",
       "</table>\n",
       "</div>"
      ],
      "text/plain": [
       "                                               sha source_x  \\\n",
       "cord_uid                                                      \n",
       "xqhn0vbp  1e1286db212100993d03cc22374b624f7caee956      PMC   \n",
       "gi6uaa83  8ae137c8da1607b3a8e4c946c07ca8bda67f88ac      PMC   \n",
       "le0ogx1s                                       NaN      PMC   \n",
       "fy4w7xz8  0104f6ceccf92ae8567a0102f89cbb976969a774      PMC   \n",
       "0qaoam29  5b68a553a7cbbea13472721cd1ad617d42b40c26      PMC   \n",
       "\n",
       "                                                      title  \\\n",
       "cord_uid                                                      \n",
       "xqhn0vbp  Airborne rhinovirus detection and effect of ul...   \n",
       "gi6uaa83    Discovering human history from stomach bacteria   \n",
       "le0ogx1s     A new recruit for the army of the men of death   \n",
       "fy4w7xz8  Association of HLA class I with severe acute r...   \n",
       "0qaoam29   A double epidemic model for the SARS propagation   \n",
       "\n",
       "                              doi      pmcid   pubmed_id license  \\\n",
       "cord_uid                                                           \n",
       "xqhn0vbp    10.1186/1471-2458-3-5  PMC140314  12525263.0   no-cc   \n",
       "gi6uaa83  10.1186/gb-2003-4-5-213  PMC156578  12734001.0   no-cc   \n",
       "le0ogx1s  10.1186/gb-2003-4-7-113  PMC193621  12844350.0   no-cc   \n",
       "fy4w7xz8    10.1186/1471-2350-4-9  PMC212558  12969506.0   no-cc   \n",
       "0qaoam29   10.1186/1471-2334-3-19  PMC222908  12964944.0   no-cc   \n",
       "\n",
       "                                                   abstract publish_time  \\\n",
       "cord_uid                                                                   \n",
       "xqhn0vbp  BACKGROUND: Rhinovirus, the most common cause ...   2003-01-13   \n",
       "gi6uaa83  Recent analyses of human pathogens have reveal...   2003-04-28   \n",
       "le0ogx1s  The army of the men of death, in John Bunyan's...   2003-06-27   \n",
       "fy4w7xz8  BACKGROUND: The human leukocyte antigen (HLA) ...   2003-09-12   \n",
       "0qaoam29  BACKGROUND: An epidemic of a Severe Acute Resp...   2003-09-10   \n",
       "\n",
       "                                                    authors  \\\n",
       "cord_uid                                                      \n",
       "xqhn0vbp  Myatt, Theodore A; Johnston, Sebastian L; Rudn...   \n",
       "gi6uaa83                                   Disotell, Todd R   \n",
       "le0ogx1s                                  Petsko, Gregory A   \n",
       "fy4w7xz8  Lin, Marie; Tseng, Hsiang-Kuang; Trejaut, Jean...   \n",
       "0qaoam29  Ng, Tuen Wai; Turinici, Gabriel; Danchin, Antoine   \n",
       "\n",
       "                    journal  Microsoft Academic Paper ID WHO #Covidence  \\\n",
       "cord_uid                                                                  \n",
       "xqhn0vbp  BMC Public Health                          NaN            NaN   \n",
       "gi6uaa83        Genome Biol                          NaN            NaN   \n",
       "le0ogx1s        Genome Biol                          NaN            NaN   \n",
       "fy4w7xz8      BMC Med Genet                          NaN            NaN   \n",
       "0qaoam29     BMC Infect Dis                          NaN            NaN   \n",
       "\n",
       "          has_pdf_parse  has_pmc_xml_parse  full_text_file  \\\n",
       "cord_uid                                                     \n",
       "xqhn0vbp           True               True  custom_license   \n",
       "gi6uaa83           True               True  custom_license   \n",
       "le0ogx1s          False               True  custom_license   \n",
       "fy4w7xz8           True               True  custom_license   \n",
       "0qaoam29           True               True  custom_license   \n",
       "\n",
       "                                                        url  \n",
       "cord_uid                                                     \n",
       "xqhn0vbp  https://www.ncbi.nlm.nih.gov/pmc/articles/PMC1...  \n",
       "gi6uaa83  https://www.ncbi.nlm.nih.gov/pmc/articles/PMC1...  \n",
       "le0ogx1s  https://www.ncbi.nlm.nih.gov/pmc/articles/PMC1...  \n",
       "fy4w7xz8  https://www.ncbi.nlm.nih.gov/pmc/articles/PMC2...  \n",
       "0qaoam29  https://www.ncbi.nlm.nih.gov/pmc/articles/PMC2...  "
      ]
     },
     "execution_count": 6,
     "metadata": {},
     "output_type": "execute_result"
    }
   ],
   "source": [
    "# En primer lugar, se cargará el conjunto de datos.\n",
    "# Se debe extraer el conjunto de datos en una carpeta `datasets`.\n",
    "\n",
    "import pandas as pd\n",
    "\n",
    "\n",
    "DATASET_FOLDER_PATH = \"./datasets/CORD-19-research-challenge\"\n",
    "metadata_df = pd.read_csv(f\"{DATASET_FOLDER_PATH}/metadata.csv\", index_col=\"cord_uid\")\n",
    "metadata_df.head()"
   ]
  },
  {
   "cell_type": "code",
   "execution_count": 8,
   "metadata": {},
   "outputs": [
    {
     "data": {
      "text/plain": [
       "(Index(['sha', 'source_x', 'title', 'doi', 'pmcid', 'pubmed_id', 'license',\n",
       "        'abstract', 'publish_time', 'authors', 'journal',\n",
       "        'Microsoft Academic Paper ID', 'WHO #Covidence', 'has_pdf_parse',\n",
       "        'has_pmc_xml_parse', 'full_text_file', 'url'],\n",
       "       dtype='object'),\n",
       " 51078)"
      ]
     },
     "execution_count": 8,
     "metadata": {},
     "output_type": "execute_result"
    }
   ],
   "source": [
    "# Veamos la cantidad de registros y columnas del archivo de metadatos\n",
    "metadata_df.columns, len(metadata_df)"
   ]
  },
  {
   "cell_type": "markdown",
   "metadata": {},
   "source": [
    "**Se observan 51.078 registros**, cada uno representando un paper\n",
    "Además del identificador único `cord_uid`, se observan las siguientes columnas:\n",
    "\n",
    "- `sha`: hash del PDF\n",
    "- `source_x`: repositorio fuente, e.g. biorxiv, Elsevier, etc.\n",
    "- `title`: título del paper\n",
    "- `doi`, `pmcid`, `pubmed_id`, `Microsoft Academic Paper ID`, `WHO #Covidence`: identificadores asociados al paper\n",
    "- `license`: licencia de uso\n",
    "- `abstract`: resumen en lenguaje natural\n",
    "- `publish_time`: fecha de publicación\n",
    "- `journal`: en el caso de haber sido publicado en uno, el nombre del journal\n",
    "- `authors`: autores en lenguaje natural\n",
    "- `has_pdf_parse`: si el paper tiene parseado su PDF o no\n",
    "- `has_pmc_xml_parse`: si el XML de PubMed del paper está parseado o no\n",
    "- `full_text_file`\n",
    "- `url`: enlace al paper\n",
    "\n",
    "A continuación se revisará la estructura de carpetas y archivos del conjunto de datos."
   ]
  },
  {
   "cell_type": "code",
   "execution_count": 37,
   "metadata": {},
   "outputs": [
    {
     "name": "stdout",
     "output_type": "stream",
     "text": [
      "./datasets/CORD-19-research-challenge/biorxiv_medrxiv/biorxiv_medrxiv/pdf_json: 1625 files\n",
      "./datasets/CORD-19-research-challenge/noncomm_use_subset/noncomm_use_subset/pdf_json: 2490 files\n",
      "./datasets/CORD-19-research-challenge/noncomm_use_subset/noncomm_use_subset/pmc_json: 2217 files\n",
      "./datasets/CORD-19-research-challenge/custom_license/custom_license/pdf_json: 26505 files\n",
      "./datasets/CORD-19-research-challenge/custom_license/custom_license/pmc_json: 7802 files\n",
      "./datasets/CORD-19-research-challenge/comm_use_subset/comm_use_subset/pdf_json: 9524 files\n",
      "./datasets/CORD-19-research-challenge/comm_use_subset/comm_use_subset/pmc_json: 9148 files\n"
     ]
    },
    {
     "data": {
      "text/plain": [
       "59311"
      ]
     },
     "execution_count": 37,
     "metadata": {},
     "output_type": "execute_result"
    }
   ],
   "source": [
    "import json\n",
    "import random\n",
    "import os\n",
    "\n",
    "def _sample_json_file(path):\n",
    "    for _, _, file_names in os.walk(path):\n",
    "        sample_file_name = random.choice(file_names)\n",
    "        file_path = os.path.join(path, sample_file_name)\n",
    "        with open(file_path) as file:\n",
    "            contents = json.load(file)\n",
    "        return list(contents.keys())\n",
    "\n",
    "def walk_dataset():\n",
    "    cum_sum = 0\n",
    "    for root, folders, files in os.walk(DATASET_FOLDER_PATH):\n",
    "        num_folders = len(folders)\n",
    "        num_files = len(files)\n",
    "        if \"json\" in root and num_folders == 0 and num_files > 0:\n",
    "            cum_sum += num_files\n",
    "            print(f\"{root}: {num_files} files\")\n",
    "    return cum_sum\n",
    "\n",
    "walk_dataset()"
   ]
  },
  {
   "cell_type": "markdown",
   "metadata": {},
   "source": [
    "Se observan 59.311 archivos, lo que arroja una diferencia de 8.233 respecto a la cantidad de registros en el CSV de metadatos.\n",
    "Probablemente, existen registros en el CSV de metadatos que tienen más de un archivo.\n",
    "\n",
    "De acuerdo a la información encontrada en la comunidad de Kaggle, existen al menos dos procedimientos recomendados para cargar los datos.\n",
    "\n",
    "```python\n",
    "# Primer procedimiento\n",
    "for row in metadata_file:\n",
    "    pmc_id = row[\"pmc_id\"]\n",
    "    if exists pmc_id file in pmc_jsons subfolders:\n",
    "        return pmc_id file\n",
    "    # Si pmc_id es nulo o no existe archivo\n",
    "    sha = row[\"sha\"]\n",
    "    if exists sha file in pdf_jsons subfolders:\n",
    "        return sha file\n",
    "\n",
    "# Segundo procedimiento\n",
    "for pdf file in pdf files:\n",
    "    if pdf file sha not in metadata_file shas:\n",
    "        continue\n",
    "    else:\n",
    "        row = metadata_file row with matching pdf file sha\n",
    "        pmc_id = row[\"pmc_id\"]\n",
    "        if exists pmc_id file in pmc_jsons subfolders:\n",
    "            return pmc_id file\n",
    "        return pdf file\n",
    "```"
   ]
  },
  {
   "cell_type": "code",
   "execution_count": 38,
   "metadata": {},
   "outputs": [],
   "source": [
    "# 1. Construir diccionarios de PMC files, JSON files\n",
    "# 2. Iterate metadata file\n",
    "\n",
    "def get_id_paths_dicts(cls):\n",
    "    \"\"\"\n",
    "    Esta función construye los diccionarios cuyas llaves son identificadores\n",
    "    de alguna clase de papers (PDF o PMC) y cuyos valores son los paths hacia\n",
    "    los archivos asociados.\n",
    "    \"\"\"\n",
    "    all_files = {}\n",
    "    for root, folders, files in os.walk(DATASET_FOLDER_PATH):\n",
    "        num_folders = len(folders)\n",
    "        num_files = len(files)\n",
    "        if cls in root and num_folders == 0 and num_files > 0:\n",
    "            for file_name in files:\n",
    "                _id = file_name.split(\".\")[0]\n",
    "                all_files[_id] = os.path.join(root, file_name)\n",
    "    return all_files"
   ]
  },
  {
   "cell_type": "code",
   "execution_count": 42,
   "metadata": {},
   "outputs": [
    {
     "data": {
      "text/plain": [
       "(40144, 19167)"
      ]
     },
     "execution_count": 42,
     "metadata": {},
     "output_type": "execute_result"
    }
   ],
   "source": [
    "pdf_dict = get_id_paths_dicts(\"pdf\")\n",
    "pmc_dict = get_id_paths_dicts(\"pmc\")\n",
    "len(pdf_dict), len(pmc_dict)"
   ]
  },
  {
   "cell_type": "markdown",
   "metadata": {},
   "source": [
    "Se observa la existencia de:\n",
    "\n",
    "- 40.144 archivos PDF con sus respectivos JSONs\n",
    "- 19.167 archivos PMC con sus respectivos JSONs\n",
    "\n",
    "En base a la información anterior, se seguirá el primer procedimiento para cargar los papers."
   ]
  },
  {
   "cell_type": "code",
   "execution_count": 111,
   "metadata": {},
   "outputs": [
    {
     "data": {
      "application/vnd.jupyter.widget-view+json": {
       "model_id": "7ef1cfba2bc543eb8cea4550dceef927",
       "version_major": 2,
       "version_minor": 0
      },
      "text/plain": [
       "HBox(children=(FloatProgress(value=1.0, bar_style='info', max=1.0), HTML(value='')))"
      ]
     },
     "metadata": {},
     "output_type": "display_data"
    },
    {
     "name": "stdout",
     "output_type": "stream",
     "text": [
      "\n"
     ]
    },
    {
     "data": {
      "text/plain": [
       "(38882, 0)"
      ]
     },
     "execution_count": 111,
     "metadata": {},
     "output_type": "execute_result"
    }
   ],
   "source": [
    "from tqdm.notebook import tqdm\n",
    "\n",
    "\n",
    "class BasePaper:\n",
    "    def __init__(self, metadata_row, file_path):\n",
    "        self._metadata_row = metadata_row\n",
    "        self._file_path = file_path\n",
    "        self._file_contents = self._load_json_contents(file_path)\n",
    "        \n",
    "        self._title = metadata_row[\"title\"]\n",
    "        self._authors = metadata_row[\"authors\"]\n",
    "        self._publish_time = metadata_row[\"publish_time\"]\n",
    "        self._abstract = metadata_row[\"abstract\"]\n",
    "        self._bib_entries = self._file_contents[\"bib_entries\"]\n",
    "    \n",
    "    @staticmethod\n",
    "    def _load_json_contents(path):\n",
    "        with open(path) as file:\n",
    "            contents = json.load(file)\n",
    "        return contents\n",
    "\n",
    "    @property\n",
    "    def title(self):\n",
    "        return self._metadata_row[\"title\"]\n",
    "        \n",
    "    @property\n",
    "    def authors(self):\n",
    "        return self._metadata_row[\"authors\"]\n",
    "        \n",
    "    @property\n",
    "    def publish_time(self):\n",
    "        return self._metadata_row[\"publish_time\"]\n",
    "        \n",
    "    @property\n",
    "    def abstract(self):\n",
    "        return self._metadata_row[\"abstract\"]\n",
    "        \n",
    "    @property\n",
    "    def bib_entries(self):\n",
    "        return self._metadata_row[\"bib_entries\"]\n",
    "    \n",
    "    \n",
    "class PDFPaper(BasePaper):\n",
    "    pass\n",
    "        \n",
    "\n",
    "class PMCPaper(BasePaper):\n",
    "    pass\n",
    "\n",
    "def load_papers(metadata_df):\n",
    "    papers = []\n",
    "    not_found = []\n",
    "    for idx, row in tqdm(metadata_df.iterrows()):\n",
    "        pmc_id = row[\"pmcid\"]\n",
    "        shas = row[\"sha\"]\n",
    "        paper = None\n",
    "        \n",
    "        if pmc_id in pmc_dict:\n",
    "            pmc_path = pmc_dict[pmc_id]\n",
    "            paper = PMCPaper(row, pmc_path)\n",
    "            \n",
    "        if paper is None and pd.notna(shas):\n",
    "            shas_splitted = shas.split(\"; \")\n",
    "            for sha in shas_splitted:\n",
    "                if sha in pdf_dict:\n",
    "                    pdf_path = pdf_dict[sha]\n",
    "                    paper = PDFPaper(row, pdf_path)\n",
    "                    break\n",
    "        \n",
    "        if paper is None and (row[\"has_pdf_parse\"] or row[\"has_pmc_xml_parse\"]):\n",
    "            not_found.append(idx)\n",
    "        if paper is not None:\n",
    "            papers.append(paper)\n",
    "            \n",
    "    return papers, not_found\n",
    "\n",
    "papers, not_found = load_papers(metadata_df)\n",
    "len(papers), len(not_found)"
   ]
  },
  {
   "cell_type": "code",
   "execution_count": 96,
   "metadata": {},
   "outputs": [
    {
     "data": {
      "text/plain": [
       "38882"
      ]
     },
     "execution_count": 96,
     "metadata": {},
     "output_type": "execute_result"
    }
   ],
   "source": [
    "mask_1 = metadata_df[\"has_pdf_parse\"]\n",
    "mask_2 = metadata_df[\"has_pmc_xml_parse\"]\n",
    "(mask_1 | mask_2).sum()"
   ]
  },
  {
   "cell_type": "markdown",
   "metadata": {},
   "source": [
    "Somos capaces de identificar los archivos JSONs de 38.882 registros del archivo de metadatos.\n",
    "Es consistente con que solo 38.882 registros del archivo de metadatos tiene parseado PDF o PMC."
   ]
  },
  {
   "cell_type": "code",
   "execution_count": 114,
   "metadata": {},
   "outputs": [
    {
     "data": {
      "text/plain": [
       "('Airborne rhinovirus detection and effect of ultraviolet irradiation on detection by a semi-nested RT-PCR assay',\n",
       " 'Myatt, Theodore A; Johnston, Sebastian L; Rudnick, Stephen; Milton, Donald K',\n",
       " 'BACKGROUND: Rhinovirus, the most common cause of upper respiratory tract infections, has been implicated in asthma exacerbations and possibly asthma deaths. Although the method of transmission of rhinoviruses is disputed, several studies have demonstrated that aerosol transmission is a likely method of transmission among adults. As a first step in studies of possible airborne rhinovirus transmission, we developed methods to detect aerosolized rhinovirus by extending existing technology for detecting infectious agents in nasal specimens. METHODS: We aerosolized rhinovirus in a small aerosol chamber. Experiments were conducted with decreasing concentrations of rhinovirus. To determine the effect of UV irradiation on detection of rhinoviral aerosols, we also conducted experiments in which we exposed aerosols to a UV dose of 684 mJ/m(2). Aerosols were collected on Teflon filters and rhinovirus recovered in Qiagen AVL buffer using the Qiagen QIAamp Viral RNA Kit (Qiagen Corp., Valencia, California) followed by semi-nested RT-PCR and detection by gel electrophoresis. RESULTS: We obtained positive results from filter samples that had collected at least 1.3 TCID(50 )of aerosolized rhinovirus. Ultraviolet irradiation of airborne virus at doses much greater than those used in upper-room UV germicidal irradiation applications did not inhibit subsequent detection with the RT-PCR assay. CONCLUSION: The air sampling and extraction methodology developed in this study should be applicable to the detection of rhinovirus and other airborne viruses in the indoor air of offices and schools. This method, however, cannot distinguish UV inactivated virus from infectious viral particles.')"
      ]
     },
     "execution_count": 114,
     "metadata": {},
     "output_type": "execute_result"
    }
   ],
   "source": [
    "paper = papers[0]\n",
    "paper.title, paper.authors, paper.abstract"
   ]
  },
  {
   "cell_type": "markdown",
   "metadata": {},
   "source": [
    "# TODO\n",
    "- Hacer match entre título en lenguaje natural de referencias y título de papers."
   ]
  },
  {
   "cell_type": "code",
   "execution_count": null,
   "metadata": {},
   "outputs": [],
   "source": []
  }
 ],
 "metadata": {
  "kernelspec": {
   "display_name": "Python 3",
   "language": "python",
   "name": "python3"
  },
  "language_info": {
   "codemirror_mode": {
    "name": "ipython",
    "version": 3
   },
   "file_extension": ".py",
   "mimetype": "text/x-python",
   "name": "python",
   "nbconvert_exporter": "python",
   "pygments_lexer": "ipython3",
   "version": "3.7.4"
  }
 },
 "nbformat": 4,
 "nbformat_minor": 4
}
