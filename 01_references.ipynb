{
 "cells": [
  {
   "cell_type": "markdown",
   "metadata": {},
   "source": [
    "# Exporing CORD-19 References\n",
    "\n",
    "This notebooks explores how much information we can obtain from the citation references of the papers in the COVID-19 Open Research Dataset Challenge.\n",
    "\n",
    "Here we are trying to:\n",
    "\n",
    "- Load the dataset.\n",
    "    - How many papers can we parse?\n",
    "- How to extract the references?\n",
    "- How many references are also in the CORD-19 dataset?\n",
    "- How many are out?"
   ]
  },
  {
   "cell_type": "markdown",
   "metadata": {},
   "source": [
    "Remember to install requirements by running:\n",
    "\n",
    "```bash\n",
    "$ pip install -r requirements.txt\n",
    "```"
   ]
  },
  {
   "cell_type": "code",
   "execution_count": null,
   "metadata": {},
   "outputs": [
    {
     "name": "stderr",
     "output_type": "stream",
     "text": [
      "/Users/lmarti/.pyenv/versions/3.8.2/envs/risotto/lib/python3.8/site-packages/pandas/compat/__init__.py:117: UserWarning: Could not import the lzma module. Your installed Python is incomplete. Attempting to use lzma compression will result in a RuntimeError.\n",
      "  warnings.warn(msg)\n"
     ]
    }
   ],
   "source": [
    "import pandas as pd\n",
    "from fastprogress.fastprogress import progress_bar\n",
    "\n",
    "from pathlib import Path\n",
    "\n",
    "import json\n",
    "import random\n",
    "import os"
   ]
  },
  {
   "cell_type": "markdown",
   "metadata": {},
   "source": [
    "## Loading the CORD-19 dataset"
   ]
  },
  {
   "cell_type": "code",
   "execution_count": null,
   "metadata": {},
   "outputs": [],
   "source": [
    "cord19_dataset_folder = \"./datasets/CORD-19-research-challenge\""
   ]
  },
  {
   "cell_type": "code",
   "execution_count": null,
   "metadata": {},
   "outputs": [
    {
     "name": "stdout",
     "output_type": "stream",
     "text": [
      "Good to go\n"
     ]
    }
   ],
   "source": [
    "if Path(cord19_dataset_folder).exists():\n",
    "    print('Good to go')\n",
    "else:\n",
    "    print(f'{data_root} does not exist! Download it using 00_download.ipynb.')"
   ]
  },
  {
   "cell_type": "markdown",
   "metadata": {},
   "source": [
    "Loading `metadata.csv` file as a pandas `DataFrame`."
   ]
  },
  {
   "cell_type": "code",
   "execution_count": null,
   "metadata": {},
   "outputs": [],
   "source": [
    "metadata_df = pd.read_csv(f\"{cord19_dataset_folder}/metadata.csv\", index_col=\"cord_uid\")"
   ]
  },
  {
   "cell_type": "markdown",
   "metadata": {},
   "source": [
    "How metadata looks like?"
   ]
  },
  {
   "cell_type": "code",
   "execution_count": null,
   "metadata": {},
   "outputs": [],
   "source": [
    "file_in_metadata_count = len(metadata_df)"
   ]
  },
  {
   "cell_type": "code",
   "execution_count": null,
   "metadata": {},
   "outputs": [
    {
     "data": {
      "text/plain": [
       "'Total records loaded: 57366'"
      ]
     },
     "execution_count": null,
     "metadata": {},
     "output_type": "execute_result"
    }
   ],
   "source": [
    "f'Total records loaded: {file_in_metadata_count}'"
   ]
  },
  {
   "cell_type": "code",
   "execution_count": null,
   "metadata": {},
   "outputs": [
    {
     "data": {
      "text/plain": [
       "Index(['sha', 'source_x', 'title', 'doi', 'pmcid', 'pubmed_id', 'license',\n",
       "       'abstract', 'publish_time', 'authors', 'journal',\n",
       "       'Microsoft Academic Paper ID', 'WHO #Covidence', 'has_pdf_parse',\n",
       "       'has_pmc_xml_parse', 'full_text_file', 'url'],\n",
       "      dtype='object')"
      ]
     },
     "execution_count": null,
     "metadata": {},
     "output_type": "execute_result"
    }
   ],
   "source": [
    "metadata_df.columns"
   ]
  },
  {
   "cell_type": "code",
   "execution_count": null,
   "metadata": {},
   "outputs": [
    {
     "data": {
      "text/html": [
       "<div>\n",
       "<style scoped>\n",
       "    .dataframe tbody tr th:only-of-type {\n",
       "        vertical-align: middle;\n",
       "    }\n",
       "\n",
       "    .dataframe tbody tr th {\n",
       "        vertical-align: top;\n",
       "    }\n",
       "\n",
       "    .dataframe thead th {\n",
       "        text-align: right;\n",
       "    }\n",
       "</style>\n",
       "<table border=\"1\" class=\"dataframe\">\n",
       "  <thead>\n",
       "    <tr style=\"text-align: right;\">\n",
       "      <th></th>\n",
       "      <th>sha</th>\n",
       "      <th>source_x</th>\n",
       "      <th>title</th>\n",
       "      <th>doi</th>\n",
       "      <th>pmcid</th>\n",
       "      <th>pubmed_id</th>\n",
       "      <th>license</th>\n",
       "      <th>abstract</th>\n",
       "      <th>publish_time</th>\n",
       "      <th>authors</th>\n",
       "      <th>journal</th>\n",
       "      <th>Microsoft Academic Paper ID</th>\n",
       "      <th>WHO #Covidence</th>\n",
       "      <th>has_pdf_parse</th>\n",
       "      <th>has_pmc_xml_parse</th>\n",
       "      <th>full_text_file</th>\n",
       "      <th>url</th>\n",
       "    </tr>\n",
       "    <tr>\n",
       "      <th>cord_uid</th>\n",
       "      <th></th>\n",
       "      <th></th>\n",
       "      <th></th>\n",
       "      <th></th>\n",
       "      <th></th>\n",
       "      <th></th>\n",
       "      <th></th>\n",
       "      <th></th>\n",
       "      <th></th>\n",
       "      <th></th>\n",
       "      <th></th>\n",
       "      <th></th>\n",
       "      <th></th>\n",
       "      <th></th>\n",
       "      <th></th>\n",
       "      <th></th>\n",
       "      <th></th>\n",
       "    </tr>\n",
       "  </thead>\n",
       "  <tbody>\n",
       "    <tr>\n",
       "      <th>zjufx4fo</th>\n",
       "      <td>b2897e1277f56641193a6db73825f707eed3e4c9</td>\n",
       "      <td>PMC</td>\n",
       "      <td>Sequence requirements for RNA strand transfer ...</td>\n",
       "      <td>10.1093/emboj/20.24.7220</td>\n",
       "      <td>PMC125340</td>\n",
       "      <td>11742998.0</td>\n",
       "      <td>unk</td>\n",
       "      <td>Nidovirus subgenomic mRNAs contain a leader se...</td>\n",
       "      <td>2001-12-17</td>\n",
       "      <td>Pasternak, Alexander O.; van den Born, Erwin; ...</td>\n",
       "      <td>The EMBO Journal</td>\n",
       "      <td>NaN</td>\n",
       "      <td>NaN</td>\n",
       "      <td>True</td>\n",
       "      <td>True</td>\n",
       "      <td>custom_license</td>\n",
       "      <td>http://europepmc.org/articles/pmc125340?pdf=re...</td>\n",
       "    </tr>\n",
       "    <tr>\n",
       "      <th>ymceytj3</th>\n",
       "      <td>e3d0d482ebd9a8ba81c254cc433f314142e72174</td>\n",
       "      <td>PMC</td>\n",
       "      <td>Crystal structure of murine sCEACAM1a[1,4]: a ...</td>\n",
       "      <td>10.1093/emboj/21.9.2076</td>\n",
       "      <td>PMC125375</td>\n",
       "      <td>11980704.0</td>\n",
       "      <td>unk</td>\n",
       "      <td>CEACAM1 is a member of the carcinoembryonic an...</td>\n",
       "      <td>2002-05-01</td>\n",
       "      <td>Tan, Kemin; Zelus, Bruce D.; Meijers, Rob; Liu...</td>\n",
       "      <td>The EMBO Journal</td>\n",
       "      <td>NaN</td>\n",
       "      <td>NaN</td>\n",
       "      <td>True</td>\n",
       "      <td>True</td>\n",
       "      <td>custom_license</td>\n",
       "      <td>http://europepmc.org/articles/pmc125375?pdf=re...</td>\n",
       "    </tr>\n",
       "    <tr>\n",
       "      <th>wzj2glte</th>\n",
       "      <td>00b1d99e70f779eb4ede50059db469c65e8c1469</td>\n",
       "      <td>PMC</td>\n",
       "      <td>Synthesis of a novel hepatitis C virus protein...</td>\n",
       "      <td>10.1093/emboj/20.14.3840</td>\n",
       "      <td>PMC125543</td>\n",
       "      <td>11447125.0</td>\n",
       "      <td>no-cc</td>\n",
       "      <td>Hepatitis C virus (HCV) is an important human ...</td>\n",
       "      <td>2001-07-16</td>\n",
       "      <td>Xu, Zhenming; Choi, Jinah; Yen, T.S.Benedict; ...</td>\n",
       "      <td>EMBO J</td>\n",
       "      <td>NaN</td>\n",
       "      <td>NaN</td>\n",
       "      <td>True</td>\n",
       "      <td>True</td>\n",
       "      <td>custom_license</td>\n",
       "      <td>https://www.ncbi.nlm.nih.gov/pmc/articles/PMC1...</td>\n",
       "    </tr>\n",
       "  </tbody>\n",
       "</table>\n",
       "</div>"
      ],
      "text/plain": [
       "                                               sha source_x  \\\n",
       "cord_uid                                                      \n",
       "zjufx4fo  b2897e1277f56641193a6db73825f707eed3e4c9      PMC   \n",
       "ymceytj3  e3d0d482ebd9a8ba81c254cc433f314142e72174      PMC   \n",
       "wzj2glte  00b1d99e70f779eb4ede50059db469c65e8c1469      PMC   \n",
       "\n",
       "                                                      title  \\\n",
       "cord_uid                                                      \n",
       "zjufx4fo  Sequence requirements for RNA strand transfer ...   \n",
       "ymceytj3  Crystal structure of murine sCEACAM1a[1,4]: a ...   \n",
       "wzj2glte  Synthesis of a novel hepatitis C virus protein...   \n",
       "\n",
       "                               doi      pmcid   pubmed_id license  \\\n",
       "cord_uid                                                            \n",
       "zjufx4fo  10.1093/emboj/20.24.7220  PMC125340  11742998.0     unk   \n",
       "ymceytj3   10.1093/emboj/21.9.2076  PMC125375  11980704.0     unk   \n",
       "wzj2glte  10.1093/emboj/20.14.3840  PMC125543  11447125.0   no-cc   \n",
       "\n",
       "                                                   abstract publish_time  \\\n",
       "cord_uid                                                                   \n",
       "zjufx4fo  Nidovirus subgenomic mRNAs contain a leader se...   2001-12-17   \n",
       "ymceytj3  CEACAM1 is a member of the carcinoembryonic an...   2002-05-01   \n",
       "wzj2glte  Hepatitis C virus (HCV) is an important human ...   2001-07-16   \n",
       "\n",
       "                                                    authors           journal  \\\n",
       "cord_uid                                                                        \n",
       "zjufx4fo  Pasternak, Alexander O.; van den Born, Erwin; ...  The EMBO Journal   \n",
       "ymceytj3  Tan, Kemin; Zelus, Bruce D.; Meijers, Rob; Liu...  The EMBO Journal   \n",
       "wzj2glte  Xu, Zhenming; Choi, Jinah; Yen, T.S.Benedict; ...            EMBO J   \n",
       "\n",
       "          Microsoft Academic Paper ID WHO #Covidence  has_pdf_parse  \\\n",
       "cord_uid                                                              \n",
       "zjufx4fo                          NaN            NaN           True   \n",
       "ymceytj3                          NaN            NaN           True   \n",
       "wzj2glte                          NaN            NaN           True   \n",
       "\n",
       "          has_pmc_xml_parse  full_text_file  \\\n",
       "cord_uid                                      \n",
       "zjufx4fo               True  custom_license   \n",
       "ymceytj3               True  custom_license   \n",
       "wzj2glte               True  custom_license   \n",
       "\n",
       "                                                        url  \n",
       "cord_uid                                                     \n",
       "zjufx4fo  http://europepmc.org/articles/pmc125340?pdf=re...  \n",
       "ymceytj3  http://europepmc.org/articles/pmc125375?pdf=re...  \n",
       "wzj2glte  https://www.ncbi.nlm.nih.gov/pmc/articles/PMC1...  "
      ]
     },
     "execution_count": null,
     "metadata": {},
     "output_type": "execute_result"
    }
   ],
   "source": [
    "metadata_df.head(3)"
   ]
  },
  {
   "cell_type": "markdown",
   "metadata": {},
   "source": [
    "Each paper is represented by a unique id called `cord_uid`.\n",
    "\n",
    "Meaning of columns:\n",
    "\n",
    "- `sha`: PDF file hash\n",
    "- `source_x`: source repository, e.g. Biorxiv, Elsevier, etc.\n",
    "- `title`: paper title\n",
    "- `doi`, `pmcid`, `pubmed_id`, `Microsoft Academic Paper ID`, `WHO #Covidence`: other document ids\n",
    "- `license`: usage license\n",
    "- `abstract`:plain text abstract\n",
    "- `publish_time`: publish date\n",
    "- `journal`: academic journal of publication, if applicable\n",
    "- `authors`: authors in plain text\n",
    "- `has_pdf_parse`: if PDF parsing is available\n",
    "- `has_pmc_xml_parse`: if PubMed XML is available\n",
    "- `full_text_file`: pointer to the source file in the dataset\n",
    "- `url`: URL to paper online source"
   ]
  },
  {
   "cell_type": "markdown",
   "metadata": {},
   "source": [
    "A continuación se revisará la estructura de carpetas y archivos del conjunto de datos."
   ]
  },
  {
   "cell_type": "code",
   "execution_count": null,
   "metadata": {},
   "outputs": [],
   "source": [
    "def _sample_json_file(path):\n",
    "    for _, _, file_names in os.walk(path):\n",
    "        sample_file_name = random.choice(file_names)\n",
    "        file_path = os.path.join(path, sample_file_name)\n",
    "        with open(file_path) as file:\n",
    "            contents = json.load(file)\n",
    "        return list(contents.keys())"
   ]
  },
  {
   "cell_type": "code",
   "execution_count": null,
   "metadata": {},
   "outputs": [],
   "source": [
    "def walk_dataset():\n",
    "    cum_sum = 0\n",
    "    for root, folders, files in os.walk(cord19_dataset_folder):\n",
    "        num_folders = len(folders)\n",
    "        num_files = len(files)\n",
    "        if \"json\" in root and num_folders == 0 and num_files > 0:\n",
    "            cum_sum += num_files\n",
    "            print(f\"{root}: {num_files} files\")\n",
    "    return cum_sum"
   ]
  },
  {
   "cell_type": "code",
   "execution_count": null,
   "metadata": {},
   "outputs": [
    {
     "name": "stdout",
     "output_type": "stream",
     "text": [
      "./datasets/CORD-19-research-challenge/custom_license/custom_license/pmc_json: 10615 files\n",
      "./datasets/CORD-19-research-challenge/custom_license/custom_license/pdf_json: 31376 files\n",
      "./datasets/CORD-19-research-challenge/noncomm_use_subset/noncomm_use_subset/pmc_json: 2258 files\n",
      "./datasets/CORD-19-research-challenge/noncomm_use_subset/noncomm_use_subset/pdf_json: 2518 files\n",
      "./datasets/CORD-19-research-challenge/biorxiv_medrxiv/biorxiv_medrxiv/pdf_json: 2278 files\n",
      "./datasets/CORD-19-research-challenge/comm_use_subset/comm_use_subset/pmc_json: 9390 files\n",
      "./datasets/CORD-19-research-challenge/comm_use_subset/comm_use_subset/pdf_json: 9769 files\n"
     ]
    }
   ],
   "source": [
    "source_file_count = walk_dataset()"
   ]
  },
  {
   "cell_type": "code",
   "execution_count": null,
   "metadata": {},
   "outputs": [
    {
     "name": "stdout",
     "output_type": "stream",
     "text": [
      "Files in metadata: 57366, source files: 68204\n"
     ]
    }
   ],
   "source": [
    "print(f'Files in metadata: {file_in_metadata_count}, source files: {source_file_count}')"
   ]
  },
  {
   "cell_type": "code",
   "execution_count": null,
   "metadata": {},
   "outputs": [
    {
     "name": "stdout",
     "output_type": "stream",
     "text": [
      "We have 10838 files without metadata.\n"
     ]
    }
   ],
   "source": [
    "print(f'We have {source_file_count-file_in_metadata_count} files without metadata.')"
   ]
  },
  {
   "cell_type": "markdown",
   "metadata": {},
   "source": [
    "Se observan 59.311 archivos, lo que arroja una diferencia de 8.233 respecto a la cantidad de registros en el CSV de metadatos.\n",
    "Probablemente, existen registros en el CSV de metadatos que tienen más de un archivo.\n",
    "\n",
    "De acuerdo a la información encontrada en la comunidad de Kaggle, existen al menos dos procedimientos recomendados para cargar los datos.\n",
    "\n",
    "```python\n",
    "# Primer procedimiento\n",
    "for row in metadata_file:\n",
    "    pmc_id = row[\"pmc_id\"]\n",
    "    if exists pmc_id file in pmc_jsons subfolders:\n",
    "        return pmc_id file\n",
    "    # Si pmc_id es nulo o no existe archivo\n",
    "    sha = row[\"sha\"]\n",
    "    if exists sha file in pdf_jsons subfolders:\n",
    "        return sha file\n",
    "\n",
    "# Segundo procedimiento\n",
    "for pdf file in pdf files:\n",
    "    if pdf file sha not in metadata_file shas:\n",
    "        continue\n",
    "    else:\n",
    "        row = metadata_file row with matching pdf file sha\n",
    "        pmc_id = row[\"pmc_id\"]\n",
    "        if exists pmc_id file in pmc_jsons subfolders:\n",
    "            return pmc_id file\n",
    "        return pdf file\n",
    "```"
   ]
  },
  {
   "cell_type": "code",
   "execution_count": null,
   "metadata": {},
   "outputs": [],
   "source": [
    "# 1. Construir diccionarios de PMC files, JSON files\n",
    "# 2. Iterate metadata file\n",
    "\n",
    "def get_id_paths_dicts(cls):\n",
    "    \"\"\"\n",
    "    Esta función construye los diccionarios cuyas llaves son identificadores\n",
    "    de alguna clase de papers (PDF o PMC) y cuyos valores son los paths hacia\n",
    "    los archivos asociados.\n",
    "    \"\"\"\n",
    "    all_files = {}\n",
    "    for root, folders, files in os.walk(cord19_dataset_folder):\n",
    "        num_folders = len(folders)\n",
    "        num_files = len(files)\n",
    "        if cls in root and num_folders == 0 and num_files > 0:\n",
    "            for file_name in files:\n",
    "                _id = file_name.split(\".\")[0]\n",
    "                all_files[_id] = os.path.join(root, file_name)\n",
    "    return all_files"
   ]
  },
  {
   "cell_type": "code",
   "execution_count": null,
   "metadata": {},
   "outputs": [
    {
     "data": {
      "text/plain": [
       "(45941, 22263)"
      ]
     },
     "execution_count": null,
     "metadata": {},
     "output_type": "execute_result"
    }
   ],
   "source": [
    "pdf_dict = get_id_paths_dicts(\"pdf\")\n",
    "pmc_dict = get_id_paths_dicts(\"pmc\")\n",
    "len(pdf_dict), len(pmc_dict)"
   ]
  },
  {
   "cell_type": "markdown",
   "metadata": {},
   "source": [
    "Se observa la existencia de:\n",
    "\n",
    "- 40.144 archivos PDF con sus respectivos JSONs\n",
    "- 19.167 archivos PMC con sus respectivos JSONs\n",
    "\n",
    "En base a la información anterior, se seguirá el primer procedimiento para cargar los papers."
   ]
  },
  {
   "cell_type": "code",
   "execution_count": null,
   "metadata": {},
   "outputs": [],
   "source": [
    "class BasePaper:\n",
    "    def __init__(self, metadata_row, file_path):\n",
    "        self._metadata_row = metadata_row\n",
    "        self._file_path = file_path\n",
    "        self._file_contents = self._load_json_contents(file_path)\n",
    "        \n",
    "        self._referenced_by = []\n",
    "        self._references = []\n",
    "        \n",
    "    @staticmethod\n",
    "    def _load_json_contents(path):\n",
    "        with open(path) as file:\n",
    "            contents = json.load(file)\n",
    "        return contents\n",
    "\n",
    "    @property\n",
    "    def title(self):\n",
    "        return self._metadata_row[\"title\"]\n",
    "        \n",
    "    @property\n",
    "    def authors(self):\n",
    "        return self._metadata_row[\"authors\"]\n",
    "        \n",
    "    @property\n",
    "    def publish_time(self):\n",
    "        return self._metadata_row[\"publish_time\"]\n",
    "        \n",
    "    @property\n",
    "    def abstract(self):\n",
    "        return self._metadata_row[\"abstract\"]\n",
    "        \n",
    "    @property\n",
    "    def bib_entries(self):\n",
    "        return self._file_contents[\"bib_entries\"]\n",
    "    \n",
    "    def register_reference(self, reference):\n",
    "        self._references.append(reference)\n",
    "        reference.register_referenced(self)\n",
    "    \n",
    "    def register_referenced(self, referenced):\n",
    "        self._referenced_by.append(referenced)"
   ]
  },
  {
   "cell_type": "code",
   "execution_count": null,
   "metadata": {},
   "outputs": [],
   "source": [
    "class PDFPaper(BasePaper):\n",
    "    pass"
   ]
  },
  {
   "cell_type": "code",
   "execution_count": null,
   "metadata": {},
   "outputs": [],
   "source": [
    "class PMCPaper(BasePaper):\n",
    "    pass"
   ]
  },
  {
   "cell_type": "code",
   "execution_count": null,
   "metadata": {},
   "outputs": [
    {
     "ename": "TypeError",
     "evalue": "__init__() missing 1 required positional argument: 'gen'",
     "output_type": "error",
     "traceback": [
      "\u001b[0;31m---------------------------------------------------------------------------\u001b[0m",
      "\u001b[0;31mTypeError\u001b[0m                                 Traceback (most recent call last)",
      "\u001b[0;32m<ipython-input-19-13e29ad2fbd3>\u001b[0m in \u001b[0;36m<module>\u001b[0;34m\u001b[0m\n\u001b[0;32m----> 1\u001b[0;31m \u001b[0mprogress_bar\u001b[0m\u001b[0;34m(\u001b[0m\u001b[0;34m)\u001b[0m\u001b[0;34m\u001b[0m\u001b[0;34m\u001b[0m\u001b[0m\n\u001b[0m",
      "\u001b[0;31mTypeError\u001b[0m: __init__() missing 1 required positional argument: 'gen'"
     ]
    }
   ],
   "source": [
    "progress_bar()"
   ]
  },
  {
   "cell_type": "code",
   "execution_count": null,
   "metadata": {},
   "outputs": [],
   "source": [
    "def load_papers(metadata_df):\n",
    "    papers = []\n",
    "    not_found = []\n",
    "    for idx, row in progress_bar(metadata_df.iterrows(), total=len(metadata_df)):\n",
    "        pmc_id = row[\"pmcid\"]\n",
    "        shas = row[\"sha\"]\n",
    "        paper = None\n",
    "        \n",
    "        if pmc_id in pmc_dict:\n",
    "            pmc_path = pmc_dict[pmc_id]\n",
    "            paper = PMCPaper(row, pmc_path)\n",
    "            \n",
    "        if paper is None and pd.notna(shas):\n",
    "            shas_splitted = shas.split(\"; \")\n",
    "            for sha in shas_splitted:\n",
    "                if sha in pdf_dict:\n",
    "                    pdf_path = pdf_dict[sha]\n",
    "                    paper = PDFPaper(row, pdf_path)\n",
    "                    break\n",
    "        \n",
    "        if paper is None and (row[\"has_pdf_parse\"] or row[\"has_pmc_xml_parse\"]):\n",
    "            not_found.append(idx)\n",
    "        if paper is not None:\n",
    "            papers.append(paper)\n",
    "            \n",
    "    return papers, not_found"
   ]
  },
  {
   "cell_type": "code",
   "execution_count": null,
   "metadata": {},
   "outputs": [],
   "source": [
    "papers, not_found = load_papers(metadata_df)"
   ]
  },
  {
   "cell_type": "code",
   "execution_count": null,
   "metadata": {},
   "outputs": [],
   "source": [
    "print(f'{len(papers)} papers found, {len(not_found)} not found.')"
   ]
  },
  {
   "cell_type": "code",
   "execution_count": null,
   "metadata": {},
   "outputs": [],
   "source": []
  },
  {
   "cell_type": "code",
   "execution_count": null,
   "metadata": {},
   "outputs": [],
   "source": [
    "mask_1 = metadata_df[\"has_pdf_parse\"]\n",
    "mask_2 = metadata_df[\"has_pmc_xml_parse\"]\n",
    "print(f'There are {(mask_1 | mask_2).sum()} files with either parsed PDF or PMC XML.')"
   ]
  },
  {
   "cell_type": "markdown",
   "metadata": {},
   "source": [
    "Somos capaces de identificar los archivos JSONs de 38.882 registros del archivo de metadatos.\n",
    "Es consistente con que solo 38.882 registros del archivo de metadatos tiene parseado PDF o PMC."
   ]
  },
  {
   "cell_type": "code",
   "execution_count": null,
   "metadata": {},
   "outputs": [],
   "source": [
    "paper = papers\n",
    "print('Title:', paper.title)\n",
    "print('Authors:', paper.authors)\n",
    "print(paper.abstract)"
   ]
  },
  {
   "cell_type": "markdown",
   "metadata": {},
   "source": [
    "# Match entre referencias y títulos\n",
    "A continuación se realizará el match entre los títulos en lenguaje natural de las referencias de cada paper y los títulos de éstos.\n",
    "Para hacerlo, se construirá un diccionario cuyas llaves son títulos de papers y los valores son las instancias de los papers correspondientes.\n",
    "Luego, para verificar si las referencias existen en el conjunto de datos, se detecta la presencia de la llave en el diccionario."
   ]
  },
  {
   "cell_type": "code",
   "execution_count": null,
   "metadata": {},
   "outputs": [],
   "source": [
    "# A continuación se construye el diccionario que mapea títulos a papers\n",
    "paper_titles = {}\n",
    "for paper in papers:\n",
    "    try:\n",
    "        title = paper.title.lower()\n",
    "        paper_titles[title] = paper\n",
    "    except AttributeError as err:\n",
    "        print(err, title)\n",
    "        print(paper.authors, paper.abstract)"
   ]
  },
  {
   "cell_type": "markdown",
   "metadata": {},
   "source": [
    "Por algún motivo existen títulos codificados como *floats*.\n",
    "Será importante verificar si se debe a un error de programación o a un problema del conjunto de datos."
   ]
  },
  {
   "cell_type": "code",
   "execution_count": null,
   "metadata": {},
   "outputs": [],
   "source": [
    "num_processed_refs = 0\n",
    "num_succesfully_processed_refs = 0\n",
    "for paper in tqdm(papers):\n",
    "    for _, ref in paper.bib_entries.items():\n",
    "        ref_title = ref[\"title\"].lower()\n",
    "        if ref_title in paper_titles:\n",
    "            paper.register_reference(paper_titles[ref_title])\n",
    "            num_succesfully_processed_refs += 1\n",
    "    num_processed_refs += len(paper.bib_entries)\n",
    "num_processed_refs, num_succesfully_processed_refs"
   ]
  },
  {
   "cell_type": "code",
   "execution_count": null,
   "metadata": {},
   "outputs": [],
   "source": [
    "num_processed_refs, num_succesfully_processed_refs"
   ]
  },
  {
   "cell_type": "markdown",
   "metadata": {},
   "source": [
    "Se observa que aproximadamente un 6,26% de las referencias se encuentran dentro del conjunto de datos.\n",
    "Un 93,74% de los papers referenciados no se encuentran en el conjunto de datos.\n",
    "Una estrategia para mitigar esto es crear nodos especiales para los papers fuera del conjunto, de esa forma se preserva mejor la estructura del grafo.\n",
    "\n",
    "Por otra parte, se deben responder otras preguntas:\n",
    "\n",
    "- Cuántos papers son referenciados al menos una vez en el conjunto de datos?\n",
    "- Cuáles son los papers más referenciados del conjunto de datos? Long tail?\n",
    "- Cuáles son los papers más referenciados fuera del conjunto de datos? Long tail?"
   ]
  },
  {
   "cell_type": "code",
   "execution_count": null,
   "metadata": {},
   "outputs": [],
   "source": [
    "num_papers = len(papers)\n",
    "num_references = 0\n",
    "num_referenced_by = 0\n",
    "for paper in papers:\n",
    "    if len(paper._references) > 0:\n",
    "        num_references += 1\n",
    "    if len(paper._referenced_by) > 0:\n",
    "        num_referenced_by += 1\n",
    "num_papers, num_references, num_referenced_by"
   ]
  },
  {
   "cell_type": "markdown",
   "metadata": {},
   "source": [
    "Se observa que de los 38.882 papers procesados, al menos 25.321 (65,12%) tienen más de una referencia correctamente enlazada, y al menos 17.824 (45,84%) son referenciados al menos una vez."
   ]
  },
  {
   "cell_type": "code",
   "execution_count": null,
   "metadata": {},
   "outputs": [],
   "source": [
    "papers_sorted = sorted(papers, key=lambda p: len(p._referenced_by), reverse=True)"
   ]
  },
  {
   "cell_type": "code",
   "execution_count": null,
   "metadata": {},
   "outputs": [],
   "source": [
    "def display_paper(paper):\n",
    "    if isinstance(paper, list):\n",
    "        for elem in paper:\n",
    "            display_paper(elem)\n",
    "            print(\"\\n\", end=\"\")\n",
    "    else:\n",
    "        print(f\"\"\"Title: {paper.title}\n",
    "Authors: {paper.authors}\n",
    "Publish time: {paper.publish_time}\n",
    "Linked references: {len(paper._references)}\n",
    "Linked referenced by: {len(paper._referenced_by)}\n",
    "Abstract: {paper.abstract}\"\"\")"
   ]
  },
  {
   "cell_type": "code",
   "execution_count": null,
   "metadata": {},
   "outputs": [],
   "source": [
    "# Paper más citado dentro del conjunto de datos\n",
    "display_paper(papers_sorted[0])"
   ]
  },
  {
   "cell_type": "code",
   "execution_count": null,
   "metadata": {},
   "outputs": [],
   "source": [
    "display_paper(papers_sorted[0]._references)"
   ]
  },
  {
   "cell_type": "markdown",
   "metadata": {},
   "source": [
    "Se observa como el conjunto de datos incluye papers antiguo, de años anteriores a la pandemia actual.\n",
    "A continuación se observará la distribución del número de referencias."
   ]
  },
  {
   "cell_type": "code",
   "execution_count": null,
   "metadata": {},
   "outputs": [],
   "source": [
    "import matplotlib.pyplot as plt\n",
    "import seaborn as sns\n",
    "sns.set()"
   ]
  },
  {
   "cell_type": "code",
   "execution_count": null,
   "metadata": {},
   "outputs": [],
   "source": [
    "num_references = sorted([len(paper._references) for paper in papers], reverse=True)\n",
    "num_referenced_by = sorted([len(paper._referenced_by) for paper in papers], reverse=True)\n",
    "fig = plt.figure(figsize=(16, 8))\n",
    "ax = sns.lineplot(y=num_references, x=range(len(papers)))\n",
    "ax.set(title=\"Referencias de papers correctamente enlazadas\", yscale=\"log\")\n",
    "pass"
   ]
  },
  {
   "cell_type": "code",
   "execution_count": null,
   "metadata": {},
   "outputs": [],
   "source": [
    "fig = plt.figure(figsize=(16, 8))\n",
    "ax = sns.lineplot(y=num_referenced_by, x=range(len(papers)))\n",
    "ax.set(title=\"Referencias a papers correctamente enlazadas\", yscale=\"log\")\n",
    "pass"
   ]
  },
  {
   "cell_type": "markdown",
   "metadata": {},
   "source": [
    "Al igual que distintos aspectos de la vida real, se ve como la cantidad de referencias correctamente enlazadas de papers siguen una distribución con cola pesada.\n",
    "\n",
    "# PageRank\n",
    "\n",
    "A continuación se realizará el cómputo de los puntajes de PageRank de cada paper."
   ]
  },
  {
   "cell_type": "code",
   "execution_count": null,
   "metadata": {},
   "outputs": [],
   "source": [
    "# Ref.: https://networkx.github.io/documentation/stable/index.html\n",
    "!pip install networkx"
   ]
  },
  {
   "cell_type": "code",
   "execution_count": null,
   "metadata": {},
   "outputs": [],
   "source": [
    "import networkx as nx\n",
    "\n",
    "def build_graph(papers):\n",
    "    G = nx.DiGraph()\n",
    "\n",
    "    # First add the nodes\n",
    "    for paper in papers:\n",
    "        G.add_node(paper)\n",
    "    \n",
    "    # Then, add the links\n",
    "    for paper in papers:\n",
    "        for referenced_paper in paper._references:\n",
    "            G.add_edge(paper, referenced_paper)\n",
    "    \n",
    "    return G"
   ]
  },
  {
   "cell_type": "code",
   "execution_count": null,
   "metadata": {},
   "outputs": [],
   "source": [
    "G = build_graph(papers)\n",
    "G"
   ]
  },
  {
   "cell_type": "code",
   "execution_count": null,
   "metadata": {},
   "outputs": [],
   "source": [
    "G.number_of_nodes(), G.number_of_edges()"
   ]
  },
  {
   "cell_type": "code",
   "execution_count": null,
   "metadata": {},
   "outputs": [],
   "source": [
    "pr = nx.pagerank(G)\n",
    "pr"
   ]
  },
  {
   "cell_type": "code",
   "execution_count": null,
   "metadata": {},
   "outputs": [],
   "source": [
    "sorted_pr = {k: v for k, v in sorted(pr.items(), key=lambda item: item[1], reverse=True)}\n",
    "sorted_pr"
   ]
  },
  {
   "cell_type": "code",
   "execution_count": null,
   "metadata": {},
   "outputs": [],
   "source": [
    "display_paper(list(sorted_pr.keys())[10:20])"
   ]
  },
  {
   "cell_type": "markdown",
   "metadata": {},
   "source": [
    "Aquí se puede observar que los papers con mayor PageRank son muy citados y en general son trabajos de décadas pasadas que probablemente constituyen la base de la investigación actual contra el COVID-19.\n",
    "\n",
    "A continuación se mostrará la distribución de los puntajes de PageRank."
   ]
  },
  {
   "cell_type": "code",
   "execution_count": null,
   "metadata": {},
   "outputs": [],
   "source": [
    "import numpy as np\n",
    "\n",
    "pr_values = np.array(list(sorted_pr.values()))\n",
    "\n",
    "# Remover outliers\n",
    "pr_mean = np.mean(pr_values)\n",
    "pr_std = np.std(pr_values)\n",
    "pr_distance = abs(pr_values - pr_mean)\n",
    "max_std = 1.5\n",
    "pr_not_outlier = pr_distance < max_std * pr_std\n",
    "pr_no_outliers = pr_values[pr_not_outlier]\n",
    "\n",
    "len(pr_values), len(pr_no_outliers), len(pr_values) - len(pr_no_outliers)"
   ]
  },
  {
   "cell_type": "code",
   "execution_count": null,
   "metadata": {},
   "outputs": [],
   "source": [
    "fig = plt.figure(figsize=(16, 8))\n",
    "ax = sns.distplot(pr_values, kde=False, rug=True)\n",
    "ax.set(title=\"Distribución del PageRank de papers de CORD-19 (con outliers)\", yscale=\"log\")\n",
    "pass"
   ]
  },
  {
   "cell_type": "code",
   "execution_count": null,
   "metadata": {},
   "outputs": [],
   "source": [
    "fig = plt.figure(figsize=(16, 8))\n",
    "ax = sns.distplot(pr_no_outliers, kde=False, rug=True)\n",
    "ax.set(title=\"Distribución del PageRank de papers de CORD-19 (sin outliers)\", yscale=\"log\")\n",
    "pass"
   ]
  },
  {
   "cell_type": "code",
   "execution_count": null,
   "metadata": {},
   "outputs": [],
   "source": []
  }
 ],
 "metadata": {
  "kernelspec": {
   "display_name": "Python 3",
   "language": "python",
   "name": "python3"
  }
 },
 "nbformat": 4,
 "nbformat_minor": 4
}
