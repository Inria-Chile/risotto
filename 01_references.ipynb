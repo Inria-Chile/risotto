{
 "cells": [
  {
   "cell_type": "code",
   "execution_count": 59,
   "metadata": {},
   "outputs": [
    {
     "name": "stdout",
     "output_type": "stream",
     "text": [
      "Requirement already satisfied: pandas in ./venv/lib/python3.7/site-packages (1.0.3)\n",
      "Requirement already satisfied: tqdm in ./venv/lib/python3.7/site-packages (4.45.0)\n",
      "Requirement already satisfied: numpy>=1.13.3 in ./venv/lib/python3.7/site-packages (from pandas) (1.18.2)\n",
      "Requirement already satisfied: pytz>=2017.2 in ./venv/lib/python3.7/site-packages (from pandas) (2019.3)\n",
      "Requirement already satisfied: python-dateutil>=2.6.1 in ./venv/lib/python3.7/site-packages (from pandas) (2.8.1)\n",
      "Requirement already satisfied: six>=1.5 in ./venv/lib/python3.7/site-packages (from python-dateutil>=2.6.1->pandas) (1.14.0)\n",
      "\u001b[33mYou are using pip version 19.0.3, however version 20.0.2 is available.\n",
      "You should consider upgrading via the 'pip install --upgrade pip' command.\u001b[0m\n",
      "Requirement already satisfied: matplotlib in ./venv/lib/python3.7/site-packages (3.2.1)\n",
      "Requirement already satisfied: seaborn in ./venv/lib/python3.7/site-packages (0.10.0)\n",
      "Requirement already satisfied: kiwisolver>=1.0.1 in ./venv/lib/python3.7/site-packages (from matplotlib) (1.2.0)\n",
      "Requirement already satisfied: python-dateutil>=2.1 in ./venv/lib/python3.7/site-packages (from matplotlib) (2.8.1)\n",
      "Requirement already satisfied: cycler>=0.10 in ./venv/lib/python3.7/site-packages (from matplotlib) (0.10.0)\n",
      "Requirement already satisfied: pyparsing!=2.0.4,!=2.1.2,!=2.1.6,>=2.0.1 in ./venv/lib/python3.7/site-packages (from matplotlib) (2.4.7)\n",
      "Requirement already satisfied: numpy>=1.11 in ./venv/lib/python3.7/site-packages (from matplotlib) (1.18.2)\n",
      "Requirement already satisfied: pandas>=0.22.0 in ./venv/lib/python3.7/site-packages (from seaborn) (1.0.3)\n",
      "Requirement already satisfied: scipy>=1.0.1 in ./venv/lib/python3.7/site-packages (from seaborn) (1.4.1)\n",
      "Requirement already satisfied: six>=1.5 in ./venv/lib/python3.7/site-packages (from python-dateutil>=2.1->matplotlib) (1.14.0)\n",
      "Requirement already satisfied: pytz>=2017.2 in ./venv/lib/python3.7/site-packages (from pandas>=0.22.0->seaborn) (2019.3)\n",
      "\u001b[33mYou are using pip version 19.0.3, however version 20.0.2 is available.\n",
      "You should consider upgrading via the 'pip install --upgrade pip' command.\u001b[0m\n"
     ]
    }
   ],
   "source": [
    "!pip install pandas tqdm\n",
    "!pip install matplotlib seaborn"
   ]
  },
  {
   "cell_type": "markdown",
   "metadata": {},
   "source": [
    "# CORD-19 References\n",
    "\n",
    "Este notebook explora la calidad de las referencias contenidas en el COVID-19 Open Research Dataset Challenge.\n",
    "Las respuestas que se intentan responder son:\n",
    "\n",
    "- Cuántos papers tiene el dataset?\n",
    "- Cuántos papers del dataset tienen referencia?\n",
    "- Cuántas referencias hace cada paper?\n",
    "- Cuántas referencias que se hacen están dentro del conjunto de datos? Cuántas referencias que se hacen están fuera?"
   ]
  },
  {
   "cell_type": "code",
   "execution_count": 2,
   "metadata": {},
   "outputs": [
    {
     "data": {
      "text/html": [
       "<div>\n",
       "<style scoped>\n",
       "    .dataframe tbody tr th:only-of-type {\n",
       "        vertical-align: middle;\n",
       "    }\n",
       "\n",
       "    .dataframe tbody tr th {\n",
       "        vertical-align: top;\n",
       "    }\n",
       "\n",
       "    .dataframe thead th {\n",
       "        text-align: right;\n",
       "    }\n",
       "</style>\n",
       "<table border=\"1\" class=\"dataframe\">\n",
       "  <thead>\n",
       "    <tr style=\"text-align: right;\">\n",
       "      <th></th>\n",
       "      <th>sha</th>\n",
       "      <th>source_x</th>\n",
       "      <th>title</th>\n",
       "      <th>doi</th>\n",
       "      <th>pmcid</th>\n",
       "      <th>pubmed_id</th>\n",
       "      <th>license</th>\n",
       "      <th>abstract</th>\n",
       "      <th>publish_time</th>\n",
       "      <th>authors</th>\n",
       "      <th>journal</th>\n",
       "      <th>Microsoft Academic Paper ID</th>\n",
       "      <th>WHO #Covidence</th>\n",
       "      <th>has_pdf_parse</th>\n",
       "      <th>has_pmc_xml_parse</th>\n",
       "      <th>full_text_file</th>\n",
       "      <th>url</th>\n",
       "    </tr>\n",
       "    <tr>\n",
       "      <th>cord_uid</th>\n",
       "      <th></th>\n",
       "      <th></th>\n",
       "      <th></th>\n",
       "      <th></th>\n",
       "      <th></th>\n",
       "      <th></th>\n",
       "      <th></th>\n",
       "      <th></th>\n",
       "      <th></th>\n",
       "      <th></th>\n",
       "      <th></th>\n",
       "      <th></th>\n",
       "      <th></th>\n",
       "      <th></th>\n",
       "      <th></th>\n",
       "      <th></th>\n",
       "      <th></th>\n",
       "    </tr>\n",
       "  </thead>\n",
       "  <tbody>\n",
       "    <tr>\n",
       "      <th>xqhn0vbp</th>\n",
       "      <td>1e1286db212100993d03cc22374b624f7caee956</td>\n",
       "      <td>PMC</td>\n",
       "      <td>Airborne rhinovirus detection and effect of ul...</td>\n",
       "      <td>10.1186/1471-2458-3-5</td>\n",
       "      <td>PMC140314</td>\n",
       "      <td>12525263.0</td>\n",
       "      <td>no-cc</td>\n",
       "      <td>BACKGROUND: Rhinovirus, the most common cause ...</td>\n",
       "      <td>2003-01-13</td>\n",
       "      <td>Myatt, Theodore A; Johnston, Sebastian L; Rudn...</td>\n",
       "      <td>BMC Public Health</td>\n",
       "      <td>NaN</td>\n",
       "      <td>NaN</td>\n",
       "      <td>True</td>\n",
       "      <td>True</td>\n",
       "      <td>custom_license</td>\n",
       "      <td>https://www.ncbi.nlm.nih.gov/pmc/articles/PMC1...</td>\n",
       "    </tr>\n",
       "    <tr>\n",
       "      <th>gi6uaa83</th>\n",
       "      <td>8ae137c8da1607b3a8e4c946c07ca8bda67f88ac</td>\n",
       "      <td>PMC</td>\n",
       "      <td>Discovering human history from stomach bacteria</td>\n",
       "      <td>10.1186/gb-2003-4-5-213</td>\n",
       "      <td>PMC156578</td>\n",
       "      <td>12734001.0</td>\n",
       "      <td>no-cc</td>\n",
       "      <td>Recent analyses of human pathogens have reveal...</td>\n",
       "      <td>2003-04-28</td>\n",
       "      <td>Disotell, Todd R</td>\n",
       "      <td>Genome Biol</td>\n",
       "      <td>NaN</td>\n",
       "      <td>NaN</td>\n",
       "      <td>True</td>\n",
       "      <td>True</td>\n",
       "      <td>custom_license</td>\n",
       "      <td>https://www.ncbi.nlm.nih.gov/pmc/articles/PMC1...</td>\n",
       "    </tr>\n",
       "    <tr>\n",
       "      <th>le0ogx1s</th>\n",
       "      <td>NaN</td>\n",
       "      <td>PMC</td>\n",
       "      <td>A new recruit for the army of the men of death</td>\n",
       "      <td>10.1186/gb-2003-4-7-113</td>\n",
       "      <td>PMC193621</td>\n",
       "      <td>12844350.0</td>\n",
       "      <td>no-cc</td>\n",
       "      <td>The army of the men of death, in John Bunyan's...</td>\n",
       "      <td>2003-06-27</td>\n",
       "      <td>Petsko, Gregory A</td>\n",
       "      <td>Genome Biol</td>\n",
       "      <td>NaN</td>\n",
       "      <td>NaN</td>\n",
       "      <td>False</td>\n",
       "      <td>True</td>\n",
       "      <td>custom_license</td>\n",
       "      <td>https://www.ncbi.nlm.nih.gov/pmc/articles/PMC1...</td>\n",
       "    </tr>\n",
       "    <tr>\n",
       "      <th>fy4w7xz8</th>\n",
       "      <td>0104f6ceccf92ae8567a0102f89cbb976969a774</td>\n",
       "      <td>PMC</td>\n",
       "      <td>Association of HLA class I with severe acute r...</td>\n",
       "      <td>10.1186/1471-2350-4-9</td>\n",
       "      <td>PMC212558</td>\n",
       "      <td>12969506.0</td>\n",
       "      <td>no-cc</td>\n",
       "      <td>BACKGROUND: The human leukocyte antigen (HLA) ...</td>\n",
       "      <td>2003-09-12</td>\n",
       "      <td>Lin, Marie; Tseng, Hsiang-Kuang; Trejaut, Jean...</td>\n",
       "      <td>BMC Med Genet</td>\n",
       "      <td>NaN</td>\n",
       "      <td>NaN</td>\n",
       "      <td>True</td>\n",
       "      <td>True</td>\n",
       "      <td>custom_license</td>\n",
       "      <td>https://www.ncbi.nlm.nih.gov/pmc/articles/PMC2...</td>\n",
       "    </tr>\n",
       "    <tr>\n",
       "      <th>0qaoam29</th>\n",
       "      <td>5b68a553a7cbbea13472721cd1ad617d42b40c26</td>\n",
       "      <td>PMC</td>\n",
       "      <td>A double epidemic model for the SARS propagation</td>\n",
       "      <td>10.1186/1471-2334-3-19</td>\n",
       "      <td>PMC222908</td>\n",
       "      <td>12964944.0</td>\n",
       "      <td>no-cc</td>\n",
       "      <td>BACKGROUND: An epidemic of a Severe Acute Resp...</td>\n",
       "      <td>2003-09-10</td>\n",
       "      <td>Ng, Tuen Wai; Turinici, Gabriel; Danchin, Antoine</td>\n",
       "      <td>BMC Infect Dis</td>\n",
       "      <td>NaN</td>\n",
       "      <td>NaN</td>\n",
       "      <td>True</td>\n",
       "      <td>True</td>\n",
       "      <td>custom_license</td>\n",
       "      <td>https://www.ncbi.nlm.nih.gov/pmc/articles/PMC2...</td>\n",
       "    </tr>\n",
       "  </tbody>\n",
       "</table>\n",
       "</div>"
      ],
      "text/plain": [
       "                                               sha source_x  \\\n",
       "cord_uid                                                      \n",
       "xqhn0vbp  1e1286db212100993d03cc22374b624f7caee956      PMC   \n",
       "gi6uaa83  8ae137c8da1607b3a8e4c946c07ca8bda67f88ac      PMC   \n",
       "le0ogx1s                                       NaN      PMC   \n",
       "fy4w7xz8  0104f6ceccf92ae8567a0102f89cbb976969a774      PMC   \n",
       "0qaoam29  5b68a553a7cbbea13472721cd1ad617d42b40c26      PMC   \n",
       "\n",
       "                                                      title  \\\n",
       "cord_uid                                                      \n",
       "xqhn0vbp  Airborne rhinovirus detection and effect of ul...   \n",
       "gi6uaa83    Discovering human history from stomach bacteria   \n",
       "le0ogx1s     A new recruit for the army of the men of death   \n",
       "fy4w7xz8  Association of HLA class I with severe acute r...   \n",
       "0qaoam29   A double epidemic model for the SARS propagation   \n",
       "\n",
       "                              doi      pmcid   pubmed_id license  \\\n",
       "cord_uid                                                           \n",
       "xqhn0vbp    10.1186/1471-2458-3-5  PMC140314  12525263.0   no-cc   \n",
       "gi6uaa83  10.1186/gb-2003-4-5-213  PMC156578  12734001.0   no-cc   \n",
       "le0ogx1s  10.1186/gb-2003-4-7-113  PMC193621  12844350.0   no-cc   \n",
       "fy4w7xz8    10.1186/1471-2350-4-9  PMC212558  12969506.0   no-cc   \n",
       "0qaoam29   10.1186/1471-2334-3-19  PMC222908  12964944.0   no-cc   \n",
       "\n",
       "                                                   abstract publish_time  \\\n",
       "cord_uid                                                                   \n",
       "xqhn0vbp  BACKGROUND: Rhinovirus, the most common cause ...   2003-01-13   \n",
       "gi6uaa83  Recent analyses of human pathogens have reveal...   2003-04-28   \n",
       "le0ogx1s  The army of the men of death, in John Bunyan's...   2003-06-27   \n",
       "fy4w7xz8  BACKGROUND: The human leukocyte antigen (HLA) ...   2003-09-12   \n",
       "0qaoam29  BACKGROUND: An epidemic of a Severe Acute Resp...   2003-09-10   \n",
       "\n",
       "                                                    authors  \\\n",
       "cord_uid                                                      \n",
       "xqhn0vbp  Myatt, Theodore A; Johnston, Sebastian L; Rudn...   \n",
       "gi6uaa83                                   Disotell, Todd R   \n",
       "le0ogx1s                                  Petsko, Gregory A   \n",
       "fy4w7xz8  Lin, Marie; Tseng, Hsiang-Kuang; Trejaut, Jean...   \n",
       "0qaoam29  Ng, Tuen Wai; Turinici, Gabriel; Danchin, Antoine   \n",
       "\n",
       "                    journal  Microsoft Academic Paper ID WHO #Covidence  \\\n",
       "cord_uid                                                                  \n",
       "xqhn0vbp  BMC Public Health                          NaN            NaN   \n",
       "gi6uaa83        Genome Biol                          NaN            NaN   \n",
       "le0ogx1s        Genome Biol                          NaN            NaN   \n",
       "fy4w7xz8      BMC Med Genet                          NaN            NaN   \n",
       "0qaoam29     BMC Infect Dis                          NaN            NaN   \n",
       "\n",
       "          has_pdf_parse  has_pmc_xml_parse  full_text_file  \\\n",
       "cord_uid                                                     \n",
       "xqhn0vbp           True               True  custom_license   \n",
       "gi6uaa83           True               True  custom_license   \n",
       "le0ogx1s          False               True  custom_license   \n",
       "fy4w7xz8           True               True  custom_license   \n",
       "0qaoam29           True               True  custom_license   \n",
       "\n",
       "                                                        url  \n",
       "cord_uid                                                     \n",
       "xqhn0vbp  https://www.ncbi.nlm.nih.gov/pmc/articles/PMC1...  \n",
       "gi6uaa83  https://www.ncbi.nlm.nih.gov/pmc/articles/PMC1...  \n",
       "le0ogx1s  https://www.ncbi.nlm.nih.gov/pmc/articles/PMC1...  \n",
       "fy4w7xz8  https://www.ncbi.nlm.nih.gov/pmc/articles/PMC2...  \n",
       "0qaoam29  https://www.ncbi.nlm.nih.gov/pmc/articles/PMC2...  "
      ]
     },
     "execution_count": 2,
     "metadata": {},
     "output_type": "execute_result"
    }
   ],
   "source": [
    "# En primer lugar, se cargará el conjunto de datos.\n",
    "# Se debe extraer el conjunto de datos en una carpeta `datasets`.\n",
    "\n",
    "import pandas as pd\n",
    "\n",
    "\n",
    "DATASET_FOLDER_PATH = \"./datasets/CORD-19-research-challenge\"\n",
    "metadata_df = pd.read_csv(f\"{DATASET_FOLDER_PATH}/metadata.csv\", index_col=\"cord_uid\")\n",
    "metadata_df.head()"
   ]
  },
  {
   "cell_type": "code",
   "execution_count": 3,
   "metadata": {},
   "outputs": [
    {
     "data": {
      "text/plain": [
       "(Index(['sha', 'source_x', 'title', 'doi', 'pmcid', 'pubmed_id', 'license',\n",
       "        'abstract', 'publish_time', 'authors', 'journal',\n",
       "        'Microsoft Academic Paper ID', 'WHO #Covidence', 'has_pdf_parse',\n",
       "        'has_pmc_xml_parse', 'full_text_file', 'url'],\n",
       "       dtype='object'),\n",
       " 51078)"
      ]
     },
     "execution_count": 3,
     "metadata": {},
     "output_type": "execute_result"
    }
   ],
   "source": [
    "# Veamos la cantidad de registros y columnas del archivo de metadatos\n",
    "metadata_df.columns, len(metadata_df)"
   ]
  },
  {
   "cell_type": "markdown",
   "metadata": {},
   "source": [
    "**Se observan 51.078 registros**, cada uno representando un paper\n",
    "Además del identificador único `cord_uid`, se observan las siguientes columnas:\n",
    "\n",
    "- `sha`: hash del PDF\n",
    "- `source_x`: repositorio fuente, e.g. biorxiv, Elsevier, etc.\n",
    "- `title`: título del paper\n",
    "- `doi`, `pmcid`, `pubmed_id`, `Microsoft Academic Paper ID`, `WHO #Covidence`: identificadores asociados al paper\n",
    "- `license`: licencia de uso\n",
    "- `abstract`: resumen en lenguaje natural\n",
    "- `publish_time`: fecha de publicación\n",
    "- `journal`: en el caso de haber sido publicado en uno, el nombre del journal\n",
    "- `authors`: autores en lenguaje natural\n",
    "- `has_pdf_parse`: si el paper tiene parseado su PDF o no\n",
    "- `has_pmc_xml_parse`: si el XML de PubMed del paper está parseado o no\n",
    "- `full_text_file`\n",
    "- `url`: enlace al paper\n",
    "\n",
    "A continuación se revisará la estructura de carpetas y archivos del conjunto de datos."
   ]
  },
  {
   "cell_type": "code",
   "execution_count": 4,
   "metadata": {},
   "outputs": [
    {
     "name": "stdout",
     "output_type": "stream",
     "text": [
      "./datasets/CORD-19-research-challenge/biorxiv_medrxiv/biorxiv_medrxiv/pdf_json: 1625 files\n",
      "./datasets/CORD-19-research-challenge/noncomm_use_subset/noncomm_use_subset/pdf_json: 2490 files\n",
      "./datasets/CORD-19-research-challenge/noncomm_use_subset/noncomm_use_subset/pmc_json: 2217 files\n",
      "./datasets/CORD-19-research-challenge/custom_license/custom_license/pdf_json: 26505 files\n",
      "./datasets/CORD-19-research-challenge/custom_license/custom_license/pmc_json: 7802 files\n",
      "./datasets/CORD-19-research-challenge/comm_use_subset/comm_use_subset/pdf_json: 9524 files\n",
      "./datasets/CORD-19-research-challenge/comm_use_subset/comm_use_subset/pmc_json: 9148 files\n"
     ]
    },
    {
     "data": {
      "text/plain": [
       "59311"
      ]
     },
     "execution_count": 4,
     "metadata": {},
     "output_type": "execute_result"
    }
   ],
   "source": [
    "import json\n",
    "import random\n",
    "import os\n",
    "\n",
    "def _sample_json_file(path):\n",
    "    for _, _, file_names in os.walk(path):\n",
    "        sample_file_name = random.choice(file_names)\n",
    "        file_path = os.path.join(path, sample_file_name)\n",
    "        with open(file_path) as file:\n",
    "            contents = json.load(file)\n",
    "        return list(contents.keys())\n",
    "\n",
    "def walk_dataset():\n",
    "    cum_sum = 0\n",
    "    for root, folders, files in os.walk(DATASET_FOLDER_PATH):\n",
    "        num_folders = len(folders)\n",
    "        num_files = len(files)\n",
    "        if \"json\" in root and num_folders == 0 and num_files > 0:\n",
    "            cum_sum += num_files\n",
    "            print(f\"{root}: {num_files} files\")\n",
    "    return cum_sum\n",
    "\n",
    "walk_dataset()"
   ]
  },
  {
   "cell_type": "markdown",
   "metadata": {},
   "source": [
    "Se observan 59.311 archivos, lo que arroja una diferencia de 8.233 respecto a la cantidad de registros en el CSV de metadatos.\n",
    "Probablemente, existen registros en el CSV de metadatos que tienen más de un archivo.\n",
    "\n",
    "De acuerdo a la información encontrada en la comunidad de Kaggle, existen al menos dos procedimientos recomendados para cargar los datos.\n",
    "\n",
    "```python\n",
    "# Primer procedimiento\n",
    "for row in metadata_file:\n",
    "    pmc_id = row[\"pmc_id\"]\n",
    "    if exists pmc_id file in pmc_jsons subfolders:\n",
    "        return pmc_id file\n",
    "    # Si pmc_id es nulo o no existe archivo\n",
    "    sha = row[\"sha\"]\n",
    "    if exists sha file in pdf_jsons subfolders:\n",
    "        return sha file\n",
    "\n",
    "# Segundo procedimiento\n",
    "for pdf file in pdf files:\n",
    "    if pdf file sha not in metadata_file shas:\n",
    "        continue\n",
    "    else:\n",
    "        row = metadata_file row with matching pdf file sha\n",
    "        pmc_id = row[\"pmc_id\"]\n",
    "        if exists pmc_id file in pmc_jsons subfolders:\n",
    "            return pmc_id file\n",
    "        return pdf file\n",
    "```"
   ]
  },
  {
   "cell_type": "code",
   "execution_count": 5,
   "metadata": {},
   "outputs": [],
   "source": [
    "# 1. Construir diccionarios de PMC files, JSON files\n",
    "# 2. Iterate metadata file\n",
    "\n",
    "def get_id_paths_dicts(cls):\n",
    "    \"\"\"\n",
    "    Esta función construye los diccionarios cuyas llaves son identificadores\n",
    "    de alguna clase de papers (PDF o PMC) y cuyos valores son los paths hacia\n",
    "    los archivos asociados.\n",
    "    \"\"\"\n",
    "    all_files = {}\n",
    "    for root, folders, files in os.walk(DATASET_FOLDER_PATH):\n",
    "        num_folders = len(folders)\n",
    "        num_files = len(files)\n",
    "        if cls in root and num_folders == 0 and num_files > 0:\n",
    "            for file_name in files:\n",
    "                _id = file_name.split(\".\")[0]\n",
    "                all_files[_id] = os.path.join(root, file_name)\n",
    "    return all_files"
   ]
  },
  {
   "cell_type": "code",
   "execution_count": 6,
   "metadata": {},
   "outputs": [
    {
     "data": {
      "text/plain": [
       "(40144, 19167)"
      ]
     },
     "execution_count": 6,
     "metadata": {},
     "output_type": "execute_result"
    }
   ],
   "source": [
    "pdf_dict = get_id_paths_dicts(\"pdf\")\n",
    "pmc_dict = get_id_paths_dicts(\"pmc\")\n",
    "len(pdf_dict), len(pmc_dict)"
   ]
  },
  {
   "cell_type": "markdown",
   "metadata": {},
   "source": [
    "Se observa la existencia de:\n",
    "\n",
    "- 40.144 archivos PDF con sus respectivos JSONs\n",
    "- 19.167 archivos PMC con sus respectivos JSONs\n",
    "\n",
    "En base a la información anterior, se seguirá el primer procedimiento para cargar los papers."
   ]
  },
  {
   "cell_type": "code",
   "execution_count": 7,
   "metadata": {},
   "outputs": [
    {
     "data": {
      "application/vnd.jupyter.widget-view+json": {
       "model_id": "100a2eccff714920af918575552eed80",
       "version_major": 2,
       "version_minor": 0
      },
      "text/plain": [
       "HBox(children=(FloatProgress(value=1.0, bar_style='info', max=1.0), HTML(value='')))"
      ]
     },
     "metadata": {},
     "output_type": "display_data"
    },
    {
     "name": "stdout",
     "output_type": "stream",
     "text": [
      "\n"
     ]
    },
    {
     "data": {
      "text/plain": [
       "(38882, 0)"
      ]
     },
     "execution_count": 7,
     "metadata": {},
     "output_type": "execute_result"
    }
   ],
   "source": [
    "from tqdm.notebook import tqdm\n",
    "\n",
    "\n",
    "class BasePaper:\n",
    "    def __init__(self, metadata_row, file_path):\n",
    "        self._metadata_row = metadata_row\n",
    "        self._file_path = file_path\n",
    "        self._file_contents = self._load_json_contents(file_path)\n",
    "        \n",
    "        self._referenced_by = []\n",
    "        self._references = []\n",
    "        \n",
    "    @staticmethod\n",
    "    def _load_json_contents(path):\n",
    "        with open(path) as file:\n",
    "            contents = json.load(file)\n",
    "        return contents\n",
    "\n",
    "    @property\n",
    "    def title(self):\n",
    "        return self._metadata_row[\"title\"]\n",
    "        \n",
    "    @property\n",
    "    def authors(self):\n",
    "        return self._metadata_row[\"authors\"]\n",
    "        \n",
    "    @property\n",
    "    def publish_time(self):\n",
    "        return self._metadata_row[\"publish_time\"]\n",
    "        \n",
    "    @property\n",
    "    def abstract(self):\n",
    "        return self._metadata_row[\"abstract\"]\n",
    "        \n",
    "    @property\n",
    "    def bib_entries(self):\n",
    "        return self._file_contents[\"bib_entries\"]\n",
    "    \n",
    "    def register_reference(self, reference):\n",
    "        self._references.append(reference)\n",
    "        reference.register_referenced(self)\n",
    "    \n",
    "    def register_referenced(self, referenced):\n",
    "        self._referenced_by.append(referenced)\n",
    "    \n",
    "    \n",
    "class PDFPaper(BasePaper):\n",
    "    pass\n",
    "        \n",
    "\n",
    "class PMCPaper(BasePaper):\n",
    "    pass\n",
    "\n",
    "def load_papers(metadata_df):\n",
    "    papers = []\n",
    "    not_found = []\n",
    "    for idx, row in tqdm(metadata_df.iterrows()):\n",
    "        pmc_id = row[\"pmcid\"]\n",
    "        shas = row[\"sha\"]\n",
    "        paper = None\n",
    "        \n",
    "        if pmc_id in pmc_dict:\n",
    "            pmc_path = pmc_dict[pmc_id]\n",
    "            paper = PMCPaper(row, pmc_path)\n",
    "            \n",
    "        if paper is None and pd.notna(shas):\n",
    "            shas_splitted = shas.split(\"; \")\n",
    "            for sha in shas_splitted:\n",
    "                if sha in pdf_dict:\n",
    "                    pdf_path = pdf_dict[sha]\n",
    "                    paper = PDFPaper(row, pdf_path)\n",
    "                    break\n",
    "        \n",
    "        if paper is None and (row[\"has_pdf_parse\"] or row[\"has_pmc_xml_parse\"]):\n",
    "            not_found.append(idx)\n",
    "        if paper is not None:\n",
    "            papers.append(paper)\n",
    "            \n",
    "    return papers, not_found\n",
    "\n",
    "papers, not_found = load_papers(metadata_df)\n",
    "len(papers), len(not_found)"
   ]
  },
  {
   "cell_type": "code",
   "execution_count": 8,
   "metadata": {},
   "outputs": [
    {
     "data": {
      "text/plain": [
       "38882"
      ]
     },
     "execution_count": 8,
     "metadata": {},
     "output_type": "execute_result"
    }
   ],
   "source": [
    "mask_1 = metadata_df[\"has_pdf_parse\"]\n",
    "mask_2 = metadata_df[\"has_pmc_xml_parse\"]\n",
    "(mask_1 | mask_2).sum()"
   ]
  },
  {
   "cell_type": "markdown",
   "metadata": {},
   "source": [
    "Somos capaces de identificar los archivos JSONs de 38.882 registros del archivo de metadatos.\n",
    "Es consistente con que solo 38.882 registros del archivo de metadatos tiene parseado PDF o PMC."
   ]
  },
  {
   "cell_type": "code",
   "execution_count": 9,
   "metadata": {},
   "outputs": [
    {
     "data": {
      "text/plain": [
       "('Airborne rhinovirus detection and effect of ultraviolet irradiation on detection by a semi-nested RT-PCR assay',\n",
       " 'Myatt, Theodore A; Johnston, Sebastian L; Rudnick, Stephen; Milton, Donald K',\n",
       " 'BACKGROUND: Rhinovirus, the most common cause of upper respiratory tract infections, has been implicated in asthma exacerbations and possibly asthma deaths. Although the method of transmission of rhinoviruses is disputed, several studies have demonstrated that aerosol transmission is a likely method of transmission among adults. As a first step in studies of possible airborne rhinovirus transmission, we developed methods to detect aerosolized rhinovirus by extending existing technology for detecting infectious agents in nasal specimens. METHODS: We aerosolized rhinovirus in a small aerosol chamber. Experiments were conducted with decreasing concentrations of rhinovirus. To determine the effect of UV irradiation on detection of rhinoviral aerosols, we also conducted experiments in which we exposed aerosols to a UV dose of 684 mJ/m(2). Aerosols were collected on Teflon filters and rhinovirus recovered in Qiagen AVL buffer using the Qiagen QIAamp Viral RNA Kit (Qiagen Corp., Valencia, California) followed by semi-nested RT-PCR and detection by gel electrophoresis. RESULTS: We obtained positive results from filter samples that had collected at least 1.3 TCID(50 )of aerosolized rhinovirus. Ultraviolet irradiation of airborne virus at doses much greater than those used in upper-room UV germicidal irradiation applications did not inhibit subsequent detection with the RT-PCR assay. CONCLUSION: The air sampling and extraction methodology developed in this study should be applicable to the detection of rhinovirus and other airborne viruses in the indoor air of offices and schools. This method, however, cannot distinguish UV inactivated virus from infectious viral particles.')"
      ]
     },
     "execution_count": 9,
     "metadata": {},
     "output_type": "execute_result"
    }
   ],
   "source": [
    "paper = papers[0]\n",
    "paper.title, paper.authors, paper.abstract"
   ]
  },
  {
   "cell_type": "markdown",
   "metadata": {},
   "source": [
    "# Match entre referencias y títulos\n",
    "A continuación se realizará el match entre los títulos en lenguaje natural de las referencias de cada paper y los títulos de éstos.\n",
    "Para hacerlo, se construirá un diccionario cuyas llaves son títulos de papers y los valores son las instancias de los papers correspondientes.\n",
    "Luego, para verificar si las referencias existen en el conjunto de datos, se detecta la presencia de la llave en el diccionario."
   ]
  },
  {
   "cell_type": "code",
   "execution_count": 10,
   "metadata": {},
   "outputs": [
    {
     "name": "stdout",
     "output_type": "stream",
     "text": [
      "'float' object has no attribute 'lower' section 6 charts and tables\n",
      "nan Unknown\n",
      "'float' object has no attribute 'lower' chapter 71 behavior of single cats and groups in the home\n",
      "nan Unknown\n",
      "'float' object has no attribute 'lower' chapter 5 project considerations\n",
      "nan Unknown\n",
      "'float' object has no attribute 'lower' house building industries asia pacific\n",
      "nan Unknown\n",
      "'float' object has no attribute 'lower' 7 metabolism of bradykinin by peptidases in health and disease\n",
      "nan Unknown\n",
      "'float' object has no attribute 'lower' chapter 6 the multiplication of rna viruses\n",
      "nan Unknown\n",
      "'float' object has no attribute 'lower' chapter 36 sars\n",
      "nan Unknown\n",
      "'float' object has no attribute 'lower' dual use of biotechnology\n",
      "nan Unknown\n",
      "'float' object has no attribute 'lower' 10.12 aquatic ecosystems, human health, and ecohydrology\n",
      "nan Unknown\n",
      "'float' object has no attribute 'lower' 5.14 the biophysics of membrane fusion\n",
      "nan Unknown\n",
      "'float' object has no attribute 'lower' foodborne diseases: overview of biological hazards and foodborne diseases\n",
      "nan Unknown\n",
      "'float' object has no attribute 'lower' chapter 13 eosinophils in human disease\n",
      "nan Unknown\n",
      "'float' object has no attribute 'lower' 10 mitigation, prevention, and preparedness\n",
      "nan Unknown\n",
      "'float' object has no attribute 'lower' sudden natural death: infectious diseases\n",
      "nan Unknown\n",
      "'float' object has no attribute 'lower' evolutionary medicine iv. evolution and emergence of novel pathogens\n",
      "nan Unknown\n",
      "'float' object has no attribute 'lower' environmental impact: concept, consequences, measurement ☆\n",
      "nan Unknown\n",
      "'float' object has no attribute 'lower' chapter 130 sars-cov attack (severe acute respiratory syndrome)\n",
      "nan Unknown\n",
      "'float' object has no attribute 'lower' chapter 57 respiratory diseases\n",
      "nan Unknown\n",
      "'float' object has no attribute 'lower' chapter 80 use of blood components in the intensive care unit\n",
      "nan Unknown\n",
      "'float' object has no attribute 'lower' chapter 52 neurological complications in critically ill patients\n",
      "nan Unknown\n",
      "'float' object has no attribute 'lower' emerging zoonoses in domesticated livestock of southeast asia\n",
      "nan Unknown\n",
      "'float' object has no attribute 'lower' chapter 54 immunopathogenesis of asthma\n",
      "nan Unknown\n",
      "'float' object has no attribute 'lower' chapter 16 infectious diseases of domestic rabbits\n",
      "nan Unknown\n",
      "'float' object has no attribute 'lower' chapter 154 the child-friendly emergency department: practices, policies, and procedures\n",
      "nan Unknown\n",
      "'float' object has no attribute 'lower' chapter 31 productive cough (acute bronchitis)\n",
      "nan Unknown\n",
      "'float' object has no attribute 'lower' chapter 6 infectious diseases of the gastrointestinal tract\n",
      "nan Unknown\n",
      "'float' object has no attribute 'lower' chapter 114 management of neonatal diarrhea in cow-calf herds\n",
      "nan Unknown\n",
      "'float' object has no attribute 'lower' chapter 112 viral infections\n",
      "nan Unknown\n",
      "'float' object has no attribute 'lower' chapter 3 immunohistology of infectious diseases\n",
      "nan Unknown\n",
      "'float' object has no attribute 'lower' chapter 3 immunohistology of infectious diseases\n",
      "nan Unknown\n",
      "'float' object has no attribute 'lower' chapter 13 transmission of infectious diseases through breast milk and breastfeeding\n",
      "nan Unknown\n",
      "'float' object has no attribute 'lower' 368 antiviral therapy (non-hiv)\n",
      "nan Unknown\n",
      "'float' object has no attribute 'lower' chapter 4 respiratory diseases\n",
      "nan Unknown\n",
      "'float' object has no attribute 'lower' 11 intestin grêle\n",
      "nan Unknown\n",
      "'float' object has no attribute 'lower' inactivation of coronaviruses by heat\n",
      "Eccles, Ron nan\n",
      "'float' object has no attribute 'lower' transmission of viruses through shellfish: when specific ligands come into play\n",
      "Greenberg, Harry B.; Griffin, Diane E. nan\n"
     ]
    }
   ],
   "source": [
    "# A continuación se construye el diccionario que mapea títulos a papers\n",
    "paper_titles = {}\n",
    "for paper in papers:\n",
    "    try:\n",
    "        title = paper.title.lower()\n",
    "        paper_titles[title] = paper\n",
    "    except AttributeError as err:\n",
    "        print(err, title)\n",
    "        print(paper.authors, paper.abstract)"
   ]
  },
  {
   "cell_type": "markdown",
   "metadata": {},
   "source": [
    "Por algún motivo existen títulos codificados como *floats*.\n",
    "Será importante verificar si se debe a un error de programación o a un problema del conjunto de datos."
   ]
  },
  {
   "cell_type": "code",
   "execution_count": 11,
   "metadata": {},
   "outputs": [
    {
     "data": {
      "application/vnd.jupyter.widget-view+json": {
       "model_id": "f62175345b0444cfaa387dd12b6b0f86",
       "version_major": 2,
       "version_minor": 0
      },
      "text/plain": [
       "HBox(children=(FloatProgress(value=0.0, max=38882.0), HTML(value='')))"
      ]
     },
     "metadata": {},
     "output_type": "display_data"
    },
    {
     "name": "stdout",
     "output_type": "stream",
     "text": [
      "\n"
     ]
    },
    {
     "data": {
      "text/plain": [
       "(2084802, 130605)"
      ]
     },
     "execution_count": 11,
     "metadata": {},
     "output_type": "execute_result"
    }
   ],
   "source": [
    "num_processed_refs = 0\n",
    "num_succesfully_processed_refs = 0\n",
    "for paper in tqdm(papers):\n",
    "    for _, ref in paper.bib_entries.items():\n",
    "        ref_title = ref[\"title\"].lower()\n",
    "        if ref_title in paper_titles:\n",
    "            paper.register_reference(paper_titles[ref_title])\n",
    "            num_succesfully_processed_refs += 1\n",
    "    num_processed_refs += len(paper.bib_entries)\n",
    "num_processed_refs, num_succesfully_processed_refs"
   ]
  },
  {
   "cell_type": "code",
   "execution_count": 12,
   "metadata": {},
   "outputs": [
    {
     "data": {
      "text/plain": [
       "(2084802, 130605)"
      ]
     },
     "execution_count": 12,
     "metadata": {},
     "output_type": "execute_result"
    }
   ],
   "source": [
    "num_processed_refs, num_succesfully_processed_refs"
   ]
  },
  {
   "cell_type": "markdown",
   "metadata": {},
   "source": [
    "Se observa que aproximadamente un 6,26% de las referencias se encuentran dentro del conjunto de datos.\n",
    "Un 93,74% de los papers referenciados no se encuentran en el conjunto de datos.\n",
    "Una estrategia para mitigar esto es crear nodos especiales para los papers fuera del conjunto, de esa forma se preserva mejor la estructura del grafo.\n",
    "\n",
    "Por otra parte, se deben responder otras preguntas:\n",
    "\n",
    "- Cuántos papers son referenciados al menos una vez en el conjunto de datos?\n",
    "- Cuáles son los papers más referenciados del conjunto de datos? Long tail?\n",
    "- Cuáles son los papers más referenciados fuera del conjunto de datos? Long tail?"
   ]
  },
  {
   "cell_type": "code",
   "execution_count": 15,
   "metadata": {},
   "outputs": [
    {
     "data": {
      "text/plain": [
       "(38882, 25321, 17824)"
      ]
     },
     "execution_count": 15,
     "metadata": {},
     "output_type": "execute_result"
    }
   ],
   "source": [
    "num_papers = len(papers)\n",
    "num_references = 0\n",
    "num_referenced_by = 0\n",
    "for paper in papers:\n",
    "    if len(paper._references) > 0:\n",
    "        num_references += 1\n",
    "    if len(paper._referenced_by) > 0:\n",
    "        num_referenced_by += 1\n",
    "num_papers, num_references, num_referenced_by"
   ]
  },
  {
   "cell_type": "markdown",
   "metadata": {},
   "source": [
    "Se observa que de los 38.882 papers procesados, al menos 25.321 (65,12%) tienen más de una referencia correctamente enlazada, y al menos 17.824 (45,84%) son referenciados al menos una vez."
   ]
  },
  {
   "cell_type": "code",
   "execution_count": 25,
   "metadata": {},
   "outputs": [],
   "source": [
    "papers_sorted = sorted(papers, key=lambda p: len(p._referenced_by), reverse=True)"
   ]
  },
  {
   "cell_type": "code",
   "execution_count": 49,
   "metadata": {},
   "outputs": [],
   "source": [
    "def display_paper(paper):\n",
    "    if isinstance(paper, list):\n",
    "        for elem in paper:\n",
    "            display_paper(elem)\n",
    "            print(\"\\n\", end=\"\")\n",
    "    else:\n",
    "        print(f\"\"\"Title: {paper.title}\n",
    "Authors: {paper.authors}\n",
    "Publish time: {paper.publish_time}\n",
    "Linked references: {len(paper._references)}\n",
    "Linked referenced by: {len(paper._referenced_by)}\n",
    "Abstract: {paper.abstract}\"\"\")"
   ]
  },
  {
   "cell_type": "code",
   "execution_count": 50,
   "metadata": {},
   "outputs": [
    {
     "name": "stdout",
     "output_type": "stream",
     "text": [
      "Title: Coronavirus as a possible cause of severe acute respiratory syndrome\n",
      "Authors: Peiris, JSM; Lai, ST; Poon, LLM; Guan, Y; Yam, LYC; Lim, W; Nicholls, J; Yee, WKS; Yan, WW; Cheung, MT; Cheng, VCC; Chan, KH; Tsang, DNC; Yung, RWH; Ng, TK; Yuen, KY\n",
      "Publish time: 2003-04-19\n",
      "Linked references: 4\n",
      "Linked referenced by: 685\n",
      "Abstract: Summary Background An outbreak of severe acute respiratory syndrome (SARS) has been reported in Hong Kong. We investigated the viral cause and clinical presentation among 50 patients. Methods We analysed case notes and microbiological findings for 50 patients with SARS, representing more than five separate epidemiologically linked transmission clusters. We defined the clinical presentation and risk factors associated with severe disease and investigated the causal agents by chest radiography and laboratory testing of nasopharyngeal aspirates and sera samples. We compared the laboratory findings with those submitted for microbiological investigation of other diseases from patients whose identity was masked. Findings Patients' age ranged from 23 to 74 years. Fever, chills, myalgia, and cough were the most frequent complaints. When compared with chest radiographic changes, respiratory symptoms and auscultatory findings were disproportionally mild. Patients who were household contacts of other infected people and had older age, lymphopenia, and liver dysfunction were associated with severe disease. A virus belonging to the family Coronaviridae was isolated from two patients. By use of serological and reverse-transcriptase PCR specific for this virus, 45 of 50 patients with SARS, but no controls, had evidence of infection with this virus. Interpretation A coronavirus was isolated from patients with SARS that might be the primary agent associated with this disease. Serological and molecular tests specific for the virus permitted a definitive laboratory diagnosis to be made and allowed further investigation to define whether other cofactors play a part in disease progression.\n"
     ]
    }
   ],
   "source": [
    "# Paper más citado dentro del conjunto de datos\n",
    "display_paper(papers_sorted[0])"
   ]
  },
  {
   "cell_type": "code",
   "execution_count": 51,
   "metadata": {},
   "outputs": [
    {
     "name": "stdout",
     "output_type": "stream",
     "text": [
      "Title: Severe Acute Respiratory Syndrome (SARS)\n",
      "Authors: Peiris, J.S.M\n",
      "Publish time: 2003-12-31\n",
      "Linked references: 5\n",
      "Linked referenced by: 91\n",
      "Abstract: nan\n",
      "\n",
      "Title: Severe Acute Respiratory Syndrome (SARS)\n",
      "Authors: Peiris, J.S.M\n",
      "Publish time: 2003-12-31\n",
      "Linked references: 5\n",
      "Linked referenced by: 91\n",
      "Abstract: nan\n",
      "\n",
      "Title: Coronavirus Pneumonia Following Autologous Bone Marrow Transplantation for Breast Cancer\n",
      "Authors: Folz, Rodney J.; Elkordy, Maha A.\n",
      "Publish time: 1999-03-31\n",
      "Linked references: 1\n",
      "Linked referenced by: 27\n",
      "Abstract: Infectious bronchitis virus, otherwise known as coronavirus, can cause mild upper respiratory tract illnesses in children and adults. Rarely has coronavirus been linked, either by serology or nasal wash, to pneumonia. We report a case of a young woman who, following treatment for stage IIIA breast cancer using a high-dose chemotherapy regimen followed by autologous bone marrow and stem cell transplantation, developed respiratory failure and was found to have coronavirus pneumonia as diagnosed by electron microscopy from BAL fluid. We propose that coronavirus should be considered in the differential diagnosis of acute respiratory failure in cancer patients who have undergone high-dose chemotherapy and autologous hematopoietic support.\n",
      "\n",
      "Title: Further studies on human enteric coronaviruses\n",
      "Authors: Caul, E. O.; Egglestone, S. I.\n",
      "Publish time: 1977\n",
      "Linked references: 1\n",
      "Linked referenced by: 22\n",
      "Abstract: Comparisons were made between human enteric coronaviruses and the enteric coronaviruses of pigs and calves by negative staining. Examination of human intestinal organ culture fluids at various time intervals after inoculation with the human enteric coronavirus showed increasing numbers of particles in the fluids. Thin sections of the columnar epithelial cells of these explants showed a number of features consistent with the replication of known human and animal coronaviruses. Virus particles found in thin sections had a mean diameter of 68 nm. In addition, a structure was found in thin sections which has not been described previously. This structure may represent the viral nucleocapsid.\n",
      "\n"
     ]
    }
   ],
   "source": [
    "display_paper(papers_sorted[0]._references)"
   ]
  },
  {
   "cell_type": "markdown",
   "metadata": {},
   "source": [
    "Se observa como el conjunto de datos incluye papers antiguo, de años anteriores a la pandemia actual.\n",
    "A continuación se observará la distribución del número de referencias."
   ]
  },
  {
   "cell_type": "code",
   "execution_count": 64,
   "metadata": {},
   "outputs": [],
   "source": [
    "import matplotlib.pyplot as plt\n",
    "import seaborn as sns\n",
    "sns.set()"
   ]
  },
  {
   "cell_type": "code",
   "execution_count": 80,
   "metadata": {},
   "outputs": [
    {
     "data": {
      "image/png": "[encoded data removed]",
      "text/plain": [
       "<Figure size 1152x576 with 1 Axes>"
      ]
     },
     "metadata": {},
     "output_type": "display_data"
    }
   ],
   "source": [
    "num_references = sorted([len(paper._references) for paper in papers], reverse=True)\n",
    "num_referenced_by = sorted([len(paper._referenced_by) for paper in papers], reverse=True)\n",
    "fig = plt.figure(figsize=(16, 8))\n",
    "ax = sns.lineplot(y=num_references, x=range(len(papers)))\n",
    "ax.set(title=\"Referencias de papers correctamente enlazadas\", yscale=\"log\")\n",
    "pass"
   ]
  },
  {
   "cell_type": "code",
   "execution_count": 81,
   "metadata": {},
   "outputs": [
    {
     "data": {
      "image/png": "[encoded data removed]",
      "text/plain": [
       "<Figure size 1152x576 with 1 Axes>"
      ]
     },
     "metadata": {},
     "output_type": "display_data"
    }
   ],
   "source": [
    "fig = plt.figure(figsize=(16, 8))\n",
    "ax = sns.lineplot(y=num_referenced_by, x=range(len(papers)))\n",
    "ax.set(title=\"Referencias a papers correctamente enlazadas\", yscale=\"log\")\n",
    "pass"
   ]
  },
  {
   "cell_type": "markdown",
   "metadata": {},
   "source": [
    "Al igual que distintos aspectos de la vida real, se ve como la cantidad de referencias correctamente enlazadas de papers siguen una distribución con cola pesada."
   ]
  },
  {
   "cell_type": "code",
   "execution_count": null,
   "metadata": {},
   "outputs": [],
   "source": []
  },
  {
   "cell_type": "code",
   "execution_count": null,
   "metadata": {},
   "outputs": [],
   "source": []
  }
 ],
 "metadata": {
  "kernelspec": {
   "display_name": "Python 3",
   "language": "python",
   "name": "python3"
  },
  "language_info": {
   "codemirror_mode": {
    "name": "ipython",
    "version": 3
   },
   "file_extension": ".py",
   "mimetype": "text/x-python",
   "name": "python",
   "nbconvert_exporter": "python",
   "pygments_lexer": "ipython3",
   "version": "3.7.4"
  }
 },
 "nbformat": 4,
 "nbformat_minor": 4
}
