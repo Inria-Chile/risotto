{
 "cells": [
  {
   "cell_type": "code",
   "execution_count": null,
   "metadata": {},
   "outputs": [],
   "source": [
    "from ipywidgets import AppLayout, Button, Layout, Tab, ToggleButtons, GridspecLayout, VBox, HBox\n",
    "from ipywidgets import Button, Layout, jslink, IntText, IntSlider, Accordion, Text, Label, HTML"
   ]
  },
  {
   "cell_type": "code",
   "execution_count": null,
   "metadata": {},
   "outputs": [
    {
     "name": "stderr",
     "output_type": "stream",
     "text": [
      "/Users/lmarti/.pyenv/versions/risotto/lib/python3.8/site-packages/pandas/compat/__init__.py:117: UserWarning: Could not import the lzma module. Your installed Python is incomplete. Attempting to use lzma compression will result in a RuntimeError.\n",
      "  warnings.warn(msg)\n"
     ]
    }
   ],
   "source": [
    "import pandas as pd"
   ]
  },
  {
   "cell_type": "code",
   "execution_count": null,
   "metadata": {},
   "outputs": [],
   "source": [
    "paper_topics = pd.read_hdf('data.hdf', key='paper_topics')"
   ]
  },
  {
   "cell_type": "code",
   "execution_count": null,
   "metadata": {},
   "outputs": [],
   "source": [
    "# paper_topics"
   ]
  },
  {
   "cell_type": "code",
   "execution_count": null,
   "metadata": {},
   "outputs": [],
   "source": [
    "topics = paper_topics.topic.unique()"
   ]
  },
  {
   "cell_type": "code",
   "execution_count": null,
   "metadata": {},
   "outputs": [],
   "source": [
    "def paper_grid(paper):\n",
    "    reference = f'{paper.authors} ({paper.pub_date}) {paper.title.strip()}'\n",
    "    abstract = str(paper.abstract)\n",
    "    return reference, abstract"
   ]
  },
  {
   "cell_type": "code",
   "execution_count": null,
   "metadata": {},
   "outputs": [],
   "source": [
    "papers_vboxes = {}"
   ]
  },
  {
   "cell_type": "code",
   "execution_count": null,
   "metadata": {},
   "outputs": [],
   "source": [
    "for topic_id in topics:\n",
    "    papers = paper_topics[paper_topics.topic == topic_id].head(5)\n",
    "    \n",
    "    pairs = [paper_grid(row) for _, row in papers.iterrows()]\n",
    "    \n",
    "    contents = [Label(abstract) for _, abstract in pairs]\n",
    "    accordion = Accordion(children=contents)\n",
    "    \n",
    "    for i, (label,_) in enumerate(pairs):\n",
    "        accordion.set_title(i, label)\n",
    "    papers_vboxes[topic_id] = accordion"
   ]
  },
  {
   "cell_type": "code",
   "execution_count": null,
   "metadata": {},
   "outputs": [],
   "source": [
    "tab = Tab(children=[papers_vboxes[topic_id] for topic_id in sorted(papers_vboxes.keys())])\n",
    "for i in range(len(tab.children)):\n",
    "    tab.set_title(i, f'Topic {i}')"
   ]
  },
  {
   "cell_type": "code",
   "execution_count": null,
   "metadata": {},
   "outputs": [],
   "source": [
    "# Accordion(children=contents)"
   ]
  },
  {
   "cell_type": "code",
   "execution_count": null,
   "metadata": {},
   "outputs": [],
   "source": [
    "def updater(change):\n",
    "    if change['owner'].index:\n",
    "        topic_id = change['owner'].index\n",
    "        app.center = papers_vboxes[topic_id]"
   ]
  },
  {
   "cell_type": "code",
   "execution_count": null,
   "metadata": {},
   "outputs": [],
   "source": [
    "a = ToggleButtons(\n",
    "    options=[f'Topic {topic_id}' for topic_id in topics],\n",
    "    description='',\n",
    "    disabled=False, \n",
    "    button_style='', # 'success', 'info', 'warning', 'danger' or ''\n",
    "    #tooltips=['Description of slow', 'Description of regular', 'Description of fast'],# icons=['check'] * 3\n",
    "    #layout=Layout(height='auto', width='auto')\n",
    ")"
   ]
  },
  {
   "cell_type": "code",
   "execution_count": null,
   "metadata": {},
   "outputs": [],
   "source": [
    "a.observe(updater)"
   ]
  },
  {
   "cell_type": "code",
   "execution_count": null,
   "metadata": {},
   "outputs": [],
   "source": [
    "app=AppLayout(header=HTML('RISOTTO'),\n",
    "          left_sidebar=a,\n",
    "          center=papers_vboxes[0],\n",
    "          pane_widths=[1, 3, 3],\n",
    "          pane_heights=['45px', 5, '45px'],\n",
    "          #right_sidebar=right_button,\n",
    "          footer=None)"
   ]
  },
  {
   "cell_type": "code",
   "execution_count": null,
   "metadata": {},
   "outputs": [
    {
     "data": {
      "application/vnd.jupyter.widget-view+json": {
       "model_id": "21c22fef38a34234ab94f9075a2d31ce",
       "version_major": 2,
       "version_minor": 0
      },
      "text/plain": [
       "AppLayout(children=(HTML(value='RISOTTO', layout=Layout(grid_area='header')), ToggleButtons(layout=Layout(grid…"
      ]
     },
     "metadata": {},
     "output_type": "display_data"
    }
   ],
   "source": [
    "app"
   ]
  },
  {
   "cell_type": "code",
   "execution_count": null,
   "metadata": {},
   "outputs": [],
   "source": [
    "def paper_gridA(paper):\n",
    "    #grid = GridspecLayout(n_rows=7, n_columns=2, justify_content='space-around', align_items='flex-start')\n",
    "    \n",
    "    grid[0,0] = Label('Title:', layout=Layout(height='auto', width='20%'))\n",
    "    grid[0,1] = Label(paper.title)\n",
    "    \n",
    "    grid[1,0] = Label('Authors:')\n",
    "    grid[1,1] = Label(paper.authors)\n",
    "    \n",
    "    grid[2,0] = Label('Date:', layout=Layout(height='auto', width='20%'))\n",
    "    grid[2,1] = Label(paper.pub_date)\n",
    "    grid[3,0] = Label('Relevance:', layout=Layout(height='auto', width='20%'))\n",
    "    grid[3,1] = Label(str(paper.relevance))\n",
    "    grid[4,0] = Label('URL:',layout=Layout(height='auto', width='20%'))\n",
    "    grid[4,1] = HTML(f'<a href=\"{paper.url}\">{paper.url}</a>')\n",
    "    grid[5,0] = Label('DOI:',layout=Layout(height='auto', width='20%'))\n",
    "    grid[5,1] = Label(f'{paper.doi}')\n",
    "    grid[6,0] = Label('Abstract:', layout=Layout(height='auto', width='20%'))\n",
    "    grid[6,1] = Label(str(paper.abstract))\n",
    "    \n",
    "    return grid"
   ]
  }
 ],
 "metadata": {
  "kernelspec": {
   "display_name": "Python 3.8.2 64-bit ('risotto': venv)",
   "language": "python",
   "name": "python38264bitrisottovenv582be2314c5f42eab2123d4127b9e107"
  }
 },
 "nbformat": 4,
 "nbformat_minor": 4
}
