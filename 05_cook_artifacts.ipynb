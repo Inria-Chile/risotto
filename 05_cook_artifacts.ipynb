{
 "cells": [
  {
   "cell_type": "markdown",
   "metadata": {},
   "source": [
    "# Cooking RISOTTO artifacts\n",
    "\n",
    "This notebook purpose is to build the binary files used by RISOTTO's GUI.\n",
    "We'll build three Pandas DataFrames:\n",
    "\n",
    "- `papers`:\n",
    "contains the data of the papers, including the `cord_uid` identifier and the PageRank scores.\n",
    "\n",
    "- `papers_topics`:\n",
    "contains the association between papers, topics, and subtopics.\n",
    "The papers are indexed by their `cord_uid` identifier.\n",
    "\n",
    "- `topics`:\n",
    "contains the token pseudocounts of the different topics and subtopics.\n",
    "\n",
    "Each one of the previously defined DataFrames will be stored in a single HDF file named `artifacts.hdf`."
   ]
  },
  {
   "cell_type": "code",
   "execution_count": 1,
   "metadata": {},
   "outputs": [],
   "source": [
    "# default_exp artifacts"
   ]
  },
  {
   "cell_type": "code",
   "execution_count": 2,
   "metadata": {},
   "outputs": [
    {
     "name": "stdout",
     "output_type": "stream",
     "text": [
      "\u001b[33mYou are using pip version 19.0.3, however version 20.1.1 is available.\r\n",
      "You should consider upgrading via the 'pip install --upgrade pip' command.\u001b[0m\r\n"
     ]
    }
   ],
   "source": [
    "# Install dependencies\n",
    "%load_ext autoreload\n",
    "%autoreload 2\n",
    "!pip install -q -r requirements.txt"
   ]
  },
  {
   "cell_type": "code",
   "execution_count": 1,
   "metadata": {},
   "outputs": [],
   "source": [
    "# export\n",
    "from pathlib import Path\n",
    "\n",
    "from fastprogress.fastprogress import progress_bar\n",
    "import pandas as pd\n",
    "import networkx as nx\n",
    "\n",
    "from risotto.references import load_papers_from_metadata_file, process_references, build_papers_reference_graph\n",
    "from risotto.lda import process_papers_file_contents\n",
    "from risotto.hierarchical_lda import fit_lda_model"
   ]
  },
  {
   "cell_type": "code",
   "execution_count": 2,
   "metadata": {},
   "outputs": [],
   "source": [
    "CORD19_DATASET_FOLDER = Path(\"./datasets/CORD-19-research-challenge\")"
   ]
  },
  {
   "cell_type": "code",
   "execution_count": 3,
   "metadata": {},
   "outputs": [],
   "source": [
    "# export\n",
    "ARTIFACTS_PATH = \"artifacts/artifacts.hdf\"\n",
    "\n",
    "def remove_duplicated_idxs(df):\n",
    "    df = df.loc[~df.index.duplicated(keep='first')]\n",
    "    return df\n",
    "\n",
    "\n",
    "def load_papers_metadata(dataset_folder):\n",
    "    metadata_df = pd.read_csv(\n",
    "        f\"{dataset_folder}/metadata.csv\",\n",
    "        index_col=\"cord_uid\"\n",
    "    )\n",
    "    return metadata_df\n",
    "\n",
    "def _get_affiliation_country(author):\n",
    "    affiliation = author[\"affiliation\"]\n",
    "    if len(affiliation) == 0:\n",
    "        return None, None\n",
    "    # Country\n",
    "    country = affiliation[\"location\"][\"country\"] if \"country\" in affiliation[\"location\"] else None\n",
    "    # Affiliation\n",
    "    laboratory = affiliation[\"laboratory\"] \n",
    "    institution = affiliation[\"institution\"] if len(affiliation[\"institution\"]) > 0 else None\n",
    "    if institution is not None and len(laboratory) > 0:\n",
    "        institution += f\" ({laboratory})\"\n",
    "    return institution, country\n",
    "\n",
    "\n",
    "def build_papers_artifact(dataset_folder, should_dump=True):\n",
    "    \"\"\"\n",
    "    Returns:\n",
    "        - `joined_df`: a DataFrame with the dataset metadata columns and the PageRank score\n",
    "            of each paper. The rows are indexed by the `cord_uid` identifier.\n",
    "    \"\"\"\n",
    "    metadata_df = remove_duplicated_idxs(load_papers_metadata(dataset_folder))\n",
    "    papers = load_papers_from_metadata_file(dataset_folder)\n",
    "    process_references(papers)\n",
    "    references_graph = build_papers_reference_graph(papers)\n",
    "    pagerank = nx.pagerank(references_graph)\n",
    "    \n",
    "    # Build PageRank DataFrame dict\n",
    "    df_dict = {\n",
    "        \"cord_uid\": [],\n",
    "        \"pagerank\": [],\n",
    "        \"affiliation\": [],\n",
    "        \"country\": []\n",
    "    }\n",
    "    for paper, score in pagerank.items():\n",
    "        # PageRank\n",
    "        df_dict[\"cord_uid\"].append(paper._metadata_row.name)\n",
    "        df_dict[\"pagerank\"].append(score)\n",
    "        \n",
    "        # Affiliations and countries\n",
    "        affiliations = set()\n",
    "        countries = set()\n",
    "        for author in paper._file_contents[\"metadata\"][\"authors\"]:\n",
    "            affiliation, country = _get_affiliation_country(author)\n",
    "            if affiliation is not None:\n",
    "                affiliations.add(affiliation)\n",
    "            if country is not None:\n",
    "                countries.add(country)\n",
    "        df_dict[\"affiliation\"].append(\", \".join(affiliations))\n",
    "        df_dict[\"country\"].append(\", \".join(countries))\n",
    "    \n",
    "    pagerank_df = pd.DataFrame.from_dict(df_dict)\n",
    "    pagerank_df = remove_duplicated_idxs(pagerank_df.set_index(\"cord_uid\"))\n",
    "    \n",
    "    joined_df = pagerank_df.join(metadata_df)\n",
    "    \n",
    "    if should_dump:\n",
    "        joined_df.to_hdf(ARTIFACTS_PATH, key=\"papers\")\n",
    "    \n",
    "    return joined_df, pagerank_df, metadata_df\n",
    "\n",
    "\n",
    "def load_papers_artifact():\n",
    "    return pd.read_hdf(ARTIFACTS_PATH, key=\"papers\")\n",
    "\n",
    "\n",
    "def build_papers_topics_artifact(dataset_folder, should_dump=True):\n",
    "    \"\"\"\n",
    "    Returns:\n",
    "        - `papers_df`: a DataFrame. Each row represents a paper and has the following columns:\n",
    "            - `cord_uid`: index\n",
    "            - `text`: paper text\n",
    "            - `topic`: first-level topic identifier\n",
    "            - `subtopic`: second-level topic identifier\n",
    "        - `topics_df`: a DataFrame. Each row represents a token and has the following columns:\n",
    "            - `token`: index\n",
    "            - `{topic_id}`: token pseudocount in first-level topic {topic_id}\n",
    "            - `{topic_id}-{subtopic_id}`: token pseudocount in second-level {subtopic_id} of first-level {topic_id}.\n",
    "        NaNs values mean that the token wasn't considered in the topic modelling step.\n",
    "    \"\"\"\n",
    "    # Load the papers contents\n",
    "    papers = load_papers_from_metadata_file(dataset_folder)\n",
    "    docs = process_papers_file_contents(papers)\n",
    "    \n",
    "    # Here we build a dataframe with the text of each dataset\n",
    "    # indexed by its own `cord_uid`\n",
    "    papers_df_dict = {\"cord_uid\": []}\n",
    "    for paper in papers:\n",
    "        papers_df_dict[\"cord_uid\"].append(paper._metadata_row.name)\n",
    "    papers_df_dict[\"text\"] = docs\n",
    "    papers_df = pd.DataFrame.from_dict(papers_df_dict)\n",
    "    papers_df = papers_df.set_index(\"cord_uid\")\n",
    "\n",
    "    # Fit the first level LDA model and classify the papers\n",
    "    lda, docs_vectorized, vectorizer = fit_lda_model(\n",
    "        papers_df[\"text\"].tolist(),\n",
    "        n_components=8,\n",
    "        n_jobs=4,\n",
    "    )\n",
    "    docs_classified = lda.transform(docs_vectorized)\n",
    "    docs_topics = docs_classified.argmax(1)\n",
    "    papers_df[\"topic\"] = docs_topics\n",
    "\n",
    "    # Fit the second level LDA models and classify the papers\n",
    "    sub_ldas = {}\n",
    "    sub_docs_vectorized = {}\n",
    "    sub_docs_topics = {}\n",
    "    sub_vectorizers = {}\n",
    "    for topic_id, group_df in progress_bar(papers_df.groupby(by=\"topic\")):\n",
    "        _sub_lda, _sub_docs_vectorized, _sub_vectorizer = fit_lda_model(\n",
    "            group_df[\"text\"].tolist(),\n",
    "            n_components=4,\n",
    "            n_jobs=4,\n",
    "        )\n",
    "        sub_ldas[topic_id] = _sub_lda\n",
    "        sub_docs_vectorized[topic_id] = _sub_docs_vectorized\n",
    "        group_topics = _sub_lda.transform(_sub_docs_vectorized).argmax(1)\n",
    "        sub_docs_topics[topic_id] = pd.Series(group_topics, index=group_df.index)\n",
    "        sub_vectorizers[topic_id] = _sub_vectorizer\n",
    "\n",
    "    papers_subtopics_list = list(sub_docs_topics.values())\n",
    "    papers_subtopics = remove_duplicated_idxs(pd.concat(papers_subtopics_list).rename(\"subtopic\"))\n",
    "    papers_df = remove_duplicated_idxs(papers_df.join(papers_subtopics))\n",
    "\n",
    "    # Next step is to build a DataFrame with each topic pseudocount\n",
    "    # of its tokens.\n",
    "    topics_df = pd.DataFrame(index=pd.Series(vectorizer.get_feature_names(), name=\"token\"))\n",
    "    for topic_idx, topic in enumerate(lda.components_):\n",
    "        topics_df[f\"{topic_idx}\"] = topic\n",
    "\n",
    "    subtopics_dfs = {}\n",
    "    for topic_idx, sub_lda in sub_ldas.items():\n",
    "        subtopic_df = pd.DataFrame(index=pd.Series(sub_vectorizers[topic_idx].get_feature_names(), name=\"token\"))\n",
    "        for subtopic_idx, subtopic in enumerate(sub_lda.components_):\n",
    "            subtopic_df[f\"{topic_idx}-{subtopic_idx}\"] = subtopic\n",
    "        subtopics_dfs[topic_idx] = subtopic_df\n",
    "\n",
    "    for subtopic_df in subtopics_dfs.values():\n",
    "        topics_df = topics_df.join(subtopic_df, how=\"outer\")\n",
    "    \n",
    "    if should_dump:\n",
    "        papers_df.to_hdf(ARTIFACTS_PATH, key=\"papers_topics\")\n",
    "        topics_df.to_hdf(ARTIFACTS_PATH, key=\"topics\")\n",
    "        \n",
    "    return papers_df, topics_df\n",
    "\n",
    "\n",
    "def load_papers_topics_artifacts():\n",
    "    return pd.read_hdf(ARTIFACTS_PATH, key=\"papers_topics\")\n",
    "\n",
    "\n",
    "def load_topics_artifacts():\n",
    "    return pd.read_hdf(ARTIFACTS_PATH, key=\"topics\")\n",
    "\n",
    "\n",
    "def build_artifacts(dataset_folder, should_dump=True):\n",
    "    metapagerank_df, _, _ = build_papers_artifact(dataset_folder, should_dump)\n",
    "    papers_df, topics_df = build_papers_topics_artifact(dataset_folder, should_dump)\n",
    "    return metapagerank_df, papers_df, topics_df\n",
    "    "
   ]
  },
  {
   "cell_type": "code",
   "execution_count": null,
   "metadata": {},
   "outputs": [
    {
     "name": "stderr",
     "output_type": "stream",
     "text": [
      "/home/rpalma/repos/risotto/risotto-notebooks/venv-risotto-notebooks/lib/python3.7/site-packages/ipykernel_launcher.py:1: DtypeWarning: Columns (13,14) have mixed types.Specify dtype option on import or set low_memory=False.\n",
      "  \"\"\"Entry point for launching an IPython kernel.\n"
     ]
    },
    {
     "data": {
      "text/html": [
       "\n",
       "    <div>\n",
       "        <style>\n",
       "            /* Turns off some styling */\n",
       "            progress {\n",
       "                /* gets rid of default border in Firefox and Opera. */\n",
       "                border: none;\n",
       "                /* Needs to be in here for Safari polyfill so background images work as expected. */\n",
       "                background-size: auto;\n",
       "            }\n",
       "            .progress-bar-interrupted, .progress-bar-interrupted::-webkit-progress-bar {\n",
       "                background: #F44336;\n",
       "            }\n",
       "        </style>\n",
       "      <progress value='136067' class='' max='136067' style='width:300px; height:20px; vertical-align: middle;'></progress>\n",
       "      100.00% [136067/136067 02:17<00:00]\n",
       "    </div>\n",
       "    "
      ],
      "text/plain": [
       "<IPython.core.display.HTML object>"
      ]
     },
     "metadata": {},
     "output_type": "display_data"
    },
    {
     "data": {
      "text/html": [
       "\n",
       "    <div>\n",
       "        <style>\n",
       "            /* Turns off some styling */\n",
       "            progress {\n",
       "                /* gets rid of default border in Firefox and Opera. */\n",
       "                border: none;\n",
       "                /* Needs to be in here for Safari polyfill so background images work as expected. */\n",
       "                background-size: auto;\n",
       "            }\n",
       "            .progress-bar-interrupted, .progress-bar-interrupted::-webkit-progress-bar {\n",
       "                background: #F44336;\n",
       "            }\n",
       "        </style>\n",
       "      <progress value='62685' class='' max='62685' style='width:300px; height:20px; vertical-align: middle;'></progress>\n",
       "      100.00% [62685/62685 00:00<00:00]\n",
       "    </div>\n",
       "    "
      ],
      "text/plain": [
       "<IPython.core.display.HTML object>"
      ]
     },
     "metadata": {},
     "output_type": "display_data"
    },
    {
     "data": {
      "text/html": [
       "\n",
       "    <div>\n",
       "        <style>\n",
       "            /* Turns off some styling */\n",
       "            progress {\n",
       "                /* gets rid of default border in Firefox and Opera. */\n",
       "                border: none;\n",
       "                /* Needs to be in here for Safari polyfill so background images work as expected. */\n",
       "                background-size: auto;\n",
       "            }\n",
       "            .progress-bar-interrupted, .progress-bar-interrupted::-webkit-progress-bar {\n",
       "                background: #F44336;\n",
       "            }\n",
       "        </style>\n",
       "      <progress value='62685' class='' max='62685' style='width:300px; height:20px; vertical-align: middle;'></progress>\n",
       "      100.00% [62685/62685 00:01<00:00]\n",
       "    </div>\n",
       "    "
      ],
      "text/plain": [
       "<IPython.core.display.HTML object>"
      ]
     },
     "metadata": {},
     "output_type": "display_data"
    },
    {
     "name": "stderr",
     "output_type": "stream",
     "text": [
      "/home/rpalma/repos/risotto/risotto-notebooks/venv-risotto-notebooks/lib/python3.7/site-packages/pandas/core/generic.py:2505: PerformanceWarning: \n",
      "your performance may suffer as PyTables will pickle object types that it cannot\n",
      "map directly to c-types [inferred_type->mixed,key->block1_values] [items->Index(['affiliation', 'country', 'sha', 'source_x', 'title', 'doi', 'pmcid',\n",
      "       'license', 'abstract', 'publish_time', 'authors', 'journal',\n",
      "       'who_covidence_id', 'arxiv_id', 'pdf_json_files', 'pmc_json_files',\n",
      "       'url'],\n",
      "      dtype='object')]\n",
      "\n",
      "  encoding=encoding,\n",
      "/home/rpalma/repos/risotto/risotto-notebooks/venv-risotto-notebooks/lib/python3.7/site-packages/ipykernel_launcher.py:1: DtypeWarning: Columns (13,14) have mixed types.Specify dtype option on import or set low_memory=False.\n",
      "  \"\"\"Entry point for launching an IPython kernel.\n"
     ]
    },
    {
     "data": {
      "text/html": [
       "\n",
       "    <div>\n",
       "        <style>\n",
       "            /* Turns off some styling */\n",
       "            progress {\n",
       "                /* gets rid of default border in Firefox and Opera. */\n",
       "                border: none;\n",
       "                /* Needs to be in here for Safari polyfill so background images work as expected. */\n",
       "                background-size: auto;\n",
       "            }\n",
       "            .progress-bar-interrupted, .progress-bar-interrupted::-webkit-progress-bar {\n",
       "                background: #F44336;\n",
       "            }\n",
       "        </style>\n",
       "      <progress value='136067' class='' max='136067' style='width:300px; height:20px; vertical-align: middle;'></progress>\n",
       "      100.00% [136067/136067 02:50<00:00]\n",
       "    </div>\n",
       "    "
      ],
      "text/plain": [
       "<IPython.core.display.HTML object>"
      ]
     },
     "metadata": {},
     "output_type": "display_data"
    },
    {
     "data": {
      "text/html": [
       "\n",
       "    <div>\n",
       "        <style>\n",
       "            /* Turns off some styling */\n",
       "            progress {\n",
       "                /* gets rid of default border in Firefox and Opera. */\n",
       "                border: none;\n",
       "                /* Needs to be in here for Safari polyfill so background images work as expected. */\n",
       "                background-size: auto;\n",
       "            }\n",
       "            .progress-bar-interrupted, .progress-bar-interrupted::-webkit-progress-bar {\n",
       "                background: #F44336;\n",
       "            }\n",
       "        </style>\n",
       "      <progress value='62685' class='' max='62685' style='width:300px; height:20px; vertical-align: middle;'></progress>\n",
       "      100.00% [62685/62685 00:03<00:00]\n",
       "    </div>\n",
       "    "
      ],
      "text/plain": [
       "<IPython.core.display.HTML object>"
      ]
     },
     "metadata": {},
     "output_type": "display_data"
    },
    {
     "data": {
      "text/html": [
       "\n",
       "    <div>\n",
       "        <style>\n",
       "            /* Turns off some styling */\n",
       "            progress {\n",
       "                /* gets rid of default border in Firefox and Opera. */\n",
       "                border: none;\n",
       "                /* Needs to be in here for Safari polyfill so background images work as expected. */\n",
       "                background-size: auto;\n",
       "            }\n",
       "            .progress-bar-interrupted, .progress-bar-interrupted::-webkit-progress-bar {\n",
       "                background: #F44336;\n",
       "            }\n",
       "        </style>\n",
       "      <progress value='8' class='' max='8' style='width:300px; height:20px; vertical-align: middle;'></progress>\n",
       "      100.00% [8/8 03:17<00:00]\n",
       "    </div>\n",
       "    "
      ],
      "text/plain": [
       "<IPython.core.display.HTML object>"
      ]
     },
     "metadata": {},
     "output_type": "display_data"
    }
   ],
   "source": [
    "metapagerank_df, papers_df, topics_df = build_artifacts(CORD19_DATASET_FOLDER)"
   ]
  },
  {
   "cell_type": "code",
   "execution_count": 4,
   "metadata": {},
   "outputs": [
    {
     "name": "stderr",
     "output_type": "stream",
     "text": [
      "/home/rpalma/repos/risotto/risotto-notebooks/venv-risotto-notebooks/lib/python3.7/site-packages/IPython/core/interactiveshell.py:3331: DtypeWarning: Columns (13,14) have mixed types.Specify dtype option on import or set low_memory=False.\n",
      "  exec(code_obj, self.user_global_ns, self.user_ns)\n"
     ]
    },
    {
     "data": {
      "text/html": [
       "\n",
       "    <div>\n",
       "        <style>\n",
       "            /* Turns off some styling */\n",
       "            progress {\n",
       "                /* gets rid of default border in Firefox and Opera. */\n",
       "                border: none;\n",
       "                /* Needs to be in here for Safari polyfill so background images work as expected. */\n",
       "                background-size: auto;\n",
       "            }\n",
       "            .progress-bar-interrupted, .progress-bar-interrupted::-webkit-progress-bar {\n",
       "                background: #F44336;\n",
       "            }\n",
       "        </style>\n",
       "      <progress value='136067' class='' max='136067' style='width:300px; height:20px; vertical-align: middle;'></progress>\n",
       "      100.00% [136067/136067 03:34<00:00]\n",
       "    </div>\n",
       "    "
      ],
      "text/plain": [
       "<IPython.core.display.HTML object>"
      ]
     },
     "metadata": {},
     "output_type": "display_data"
    },
    {
     "data": {
      "text/html": [
       "\n",
       "    <div>\n",
       "        <style>\n",
       "            /* Turns off some styling */\n",
       "            progress {\n",
       "                /* gets rid of default border in Firefox and Opera. */\n",
       "                border: none;\n",
       "                /* Needs to be in here for Safari polyfill so background images work as expected. */\n",
       "                background-size: auto;\n",
       "            }\n",
       "            .progress-bar-interrupted, .progress-bar-interrupted::-webkit-progress-bar {\n",
       "                background: #F44336;\n",
       "            }\n",
       "        </style>\n",
       "      <progress value='62685' class='' max='62685' style='width:300px; height:20px; vertical-align: middle;'></progress>\n",
       "      100.00% [62685/62685 00:01<00:00]\n",
       "    </div>\n",
       "    "
      ],
      "text/plain": [
       "<IPython.core.display.HTML object>"
      ]
     },
     "metadata": {},
     "output_type": "display_data"
    },
    {
     "data": {
      "text/html": [
       "\n",
       "    <div>\n",
       "        <style>\n",
       "            /* Turns off some styling */\n",
       "            progress {\n",
       "                /* gets rid of default border in Firefox and Opera. */\n",
       "                border: none;\n",
       "                /* Needs to be in here for Safari polyfill so background images work as expected. */\n",
       "                background-size: auto;\n",
       "            }\n",
       "            .progress-bar-interrupted, .progress-bar-interrupted::-webkit-progress-bar {\n",
       "                background: #F44336;\n",
       "            }\n",
       "        </style>\n",
       "      <progress value='62685' class='' max='62685' style='width:300px; height:20px; vertical-align: middle;'></progress>\n",
       "      100.00% [62685/62685 00:01<00:00]\n",
       "    </div>\n",
       "    "
      ],
      "text/plain": [
       "<IPython.core.display.HTML object>"
      ]
     },
     "metadata": {},
     "output_type": "display_data"
    },
    {
     "ename": "KeyboardInterrupt",
     "evalue": "",
     "output_type": "error",
     "traceback": [
      "\u001b[0;31m---------------------------------------------------------------------------\u001b[0m",
      "\u001b[0;31mKeyboardInterrupt\u001b[0m                         Traceback (most recent call last)",
      "\u001b[0;32m<ipython-input-4-72a30c3a93f8>\u001b[0m in \u001b[0;36m<module>\u001b[0;34m\u001b[0m\n\u001b[0;32m----> 1\u001b[0;31m \u001b[0mjoined_df\u001b[0m\u001b[0;34m,\u001b[0m \u001b[0mpagerank_df\u001b[0m\u001b[0;34m,\u001b[0m \u001b[0mmetadata_df\u001b[0m \u001b[0;34m=\u001b[0m \u001b[0mbuild_papers_artifact\u001b[0m\u001b[0;34m(\u001b[0m\u001b[0mCORD19_DATASET_FOLDER\u001b[0m\u001b[0;34m)\u001b[0m\u001b[0;34m\u001b[0m\u001b[0;34m\u001b[0m\u001b[0m\n\u001b[0m",
      "\u001b[0;32m<ipython-input-3-416c4c7e8561>\u001b[0m in \u001b[0;36mbuild_papers_artifact\u001b[0;34m(dataset_folder, should_dump)\u001b[0m\n\u001b[1;32m     63\u001b[0m                 \u001b[0mcountries\u001b[0m\u001b[0;34m.\u001b[0m\u001b[0madd\u001b[0m\u001b[0;34m(\u001b[0m\u001b[0mcountry\u001b[0m\u001b[0;34m)\u001b[0m\u001b[0;34m\u001b[0m\u001b[0;34m\u001b[0m\u001b[0m\n\u001b[1;32m     64\u001b[0m         \u001b[0maffiliation_country_df_dict\u001b[0m\u001b[0;34m[\u001b[0m\u001b[0;34m\"cord_uid\"\u001b[0m\u001b[0;34m]\u001b[0m\u001b[0;34m.\u001b[0m\u001b[0mappend\u001b[0m\u001b[0;34m(\u001b[0m\u001b[0mpaper\u001b[0m\u001b[0;34m.\u001b[0m\u001b[0m_metadata_row\u001b[0m\u001b[0;34m.\u001b[0m\u001b[0mname\u001b[0m\u001b[0;34m)\u001b[0m\u001b[0;34m\u001b[0m\u001b[0;34m\u001b[0m\u001b[0m\n\u001b[0;32m---> 65\u001b[0;31m         \u001b[0maffiliation_country_df_dict\u001b[0m\u001b[0;34m[\u001b[0m\u001b[0;34m\"affiliation\"\u001b[0m\u001b[0;34m]\u001b[0m\u001b[0;34m.\u001b[0m\u001b[0mappend\u001b[0m\u001b[0;34m(\u001b[0m\u001b[0;34m\", \"\u001b[0m\u001b[0;34m.\u001b[0m\u001b[0mjoin\u001b[0m\u001b[0;34m(\u001b[0m\u001b[0maffiliations\u001b[0m\u001b[0;34m)\u001b[0m\u001b[0;34m)\u001b[0m\u001b[0;34m\u001b[0m\u001b[0;34m\u001b[0m\u001b[0m\n\u001b[0m\u001b[1;32m     66\u001b[0m         \u001b[0maffiliation_country_df_dict\u001b[0m\u001b[0;34m[\u001b[0m\u001b[0;34m\"country\"\u001b[0m\u001b[0;34m]\u001b[0m\u001b[0;34m.\u001b[0m\u001b[0mappend\u001b[0m\u001b[0;34m(\u001b[0m\u001b[0;34m\", \"\u001b[0m\u001b[0;34m.\u001b[0m\u001b[0mjoin\u001b[0m\u001b[0;34m(\u001b[0m\u001b[0mcountries\u001b[0m\u001b[0;34m)\u001b[0m\u001b[0;34m)\u001b[0m\u001b[0;34m\u001b[0m\u001b[0;34m\u001b[0m\u001b[0m\n\u001b[1;32m     67\u001b[0m \u001b[0;34m\u001b[0m\u001b[0m\n",
      "\u001b[0;31mKeyboardInterrupt\u001b[0m: "
     ]
    }
   ],
   "source": [
    "joined_df, pagerank_df, metadata_df = build_papers_artifact(CORD19_DATASET_FOLDER)"
   ]
  },
  {
   "cell_type": "code",
   "execution_count": 7,
   "metadata": {},
   "outputs": [
    {
     "name": "stdout",
     "output_type": "stream",
     "text": [
      "Converted 00_downloader.ipynb.\n",
      "Converted 01_references.ipynb.\n",
      "Converted 02_representations_and_lda.ipynb.\n",
      "Converted 03_hierarchical_topic_modelling.ipynb.\n",
      "Converted 04_lda2vec.ipynb.\n",
      "Converted 05_cook_artifacts.ipynb.\n",
      "Converted 06_GUI.ipynb.\n",
      "Converted 98_risotto_precook.ipynb.\n",
      "Converted 99_risotto_gui.ipynb.\n",
      "Converted index.ipynb.\n"
     ]
    }
   ],
   "source": [
    "# tell nbdev to generate library from notebooks\n",
    "from nbdev.export import *\n",
    "notebook2script()"
   ]
  },
  {
   "cell_type": "code",
   "execution_count": null,
   "metadata": {},
   "outputs": [],
   "source": []
  }
 ],
 "metadata": {
  "kernelspec": {
   "display_name": "Python 3",
   "language": "python",
   "name": "python3"
  },
  "language_info": {
   "codemirror_mode": {
    "name": "ipython",
    "version": 3
   },
   "file_extension": ".py",
   "mimetype": "text/x-python",
   "name": "python",
   "nbconvert_exporter": "python",
   "pygments_lexer": "ipython3",
   "version": "3.7.4"
  }
 },
 "nbformat": 4,
 "nbformat_minor": 4
}
