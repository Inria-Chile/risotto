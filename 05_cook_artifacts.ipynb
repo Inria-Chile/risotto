{
 "cells": [
  {
   "cell_type": "markdown",
   "metadata": {},
   "source": [
    "# Cooking RISOTTO artifacts\n",
    "\n",
    "This notebook purpose is to build the binary files used by RISOTTO's GUI.\n",
    "We'll need to build at least three Pandas DataFrames:\n",
    "\n",
    "- `papers`:\n",
    "contains the data of the papers, including the `cord_uid` identifier and the PageRank scores.\n",
    "\n",
    "- `papers_topics`:\n",
    "contains the associtaions between papers, topics, and subtopics.\n",
    "The papers are referenced by their `cord_uid` identifier.\n",
    "\n",
    "- `topics`:\n",
    "contains the word distributions of the different topics and subtopics.\n",
    "\n",
    "Each one of the previously defined DataFrames will be stored in a single HDF file named `risotto_data.hdf`."
   ]
  },
  {
   "cell_type": "code",
   "execution_count": 1,
   "metadata": {},
   "outputs": [],
   "source": [
    "# default_exp artifacts"
   ]
  },
  {
   "cell_type": "code",
   "execution_count": 4,
   "metadata": {},
   "outputs": [
    {
     "name": "stdout",
     "output_type": "stream",
     "text": [
      "The autoreload extension is already loaded. To reload it, use:\n",
      "  %reload_ext autoreload\n",
      "\u001b[33mYou are using pip version 19.0.3, however version 20.1 is available.\n",
      "You should consider upgrading via the 'pip install --upgrade pip' command.\u001b[0m\n"
     ]
    }
   ],
   "source": [
    "# Install dependencies\n",
    "%load_ext autoreload\n",
    "%autoreload 2\n",
    "!pip install -q -r requirements.txt"
   ]
  },
  {
   "cell_type": "code",
   "execution_count": 2,
   "metadata": {},
   "outputs": [],
   "source": [
    "import pandas as pd\n",
    "import networkx as nx\n",
    "\n",
    "from risotto.references import load_papers_from_metadata_file, process_references, build_papers_reference_graph\n",
    "\n",
    "\n",
    "CORD19_DATASET_FOLDER = \"./datasets/CORD-19-research-challenge\""
   ]
  },
  {
   "cell_type": "code",
   "execution_count": 4,
   "metadata": {},
   "outputs": [],
   "source": [
    "# exports\n",
    "\n",
    "def load_papers_metadata(dataset_folder):\n",
    "    metadata_df = pd.read_csv(\n",
    "        f\"{dataset_folder}/metadata.csv\",\n",
    "        index_col=\"cord_uid\"\n",
    "    )\n",
    "    return metadata_df\n",
    "\n",
    "\n",
    "def build_papers_artifact(dataset_folder, should_dump=True):\n",
    "    metadata_df = load_papers_metadata(dataset_folder)\n",
    "    papers, _ = load_papers_from_metadata_file(dataset_folder)\n",
    "    process_references(papers)\n",
    "    references_graph = build_papers_reference_graph(papers)\n",
    "    pagerank = nx.pagerank(references_graph)\n",
    "    \n",
    "    # Build PageRank DataFrame dict\n",
    "    pagerank_df_dict = {\"cord_uid\": [], \"pagerank\": []}\n",
    "    for paper, score in pagerank.items():\n",
    "        pagerank_df_dict[\"cord_uid\"].append(paper._metadata_row.name)\n",
    "        pagerank_df_dict[\"pagerank\"].append(score)\n",
    "    \n",
    "    pagerank_df = pd.DataFrame.from_dict(pagerank_df_dict)\n",
    "    pagerank_df = pagerank_df.set_index(\"cord_uid\")\n",
    "    \n",
    "    joined_df = pagerank_df.join(metadata_df)\n",
    "    unique_df = joined_df.loc[~joined_df.index.duplicated(keep='first')]\n",
    "    \n",
    "    if should_dump:\n",
    "        unique_df.to_hdf(\"artifacts.hdf\", key=\"papers\")\n",
    "    \n",
    "    return unique_df, pagerank_df, metadata_df\n",
    "\n",
    "\n",
    "def load_papers_artifact():\n",
    "    return pd.read_hdf(\"artifacts.hdf\", key=\"papers\")\n",
    "\n",
    "\n",
    "def build_papers_topics_artifact(dataset_folder, should_dump=True):\n",
    "    \"\"\"\n",
    "    TODO: Add code.\n",
    "    \"\"\"\n",
    "    \n",
    "    if should_dump:\n",
    "        joined_df.to_hdf(\"artifacts.hdf\", key=\"papers_topics\")\n",
    "    \n",
    "    return joined_df\n",
    "\n",
    "\n",
    "def load_papers_topics_artifacts():\n",
    "    return pd.read_hdf(\"artifacts.hdf\", key=\"papers_topics\")\n",
    "\n",
    "\n",
    "def build_topics_artifact(dataset_folder, should_dump=True):\n",
    "    \"\"\"\n",
    "    TODO: Add code.\n",
    "    \"\"\"\n",
    "    \n",
    "    if should_dump:\n",
    "        joined_df.to_hdf(\"artifacts.hdf\", key=\"topics\")\n",
    "    \n",
    "    return joined_df\n",
    "\n",
    "\n",
    "def load_topics_artifacts():\n",
    "    return pd.read_hdf(\"artifacts.hdf\", key=\"topics\")"
   ]
  },
  {
   "cell_type": "code",
   "execution_count": 5,
   "metadata": {},
   "outputs": [
    {
     "data": {
      "text/html": [
       "\n",
       "    <div>\n",
       "        <style>\n",
       "            /* Turns off some styling */\n",
       "            progress {\n",
       "                /* gets rid of default border in Firefox and Opera. */\n",
       "                border: none;\n",
       "                /* Needs to be in here for Safari polyfill so background images work as expected. */\n",
       "                background-size: auto;\n",
       "            }\n",
       "            .progress-bar-interrupted, .progress-bar-interrupted::-webkit-progress-bar {\n",
       "                background: #F44336;\n",
       "            }\n",
       "        </style>\n",
       "      <progress value='51078' class='' max='51078' style='width:300px; height:20px; vertical-align: middle;'></progress>\n",
       "      100.00% [51078/51078 01:34<00:00]\n",
       "    </div>\n",
       "    "
      ],
      "text/plain": [
       "<IPython.core.display.HTML object>"
      ]
     },
     "metadata": {},
     "output_type": "display_data"
    },
    {
     "data": {
      "text/html": [
       "\n",
       "    <div>\n",
       "        <style>\n",
       "            /* Turns off some styling */\n",
       "            progress {\n",
       "                /* gets rid of default border in Firefox and Opera. */\n",
       "                border: none;\n",
       "                /* Needs to be in here for Safari polyfill so background images work as expected. */\n",
       "                background-size: auto;\n",
       "            }\n",
       "            .progress-bar-interrupted, .progress-bar-interrupted::-webkit-progress-bar {\n",
       "                background: #F44336;\n",
       "            }\n",
       "        </style>\n",
       "      <progress value='38882' class='' max='38882' style='width:300px; height:20px; vertical-align: middle;'></progress>\n",
       "      100.00% [38882/38882 00:00<00:00]\n",
       "    </div>\n",
       "    "
      ],
      "text/plain": [
       "<IPython.core.display.HTML object>"
      ]
     },
     "metadata": {},
     "output_type": "display_data"
    },
    {
     "data": {
      "text/html": [
       "\n",
       "    <div>\n",
       "        <style>\n",
       "            /* Turns off some styling */\n",
       "            progress {\n",
       "                /* gets rid of default border in Firefox and Opera. */\n",
       "                border: none;\n",
       "                /* Needs to be in here for Safari polyfill so background images work as expected. */\n",
       "                background-size: auto;\n",
       "            }\n",
       "            .progress-bar-interrupted, .progress-bar-interrupted::-webkit-progress-bar {\n",
       "                background: #F44336;\n",
       "            }\n",
       "        </style>\n",
       "      <progress value='38882' class='' max='38882' style='width:300px; height:20px; vertical-align: middle;'></progress>\n",
       "      100.00% [38882/38882 00:01<00:00]\n",
       "    </div>\n",
       "    "
      ],
      "text/plain": [
       "<IPython.core.display.HTML object>"
      ]
     },
     "metadata": {},
     "output_type": "display_data"
    },
    {
     "name": "stderr",
     "output_type": "stream",
     "text": [
      "/home/rpalma/repos/risotto/risotto-notebooks/venv-risotto-notebooks/lib/python3.7/site-packages/pandas/core/generic.py:2505: PerformanceWarning: \n",
      "your performance may suffer as PyTables will pickle object types that it cannot\n",
      "map directly to c-types [inferred_type->mixed,key->block2_values] [items->Index(['sha', 'source_x', 'title', 'doi', 'pmcid', 'license', 'abstract',\n",
      "       'publish_time', 'authors', 'journal', 'WHO #Covidence',\n",
      "       'full_text_file', 'url'],\n",
      "      dtype='object')]\n",
      "\n",
      "  encoding=encoding,\n"
     ]
    }
   ],
   "source": [
    "papers_artifact, pagerank_df, metadata_df = build_papers_artifact(CORD19_DATASET_FOLDER)"
   ]
  },
  {
   "cell_type": "code",
   "execution_count": 15,
   "metadata": {},
   "outputs": [
    {
     "name": "stdout",
     "output_type": "stream",
     "text": [
      "Converted 00_downloader.ipynb.\n",
      "Converted 01_references.ipynb.\n",
      "Converted 02_representations_and_lda.ipynb.\n",
      "Converted 03_hierarchical_topic_modelling.ipynb.\n",
      "Converted 04_lda2vec.ipynb.\n",
      "Converted 05_cook_artifacts.ipynb.\n",
      "Converted 98_risotto_precook.ipynb.\n",
      "Converted 99_risotto_gui.ipynb.\n",
      "Converted index.ipynb.\n"
     ]
    }
   ],
   "source": [
    "# tell nbdev to generate library from notebooks\n",
    "from nbdev.export import *\n",
    "notebook2script()"
   ]
  }
 ],
 "metadata": {
  "kernelspec": {
   "display_name": "Python 3",
   "language": "python",
   "name": "python3"
  },
  "language_info": {
   "codemirror_mode": {
    "name": "ipython",
    "version": 3
   },
   "file_extension": ".py",
   "mimetype": "text/x-python",
   "name": "python",
   "nbconvert_exporter": "python",
   "pygments_lexer": "ipython3",
   "version": "3.7.4"
  }
 },
 "nbformat": 4,
 "nbformat_minor": 4
}
