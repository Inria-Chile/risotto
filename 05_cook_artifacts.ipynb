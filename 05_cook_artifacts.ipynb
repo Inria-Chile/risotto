{
 "cells": [
  {
   "cell_type": "markdown",
   "metadata": {},
   "source": [
    "# Cooking RISOTTO artifacts\n",
    "\n",
    "This notebook purpose is to build the binary files used by RISOTTO's GUI.\n",
    "We'll build three Pandas DataFrames:\n",
    "\n",
    "- `papers`:\n",
    "contains the data of the papers, including the `cord_uid` identifier and the PageRank scores.\n",
    "\n",
    "- `papers_topics`:\n",
    "contains the association between papers, topics, and subtopics.\n",
    "The papers are indexed by their `cord_uid` identifier.\n",
    "\n",
    "- `topics`:\n",
    "contains the token pseudocounts of the different topics and subtopics.\n",
    "\n",
    "Each one of the previously defined DataFrames will be stored in a single HDF file named `artifacts.hdf`."
   ]
  },
  {
   "cell_type": "code",
   "execution_count": 1,
   "metadata": {},
   "outputs": [],
   "source": [
    "# default_exp artifacts"
   ]
  },
  {
   "cell_type": "code",
   "execution_count": 2,
   "metadata": {},
   "outputs": [
    {
     "name": "stdout",
     "output_type": "stream",
     "text": [
      "\u001b[33mYou are using pip version 19.0.3, however version 20.1 is available.\r\n",
      "You should consider upgrading via the 'pip install --upgrade pip' command.\u001b[0m\r\n"
     ]
    }
   ],
   "source": [
    "# Install dependencies\n",
    "%load_ext autoreload\n",
    "%autoreload 2\n",
    "!pip install -q -r requirements.txt"
   ]
  },
  {
   "cell_type": "code",
   "execution_count": 3,
   "metadata": {},
   "outputs": [],
   "source": [
    "# export\n",
    "from pathlib import Path\n",
    "\n",
    "from fastprogress.fastprogress import progress_bar\n",
    "import pandas as pd\n",
    "import networkx as nx\n",
    "\n",
    "from risotto.references import load_papers_from_metadata_file, process_references, build_papers_reference_graph\n",
    "from risotto.lda import process_papers_file_contents\n",
    "from risotto.hierarchical_lda import fit_lda_model"
   ]
  },
  {
   "cell_type": "code",
   "execution_count": 4,
   "metadata": {},
   "outputs": [],
   "source": [
    "CORD19_DATASET_FOLDER = Path(\"./datasets/CORD-19-research-challenge\")"
   ]
  },
  {
   "cell_type": "code",
   "execution_count": 5,
   "metadata": {},
   "outputs": [],
   "source": [
    "# export\n",
    "\n",
    "def remove_duplicated_idxs(df):\n",
    "    df = df.loc[~df.index.duplicated(keep='first')]\n",
    "    return df\n",
    "\n",
    "\n",
    "def load_papers_metadata(dataset_folder):\n",
    "    metadata_df = pd.read_csv(\n",
    "        f\"{dataset_folder}/metadata.csv\",\n",
    "        index_col=\"cord_uid\"\n",
    "    )\n",
    "    return metadata_df\n",
    "\n",
    "\n",
    "def build_papers_artifact(dataset_folder, should_dump=True):\n",
    "    \"\"\"\n",
    "    Returns:\n",
    "        - `joined_df`: a DataFrame with the dataset metadata columns and the PageRank score\n",
    "            of each paper. The rows are indexed by the `cord_uid` identifier.\n",
    "    \"\"\"\n",
    "    metadata_df = remove_duplicated_idxs(load_papers_metadata(dataset_folder))\n",
    "    papers, _ = load_papers_from_metadata_file(dataset_folder)\n",
    "    process_references(papers)\n",
    "    references_graph = build_papers_reference_graph(papers)\n",
    "    pagerank = nx.pagerank(references_graph)\n",
    "    \n",
    "    # Build PageRank DataFrame dict\n",
    "    pagerank_df_dict = {\"cord_uid\": [], \"pagerank\": []}\n",
    "    for paper, score in pagerank.items():\n",
    "        pagerank_df_dict[\"cord_uid\"].append(paper._metadata_row.name)\n",
    "        pagerank_df_dict[\"pagerank\"].append(score)\n",
    "    \n",
    "    pagerank_df = pd.DataFrame.from_dict(pagerank_df_dict)\n",
    "    pagerank_df = remove_duplicated_idxs(pagerank_df.set_index(\"cord_uid\"))\n",
    "    \n",
    "    joined_df = pagerank_df.join(metadata_df)\n",
    "    \n",
    "    if should_dump:\n",
    "        joined_df.to_hdf(\"artifacts.hdf\", key=\"papers\")\n",
    "    \n",
    "    return joined_df, pagerank_df, metadata_df\n",
    "\n",
    "\n",
    "def load_papers_artifact():\n",
    "    return pd.read_hdf(\"artifacts.hdf\", key=\"papers\")\n",
    "\n",
    "\n",
    "def build_papers_topics_artifact(dataset_folder, should_dump=True):\n",
    "    \"\"\"\n",
    "    Returns:\n",
    "        - `papers_df`: a DataFrame. Each row represents a paper and has the following columns:\n",
    "            - `cord_uid`: index\n",
    "            - `text`: paper text\n",
    "            - `topic`: first-level topic identifier\n",
    "            - `subtopic`: second-level topic identifier\n",
    "        - `topics_df`: a DataFrame. Each row represents a token and has the following columns:\n",
    "            - `token`: index\n",
    "            - `{topic_id}`: token pseudocount in first-level topic {topic_id}\n",
    "            - `{topic_id}-{subtopic_id}`: token pseudocount in second-level {subtopic_id} of first-level {topic_id}.\n",
    "        NaNs values mean that the token wasn't considered in the topic modelling step.\n",
    "    \"\"\"\n",
    "    # Load the papers contents\n",
    "    papers, _ = load_papers_from_metadata_file(dataset_folder)\n",
    "    docs = process_papers_file_contents(papers)\n",
    "    \n",
    "    # Here we build a dataframe with the text of each dataset\n",
    "    # indexed by its own `cord_uid`\n",
    "    papers_df_dict = {\"cord_uid\": []}\n",
    "    for paper in papers:\n",
    "        papers_df_dict[\"cord_uid\"].append(paper._metadata_row.name)\n",
    "    papers_df_dict[\"text\"] = docs\n",
    "    papers_df = pd.DataFrame.from_dict(papers_df_dict)\n",
    "    papers_df = papers_df.set_index(\"cord_uid\")\n",
    "\n",
    "    # Fit the first level LDA model and classify the papers\n",
    "    lda, docs_vectorized, vectorizer = fit_lda_model(\n",
    "        papers_df[\"text\"].tolist(),\n",
    "        n_components=8,\n",
    "        n_jobs=4,\n",
    "    )\n",
    "    docs_classified = lda.transform(docs_vectorized)\n",
    "    docs_topics = docs_classified.argmax(1)\n",
    "    papers_df[\"topic\"] = docs_topics\n",
    "\n",
    "    # Fit the second level LDA models and classify the papers\n",
    "    sub_ldas = {}\n",
    "    sub_docs_vectorized = {}\n",
    "    sub_docs_topics = {}\n",
    "    sub_vectorizers = {}\n",
    "    for topic_id, group_df in progress_bar(papers_df.groupby(by=\"topic\")):\n",
    "        _sub_lda, _sub_docs_vectorized, _sub_vectorizer = fit_lda_model(\n",
    "            group_df[\"text\"].tolist(),\n",
    "            n_components=4,\n",
    "            n_jobs=4,\n",
    "        )\n",
    "        sub_ldas[topic_id] = _sub_lda\n",
    "        sub_docs_vectorized[topic_id] = _sub_docs_vectorized\n",
    "        group_topics = _sub_lda.transform(_sub_docs_vectorized).argmax(1)\n",
    "        sub_docs_topics[topic_id] = pd.Series(group_topics, index=group_df.index)\n",
    "        sub_vectorizers[topic_id] = _sub_vectorizer\n",
    "\n",
    "    papers_subtopics_list = list(sub_docs_topics.values())\n",
    "    papers_subtopics = remove_duplicated_idxs(pd.concat(papers_subtopics_list).rename(\"subtopic\"))\n",
    "    papers_df = remove_duplicated_idxs(papers_df.join(papers_subtopics))\n",
    "\n",
    "    # Next step is to build a DataFrame with each topic pseudocount\n",
    "    # of its tokens.\n",
    "    topics_df = pd.DataFrame(index=pd.Series(vectorizer.get_feature_names(), name=\"token\"))\n",
    "    for topic_idx, topic in enumerate(lda.components_):\n",
    "        topics_df[f\"{topic_idx}\"] = topic\n",
    "\n",
    "    subtopics_dfs = {}\n",
    "    for topic_idx, sub_lda in sub_ldas.items():\n",
    "        subtopic_df = pd.DataFrame(index=pd.Series(sub_vectorizers[topic_idx].get_feature_names(), name=\"token\"))\n",
    "        for subtopic_idx, subtopic in enumerate(sub_lda.components_):\n",
    "            subtopic_df[f\"{topic_idx}-{subtopic_idx}\"] = subtopic\n",
    "        subtopics_dfs[topic_idx] = subtopic_df\n",
    "\n",
    "    for subtopic_df in subtopics_dfs.values():\n",
    "        topics_df = topics_df.join(subtopic_df, how=\"outer\")\n",
    "    \n",
    "    if should_dump:\n",
    "        papers_df.to_hdf(\"artifacts.hdf\", key=\"papers_topics\")\n",
    "        topics_df.to_hdf(\"artifacts.hdf\", key=\"topics\")\n",
    "        \n",
    "    return papers_df, topics_df\n",
    "\n",
    "\n",
    "def load_papers_topics_artifacts():\n",
    "    return pd.read_hdf(\"artifacts.hdf\", key=\"papers_topics\")\n",
    "\n",
    "\n",
    "def load_topics_artifacts():\n",
    "    return pd.read_hdf(\"artifacts.hdf\", key=\"topics\")\n",
    "\n",
    "\n",
    "def build_artifacts(dataset_folder, should_dump=True):\n",
    "    metapagerank_df, _, _ = build_papers_artifact(dataset_folder, should_dump)\n",
    "    papers_df, topics_df = build_papers_topics_artifact(dataset_folder, should_dump)\n",
    "    return metapagerank_df, papers_df, topics_df\n",
    "    "
   ]
  },
  {
   "cell_type": "code",
   "execution_count": 6,
   "metadata": {},
   "outputs": [
    {
     "data": {
      "text/html": [
       "\n",
       "    <div>\n",
       "        <style>\n",
       "            /* Turns off some styling */\n",
       "            progress {\n",
       "                /* gets rid of default border in Firefox and Opera. */\n",
       "                border: none;\n",
       "                /* Needs to be in here for Safari polyfill so background images work as expected. */\n",
       "                background-size: auto;\n",
       "            }\n",
       "            .progress-bar-interrupted, .progress-bar-interrupted::-webkit-progress-bar {\n",
       "                background: #F44336;\n",
       "            }\n",
       "        </style>\n",
       "      <progress value='51078' class='' max='51078' style='width:300px; height:20px; vertical-align: middle;'></progress>\n",
       "      100.00% [51078/51078 01:38<00:00]\n",
       "    </div>\n",
       "    "
      ],
      "text/plain": [
       "<IPython.core.display.HTML object>"
      ]
     },
     "metadata": {},
     "output_type": "display_data"
    },
    {
     "data": {
      "text/html": [
       "\n",
       "    <div>\n",
       "        <style>\n",
       "            /* Turns off some styling */\n",
       "            progress {\n",
       "                /* gets rid of default border in Firefox and Opera. */\n",
       "                border: none;\n",
       "                /* Needs to be in here for Safari polyfill so background images work as expected. */\n",
       "                background-size: auto;\n",
       "            }\n",
       "            .progress-bar-interrupted, .progress-bar-interrupted::-webkit-progress-bar {\n",
       "                background: #F44336;\n",
       "            }\n",
       "        </style>\n",
       "      <progress value='38882' class='' max='38882' style='width:300px; height:20px; vertical-align: middle;'></progress>\n",
       "      100.00% [38882/38882 00:00<00:00]\n",
       "    </div>\n",
       "    "
      ],
      "text/plain": [
       "<IPython.core.display.HTML object>"
      ]
     },
     "metadata": {},
     "output_type": "display_data"
    },
    {
     "data": {
      "text/html": [
       "\n",
       "    <div>\n",
       "        <style>\n",
       "            /* Turns off some styling */\n",
       "            progress {\n",
       "                /* gets rid of default border in Firefox and Opera. */\n",
       "                border: none;\n",
       "                /* Needs to be in here for Safari polyfill so background images work as expected. */\n",
       "                background-size: auto;\n",
       "            }\n",
       "            .progress-bar-interrupted, .progress-bar-interrupted::-webkit-progress-bar {\n",
       "                background: #F44336;\n",
       "            }\n",
       "        </style>\n",
       "      <progress value='38882' class='' max='38882' style='width:300px; height:20px; vertical-align: middle;'></progress>\n",
       "      100.00% [38882/38882 00:01<00:00]\n",
       "    </div>\n",
       "    "
      ],
      "text/plain": [
       "<IPython.core.display.HTML object>"
      ]
     },
     "metadata": {},
     "output_type": "display_data"
    },
    {
     "name": "stderr",
     "output_type": "stream",
     "text": [
      "/home/rpalma/repos/risotto/risotto-notebooks/venv-risotto-notebooks/lib/python3.7/site-packages/pandas/core/generic.py:2505: PerformanceWarning: \n",
      "your performance may suffer as PyTables will pickle object types that it cannot\n",
      "map directly to c-types [inferred_type->mixed,key->block2_values] [items->Index(['sha', 'source_x', 'title', 'doi', 'pmcid', 'license', 'abstract',\n",
      "       'publish_time', 'authors', 'journal', 'WHO #Covidence',\n",
      "       'full_text_file', 'url'],\n",
      "      dtype='object')]\n",
      "\n",
      "  encoding=encoding,\n"
     ]
    },
    {
     "data": {
      "text/html": [
       "\n",
       "    <div>\n",
       "        <style>\n",
       "            /* Turns off some styling */\n",
       "            progress {\n",
       "                /* gets rid of default border in Firefox and Opera. */\n",
       "                border: none;\n",
       "                /* Needs to be in here for Safari polyfill so background images work as expected. */\n",
       "                background-size: auto;\n",
       "            }\n",
       "            .progress-bar-interrupted, .progress-bar-interrupted::-webkit-progress-bar {\n",
       "                background: #F44336;\n",
       "            }\n",
       "        </style>\n",
       "      <progress value='51078' class='' max='51078' style='width:300px; height:20px; vertical-align: middle;'></progress>\n",
       "      100.00% [51078/51078 01:46<00:00]\n",
       "    </div>\n",
       "    "
      ],
      "text/plain": [
       "<IPython.core.display.HTML object>"
      ]
     },
     "metadata": {},
     "output_type": "display_data"
    },
    {
     "data": {
      "text/html": [
       "\n",
       "    <div>\n",
       "        <style>\n",
       "            /* Turns off some styling */\n",
       "            progress {\n",
       "                /* gets rid of default border in Firefox and Opera. */\n",
       "                border: none;\n",
       "                /* Needs to be in here for Safari polyfill so background images work as expected. */\n",
       "                background-size: auto;\n",
       "            }\n",
       "            .progress-bar-interrupted, .progress-bar-interrupted::-webkit-progress-bar {\n",
       "                background: #F44336;\n",
       "            }\n",
       "        </style>\n",
       "      <progress value='38882' class='' max='38882' style='width:300px; height:20px; vertical-align: middle;'></progress>\n",
       "      100.00% [38882/38882 00:01<00:00]\n",
       "    </div>\n",
       "    "
      ],
      "text/plain": [
       "<IPython.core.display.HTML object>"
      ]
     },
     "metadata": {},
     "output_type": "display_data"
    },
    {
     "data": {
      "text/html": [
       "\n",
       "    <div>\n",
       "        <style>\n",
       "            /* Turns off some styling */\n",
       "            progress {\n",
       "                /* gets rid of default border in Firefox and Opera. */\n",
       "                border: none;\n",
       "                /* Needs to be in here for Safari polyfill so background images work as expected. */\n",
       "                background-size: auto;\n",
       "            }\n",
       "            .progress-bar-interrupted, .progress-bar-interrupted::-webkit-progress-bar {\n",
       "                background: #F44336;\n",
       "            }\n",
       "        </style>\n",
       "      <progress value='8' class='' max='8' style='width:300px; height:20px; vertical-align: middle;'></progress>\n",
       "      100.00% [8/8 01:57<00:00]\n",
       "    </div>\n",
       "    "
      ],
      "text/plain": [
       "<IPython.core.display.HTML object>"
      ]
     },
     "metadata": {},
     "output_type": "display_data"
    }
   ],
   "source": [
    "metapagerank_df, papers_df, topics_df = build_artifacts(CORD19_DATASET_FOLDER)"
   ]
  },
  {
   "cell_type": "code",
   "execution_count": 7,
   "metadata": {},
   "outputs": [
    {
     "name": "stdout",
     "output_type": "stream",
     "text": [
      "Converted 00_downloader.ipynb.\n",
      "Converted 01_references.ipynb.\n",
      "Converted 02_representations_and_lda.ipynb.\n",
      "Converted 03_hierarchical_topic_modelling.ipynb.\n",
      "Converted 04_lda2vec.ipynb.\n",
      "Converted 05_cook_artifacts.ipynb.\n",
      "Converted 98_risotto_precook.ipynb.\n",
      "Converted 99_risotto_gui.ipynb.\n",
      "Converted index.ipynb.\n"
     ]
    }
   ],
   "source": [
    "# tell nbdev to generate library from notebooks\n",
    "from nbdev.export import *\n",
    "notebook2script()"
   ]
  },
  {
   "cell_type": "code",
   "execution_count": null,
   "metadata": {},
   "outputs": [],
   "source": []
  }
 ],
 "metadata": {
  "kernelspec": {
   "display_name": "Python 3",
   "language": "python",
   "name": "python3"
  },
  "language_info": {
   "codemirror_mode": {
    "name": "ipython",
    "version": 3
   },
   "file_extension": ".py",
   "mimetype": "text/x-python",
   "name": "python",
   "nbconvert_exporter": "python",
   "pygments_lexer": "ipython3",
   "version": "3.7.4"
  }
 },
 "nbformat": 4,
 "nbformat_minor": 4
}
