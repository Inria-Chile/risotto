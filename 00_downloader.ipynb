{
 "cells": [
  {
   "cell_type": "markdown",
   "metadata": {},
   "source": [
    "<div align='left' style=\"width:29%;overflow:hidden;\">\n",
    "<a href='http://inria.fr'>\n",
    "<img src='https://github.com/lmarti/jupyter_custom/raw/master/imgs/inr_logo_rouge.png' alt='Inria logo' title='Inria logo'/>\n",
    "</a>\n",
    "</div>"
   ]
  },
  {
   "cell_type": "markdown",
   "metadata": {},
   "source": [
    "# CORD-19 dataset downloader "
   ]
  },
  {
   "cell_type": "markdown",
   "metadata": {},
   "source": [
    "> This notebook is meant to automate/simplify downloading the CORD-19 dataset from [kaggle.com](https://kaggle.com).\n",
    "\n",
    "* We rely on [Kaggle's Python API](https://github.com/Kaggle/kaggle-api). It should be already installed by our requirements.\n",
    "* In order for it to work you need:\n",
    "    - A Kaggle account (you will need it anyway to access the data).\n",
    "    - Configure your credentials so the API can authenticate (3 mins process).\n",
    "    - Follow instructions here: https://medium.com/@ankushchoubey/how-to-download-dataset-from-kaggle-7f700d7f9198"
   ]
  },
  {
   "cell_type": "markdown",
   "metadata": {},
   "source": [
    "Making sure that all requirements are installed."
   ]
  },
  {
   "cell_type": "code",
   "execution_count": null,
   "metadata": {},
   "outputs": [],
   "source": [
    "# default_exp downloader"
   ]
  },
  {
   "cell_type": "code",
   "execution_count": null,
   "metadata": {},
   "outputs": [],
   "source": [
    "# all_flag"
   ]
  },
  {
   "cell_type": "code",
   "execution_count": null,
   "metadata": {},
   "outputs": [],
   "source": [
    "# export\n",
    "# removing ugly pandas warning in macOS\n",
    "import warnings\n",
    "warnings.filterwarnings(\"ignore\", \".*lzma.*\")"
   ]
  },
  {
   "cell_type": "code",
   "execution_count": null,
   "metadata": {},
   "outputs": [],
   "source": [
    "# export\n",
    "from pathlib import Path\n",
    "\n",
    "import pandas as pd\n",
    "import kaggle"
   ]
  },
  {
   "cell_type": "markdown",
   "metadata": {},
   "source": [
    "Preparing destination folder"
   ]
  },
  {
   "cell_type": "code",
   "execution_count": null,
   "metadata": {},
   "outputs": [],
   "source": [
    "# export\n",
    "def download_cord19_dataset(target_path='./datasets/CORD-19-research-challenge'):\n",
    "    cord19_dataset_folder = Path(target_path)\n",
    "    cord19_dataset_folder.mkdir(parents=True, exist_ok=False)\n",
    "\n",
    "    print(\"Authenticating with kaggle.com...\")\n",
    "    kaggle.api.authenticate()\n",
    "\n",
    "    print(\"Proceeding to download the dataset. This might take a while.\")\n",
    "    kaggle.api.dataset_download_files('allen-institute-for-ai/CORD-19-research-challenge', \n",
    "                                      path=cord19_dataset_folder,\n",
    "                                      quiet=False,\n",
    "                                      unzip=True)\n",
    "\n",
    "    metadata_df = pd.read_csv(f\"{cord19_dataset_folder}/metadata.csv\", index_col=\"cord_uid\")\n",
    "    print(f'Total records loaded: {len(metadata_df)}')"
   ]
  },
  {
   "cell_type": "code",
   "execution_count": null,
   "metadata": {},
   "outputs": [
    {
     "name": "stdout",
     "output_type": "stream",
     "text": [
      "Authenticating with kaggle.com...\n",
      "Proceeding to download the dataset. This might take a while.\n"
     ]
    },
    {
     "name": "stderr",
     "output_type": "stream",
     "text": [
      "\r",
      "  0%|          | 0.00/4.37G [00:00<?, ?B/s]"
     ]
    },
    {
     "name": "stdout",
     "output_type": "stream",
     "text": [
      "Downloading CORD-19-research-challenge.zip to datasets/CORD-19-research-challenge\n"
     ]
    },
    {
     "name": "stderr",
     "output_type": "stream",
     "text": [
      "100%|██████████| 4.37G/4.37G [11:30<00:00, 6.79MB/s]\n"
     ]
    },
    {
     "name": "stdout",
     "output_type": "stream",
     "text": [
      "\n"
     ]
    },
    {
     "name": "stderr",
     "output_type": "stream",
     "text": [
      "/Users/lmarti/.pyenv/versions/3.8.2/envs/risotto/lib/python3.8/site-packages/IPython/core/interactiveshell.py:3263: DtypeWarning: Columns (1,5,6,13,14,15,16) have mixed types.Specify dtype option on import or set low_memory=False.\n",
      "  if (await self.run_code(code, result,  async_=asy)):\n"
     ]
    },
    {
     "name": "stdout",
     "output_type": "stream",
     "text": [
      "Total records loaded: 187938\n"
     ]
    }
   ],
   "source": [
    "# skiptest\n",
    "download_cord19_dataset()"
   ]
  },
  {
   "cell_type": "markdown",
   "metadata": {},
   "source": [
    "---"
   ]
  }
 ],
 "metadata": {
  "kernelspec": {
   "display_name": "Python 3",
   "language": "python",
   "name": "python3"
  }
 },
 "nbformat": 4,
 "nbformat_minor": 4
}
