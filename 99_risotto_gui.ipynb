{
 "cells": [
  {
   "cell_type": "code",
   "execution_count": 1,
   "metadata": {},
   "outputs": [],
   "source": [
    "from ipywidgets import AppLayout, Button, Layout, Tab, ToggleButtons, GridspecLayout, VBox, HBox\n",
    "from ipywidgets import Button, Layout, jslink, IntText, IntSlider, Accordion, Text, Label, HTML"
   ]
  },
  {
   "cell_type": "code",
   "execution_count": 2,
   "metadata": {},
   "outputs": [
    {
     "name": "stderr",
     "output_type": "stream",
     "text": [
      "/Users/lmarti/.pyenv/versions/risotto/lib/python3.8/site-packages/pandas/compat/__init__.py:117: UserWarning: Could not import the lzma module. Your installed Python is incomplete. Attempting to use lzma compression will result in a RuntimeError.\n",
      "  warnings.warn(msg)\n"
     ]
    }
   ],
   "source": [
    "import pandas as pd"
   ]
  },
  {
   "cell_type": "code",
   "execution_count": 3,
   "metadata": {},
   "outputs": [],
   "source": [
    "paper_topics = pd.read_hdf('data.hdf', key='paper_topics')"
   ]
  },
  {
   "cell_type": "code",
   "execution_count": 4,
   "metadata": {},
   "outputs": [],
   "source": [
    "# paper_topics"
   ]
  },
  {
   "cell_type": "code",
   "execution_count": 5,
   "metadata": {},
   "outputs": [],
   "source": [
    "topics = paper_topics.topic.unique()"
   ]
  },
  {
   "cell_type": "code",
   "execution_count": 6,
   "metadata": {},
   "outputs": [
    {
     "data": {
      "text/plain": [
       "array([0, 1, 2, 3, 4, 5, 6, 7, 8, 9], dtype=object)"
      ]
     },
     "execution_count": 6,
     "metadata": {},
     "output_type": "execute_result"
    }
   ],
   "source": [
    "topics"
   ]
  },
  {
   "cell_type": "code",
   "execution_count": 7,
   "metadata": {},
   "outputs": [],
   "source": [
    "def create_expanded_button(description, button_style):\n",
    "    return Button(description=description, button_style=button_style, layout=Layout(height='auto', width='auto'))"
   ]
  },
  {
   "cell_type": "code",
   "execution_count": 8,
   "metadata": {},
   "outputs": [],
   "source": [
    "header_button = create_expanded_button('Header', 'success')\n",
    "left_button = create_expanded_button('Left', 'info')\n",
    "center_button = create_expanded_button('Center', 'warning')\n",
    "right_button = create_expanded_button('Right', 'info')\n",
    "footer_button = create_expanded_button('Footer', 'success')"
   ]
  },
  {
   "cell_type": "code",
   "execution_count": 9,
   "metadata": {},
   "outputs": [],
   "source": [
    "\n",
    "t1 = Label(f'Topic 1')\n",
    "t2 = Label('Topic 2')\n",
    "accordion = Accordion(children=[t1, t2])\n",
    "accordion.set_title(0, 'Slider')\n",
    "accordion.set_title(1, 'Text')"
   ]
  },
  {
   "cell_type": "code",
   "execution_count": 10,
   "metadata": {},
   "outputs": [],
   "source": [
    "def paper_grid(paper):\n",
    "    \n",
    "    reference = f'{paper.authors} ({paper.pub_date}) {paper.title.strip()}'\n",
    "    abstract = str(paper.abstract)\n",
    "    \n",
    "    return reference, abstract"
   ]
  },
  {
   "cell_type": "code",
   "execution_count": 11,
   "metadata": {},
   "outputs": [],
   "source": [
    "papers_vboxes = {}"
   ]
  },
  {
   "cell_type": "code",
   "execution_count": 37,
   "metadata": {},
   "outputs": [],
   "source": [
    "for topic_id in topics:\n",
    "    papers = paper_topics[paper_topics.topic == topic_id].head(5)\n",
    "    \n",
    "    pairs = [paper_grid(row) for _, row in papers.iterrows()]\n",
    "    \n",
    "    contents = [Label(abstract) for _, abstract in pairs]\n",
    "    accordion = Accordion(children=contents)\n",
    "    \n",
    "    for i, (label,_) in enumerate(pairs):\n",
    "        accordion.set_title(i, label)\n",
    "    papers_vboxes[topic_id] = accordion"
   ]
  },
  {
   "cell_type": "code",
   "execution_count": 38,
   "metadata": {},
   "outputs": [],
   "source": [
    "tab = Tab(children=[papers_vboxes[topic_id] for topic_id in sorted(papers_vboxes.keys())])\n",
    "for i in range(len(tab.children)):\n",
    "    tab.set_title(i, f'Topic {i}')"
   ]
  },
  {
   "cell_type": "code",
   "execution_count": null,
   "metadata": {},
   "outputs": [],
   "source": [
    "Accordion(children=contents, )"
   ]
  },
  {
   "cell_type": "code",
   "execution_count": 39,
   "metadata": {},
   "outputs": [],
   "source": [
    "def updater(change):\n",
    "    if change['owner'].index:\n",
    "        topic_id = change['owner'].index\n",
    "        app.center = papers_vboxes[topic_id]\n",
    "        \n",
    "    footer_button.label = 'ttt'+str(change['owner'].index)"
   ]
  },
  {
   "cell_type": "code",
   "execution_count": 40,
   "metadata": {},
   "outputs": [],
   "source": [
    "a = ToggleButtons(\n",
    "    options=[f'Topic {topic_id}' for topic_id in topics],\n",
    "    description='',\n",
    "    disabled=False, \n",
    "    button_style='', # 'success', 'info', 'warning', 'danger' or ''\n",
    "    #tooltips=['Description of slow', 'Description of regular', 'Description of fast'],# icons=['check'] * 3\n",
    "    #layout=Layout(height='auto', width='auto')\n",
    ")"
   ]
  },
  {
   "cell_type": "code",
   "execution_count": 41,
   "metadata": {},
   "outputs": [],
   "source": [
    "a.observe(updater)"
   ]
  },
  {
   "cell_type": "code",
   "execution_count": 42,
   "metadata": {
    "scrolled": false
   },
   "outputs": [],
   "source": [
    "app=AppLayout(header=HTML('RISOTTO'),\n",
    "          left_sidebar=a,\n",
    "          center=papers_vboxes[0],\n",
    "          pane_widths=[1, 3, 3],\n",
    "          pane_heights=['45px', 5, '45px'],\n",
    "          #right_sidebar=right_button,\n",
    "          footer=footer_button)"
   ]
  },
  {
   "cell_type": "code",
   "execution_count": 43,
   "metadata": {
    "scrolled": false
   },
   "outputs": [
    {
     "data": {
      "application/vnd.jupyter.widget-view+json": {
       "model_id": "45c0c2765c5b4d79b0234e83b5781804",
       "version_major": 2,
       "version_minor": 0
      },
      "text/plain": [
       "AppLayout(children=(HTML(value='RISOTTO', layout=Layout(grid_area='header')), Button(button_style='success', d…"
      ]
     },
     "metadata": {},
     "output_type": "display_data"
    }
   ],
   "source": [
    "app"
   ]
  },
  {
   "cell_type": "code",
   "execution_count": 20,
   "metadata": {},
   "outputs": [],
   "source": [
    "# footer_button.label"
   ]
  },
  {
   "cell_type": "code",
   "execution_count": null,
   "metadata": {},
   "outputs": [],
   "source": []
  },
  {
   "cell_type": "code",
   "execution_count": null,
   "metadata": {},
   "outputs": [],
   "source": [
    "def paper_gridA(paper):\n",
    "    #grid = GridspecLayout(n_rows=7, n_columns=2, justify_content='space-around', align_items='flex-start')\n",
    "    \n",
    "    grid[0,0] = Label('Title:', layout=Layout(height='auto', width='20%'))\n",
    "    grid[0,1] = Label(paper.title)\n",
    "    \n",
    "    grid[1,0] = Label('Authors:')\n",
    "    grid[1,1] = Label(paper.authors)\n",
    "    \n",
    "    grid[2,0] = Label('Date:', layout=Layout(height='auto', width='20%'))\n",
    "    grid[2,1] = Label(paper.pub_date)\n",
    "    grid[3,0] = Label('Relevance:', layout=Layout(height='auto', width='20%'))\n",
    "    grid[3,1] = Label(str(paper.relevance))\n",
    "    grid[4,0] = Label('URL:',layout=Layout(height='auto', width='20%'))\n",
    "    grid[4,1] = HTML(f'<a href=\"{paper.url}\">{paper.url}</a>')\n",
    "    grid[5,0] = Label('DOI:',layout=Layout(height='auto', width='20%'))\n",
    "    grid[5,1] = Label(f'{paper.doi}')\n",
    "    grid[6,0] = Label('Abstract:', layout=Layout(height='auto', width='20%'))\n",
    "    grid[6,1] = Label(str(paper.abstract))\n",
    "    \n",
    "    return grid"
   ]
  }
 ],
 "metadata": {
  "kernelspec": {
   "display_name": "Python 3.8.2 64-bit ('risotto': venv)",
   "language": "python",
   "name": "python38264bitrisottovenv582be2314c5f42eab2123d4127b9e107"
  },
  "language_info": {
   "codemirror_mode": {
    "name": "ipython",
    "version": 3
   },
   "file_extension": ".py",
   "mimetype": "text/x-python",
   "name": "python",
   "nbconvert_exporter": "python",
   "pygments_lexer": "ipython3",
   "version": "3.8.2"
  }
 },
 "nbformat": 4,
 "nbformat_minor": 4
}
