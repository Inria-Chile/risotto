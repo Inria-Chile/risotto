{
 "cells": [
  {
   "cell_type": "code",
   "execution_count": 1,
   "metadata": {},
   "outputs": [],
   "source": [
    "from ipywidgets import GridspecLayout, Layout, Label, Box, HBox, VBox, HTML, widgets, Button\n",
    "from IPython.display import display\n",
    "\n",
    "from risotto.artifacts import load_papers_artifact, load_papers_topics_artifacts, load_topics_artifacts"
   ]
  },
  {
   "cell_type": "code",
   "execution_count": 2,
   "metadata": {},
   "outputs": [
    {
     "data": {
      "application/vnd.jupyter.widget-view+json": {
       "model_id": "c60938c888664fbe8c3a0c67a3cf5095",
       "version_major": 2,
       "version_minor": 0
      },
      "text/plain": [
       "VBox(children=(HBox(children=(Dropdown(description='Tópico:', options=('Todos', 'A', 'B', 'C', 'D'), value='To…"
      ]
     },
     "metadata": {},
     "output_type": "display_data"
    }
   ],
   "source": [
    "papers_artifact = load_papers_artifact()\n",
    "papers_topics_artifact = load_papers_topics_artifacts()\n",
    "topics_artifact = load_topics_artifacts()\n",
    "\n",
    "# Mock topics and subtopics data\n",
    "topics = [\"A\", \"B\", \"C\", \"D\"]\n",
    "subtopics = {\n",
    "    \"Todos\": [],\n",
    "    \"A\": [\"A1\", \"A2\"],\n",
    "    \"B\": [\"B1\", \"B2\"],\n",
    "    \"C\": [\"C1\", \"C2\"],\n",
    "    \"D\": [\"D1\", \"D2\"],\n",
    "}\n",
    "\n",
    "# Instantiate filter & search widgets\n",
    "dropdown_layout = Layout()\n",
    "topics_dropdown = widgets.Dropdown(\n",
    "    options=[\"Todos\"] + topics,\n",
    "    description=\"Tópico:\",\n",
    "    layout=dropdown_layout,\n",
    ")\n",
    "subtopics_dropdown = widgets.Dropdown(\n",
    "    options=[\"Todos\"] + subtopics[topics_dropdown.value],\n",
    "    description=\"Subtópico:\",\n",
    "    layout=dropdown_layout,\n",
    ")\n",
    "search_textbox = widgets.Text(\n",
    "    description=\"Búsqueda:\",\n",
    ")\n",
    "search_button = widgets.Button(\n",
    "    description=\"Filtrar\",\n",
    ")\n",
    "dropdowns_box = HBox([\n",
    "    topics_dropdown,\n",
    "    subtopics_dropdown,\n",
    "])\n",
    "search_box = HBox([\n",
    "    search_textbox,\n",
    "    search_button,\n",
    "])\n",
    "filter_and_search_box = VBox([\n",
    "    dropdowns_box,\n",
    "    search_box,\n",
    "])\n",
    "\n",
    "# Event handlers\n",
    "def handle_topic_change(event):\n",
    "    if event[\"type\"] == \"change\" and event[\"name\"] == \"value\":\n",
    "        subtopics_dropdown.options = [\"Todos\"] + subtopics[event[\"new\"]]\n",
    "\n",
    "def handle_subtopic_change(event):\n",
    "    if event[\"type\"] == \"change\" and event[\"name\"] == \"value\":\n",
    "        pass\n",
    "\n",
    "topics_dropdown.observe(handle_topic_change)\n",
    "subtopics_dropdown.observe(handle_subtopic_change)\n",
    "\n",
    "filter_and_search_box"
   ]
  },
  {
   "cell_type": "code",
   "execution_count": 3,
   "metadata": {},
   "outputs": [
    {
     "data": {
      "application/vnd.jupyter.widget-view+json": {
       "model_id": "6b8d72f7262345e6808211d9da86e16c",
       "version_major": 2,
       "version_minor": 0
      },
      "text/plain": [
       "Box(children=(VBox(children=(GridspecLayout(children=(Label(value='Title:', layout=Layout(grid_area='widget001…"
      ]
     },
     "metadata": {},
     "output_type": "display_data"
    }
   ],
   "source": [
    "class PaperView:\n",
    "    def __init__(self, row):\n",
    "        self._row = row\n",
    "        \n",
    "    def to_widget(self):\n",
    "        grid = GridspecLayout(n_rows=7, n_columns=2, justify_content='space-around', align_items='flex-start')\n",
    "\n",
    "        grid[0,0] = Label('Title:', layout=Layout(height='auto', width='20%'))\n",
    "        grid[0,1] = Label(self._row.title)\n",
    "\n",
    "        grid[1,0] = Label('Authors:')\n",
    "        grid[1,1] = Label(self._row.authors)\n",
    "\n",
    "        grid[2,0] = Label('Date:', layout=Layout(height='auto', width='20%'))\n",
    "        grid[2,1] = Label(self._row.publish_time)\n",
    "        grid[3,0] = Label('Relevance:', layout=Layout(height='auto', width='20%'))\n",
    "        grid[3,1] = Label(str(self._row.pagerank))\n",
    "        grid[4,0] = Label('URL:',layout=Layout(height='auto', width='20%'))\n",
    "        grid[4,1] = HTML(f'<a href=\"{self._row.url}\">{self._row.url}</a>')\n",
    "        grid[5,0] = Label('DOI:',layout=Layout(height='auto', width='20%'))\n",
    "        grid[5,1] = Label(f'{self._row.doi}')\n",
    "        grid[6,0] = Label('Abstract:', layout=Layout(height='auto', width='20%'))\n",
    "        grid[6,1] = Label(str(self._row.abstract))\n",
    "\n",
    "        return grid\n",
    "\n",
    "    \n",
    "class PaperSetView:\n",
    "    def __init__(self, papers, page, items_per_page, parent):\n",
    "        self._papers = papers\n",
    "        self._page = page\n",
    "        self._items_per_page = items_per_page\n",
    "        self._parent = parent\n",
    "        self._papers_views = self.build_papers_views(papers, page, items_per_page)\n",
    "        \n",
    "        self._parent.children = [self.to_widget()]\n",
    "    \n",
    "    def _decrement_page(self, _):\n",
    "        self._page += -1\n",
    "        self._papers_views = self.build_papers_views(self._papers, self._page, self._items_per_page)\n",
    "        self._parent.children = [self.to_widget()]\n",
    "    \n",
    "    def _increment_page(self, _):\n",
    "        self._page += 1\n",
    "        self._papers_views = self.build_papers_views(self._papers, self._page, self._items_per_page)\n",
    "        self._parent.children = [self.to_widget()]\n",
    "    \n",
    "    @staticmethod\n",
    "    def build_papers_views(papers, page, items_per_page):\n",
    "        start_idx, end_idx = page * items_per_page, (page + 1) * items_per_page\n",
    "        page_subset = papers.iloc[start_idx:end_idx]\n",
    "        return [PaperView(row) for _, row in page_subset.iterrows()]\n",
    "    \n",
    "    @staticmethod\n",
    "    def get_nav_widgets(page, items_per_page, num_items, decrement_handler, increment_handler):\n",
    "        last_page = num_items // items_per_page\n",
    "        widgets = []\n",
    "        if page > 0:\n",
    "            button = Button(description=\"Página anterior\")\n",
    "            button.on_click(decrement_handler)\n",
    "            widgets.append(button)\n",
    "        widgets.append(HTML(f\"Página {page + 1} de {last_page + 1}. Mostrando {items_per_page} elementos por página.\"))\n",
    "        if page < last_page:\n",
    "            button = Button(description=\"Página siguiente\")\n",
    "            button.on_click(increment_handler)\n",
    "            widgets.append(button)\n",
    "        return HBox(widgets)\n",
    "    \n",
    "    def to_widget(self):\n",
    "        papers_widgets = [view.to_widget() for view in self._papers_views]\n",
    "        nav_widgets = self.get_nav_widgets(\n",
    "            page=self._page,\n",
    "            items_per_page=self._items_per_page,\n",
    "            num_items=len(self._papers),\n",
    "            decrement_handler=self._decrement_page,\n",
    "            increment_handler=self._increment_page\n",
    "        )\n",
    "        box = VBox(papers_widgets + [nav_widgets])\n",
    "        return box\n",
    "\n",
    "box = Box()\n",
    "paper_set_view = PaperSetView(papers_artifact, page=0, items_per_page=5, parent=box)\n",
    "\n",
    "box"
   ]
  },
  {
   "cell_type": "code",
   "execution_count": 4,
   "metadata": {},
   "outputs": [
    {
     "data": {
      "text/plain": [
       "'\\nTODO:\\n- Integrar y encapsular componentes de filtro y búsqueda\\n- Integrar Whoosh para la búsqueda\\n- Hacer encabezado\\n'"
      ]
     },
     "execution_count": 4,
     "metadata": {},
     "output_type": "execute_result"
    }
   ],
   "source": [
    "\"\"\"\n",
    "TODO:\n",
    "- Integrar y encapsular componentes de filtro y búsqueda\n",
    "- Integrar Whoosh para la búsqueda\n",
    "- Hacer encabezado\n",
    "\"\"\""
   ]
  }
 ],
 "metadata": {
  "kernelspec": {
   "display_name": "Python 3",
   "language": "python",
   "name": "python3"
  },
  "language_info": {
   "codemirror_mode": {
    "name": "ipython",
    "version": 3
   },
   "file_extension": ".py",
   "mimetype": "text/x-python",
   "name": "python",
   "nbconvert_exporter": "python",
   "pygments_lexer": "ipython3",
   "version": "3.7.4"
  }
 },
 "nbformat": 4,
 "nbformat_minor": 4
}
